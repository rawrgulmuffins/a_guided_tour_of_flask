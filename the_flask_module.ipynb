{
 "cells": [
  {
   "cell_type": "markdown",
   "metadata": {
    "slideshow": {
     "slide_type": "slide"
    }
   },
   "source": [
    "Hello World,\n",
    "\n",
    "My name is Alex Lord (soon to be LordThorsen) and I'm going to be talking about Flask.\n",
    "\n",
    "You can find this presentation at [https://github.com/rawrgulmuffins/a_guided_tour_of_flask.git](https://github.com/rawrgulmuffins/a_guided_tour_of_flask.git)"
   ]
  },
  {
   "cell_type": "markdown",
   "metadata": {
    "slideshow": {
     "slide_type": "subslide"
    }
   },
   "source": [
    "#Topics:\n",
    "* [Why Flask?](#Why-Flask?)\n",
    "* [How Do I Use Flask?](#How-Do-I-Use-Flask?)\n",
    "* [Flask And SSL?](#Flask-With-SSL?)\n",
    "* [So what is a route?](#So-what-is-a-route?)\n",
    "* [By Default There is No Support For](#By-Default-There-is-No-Support-For)\n",
    "* [Ints in my routes?](#Ints-in-my-routes?)\n",
    "* [Flask Debug Console](#Flask-Debug-Console)\n",
    "* [Flask's auto reloading](#Flask's-auto-reloading)\n",
    "* [Route Name Collisions](#Route-Function-Name-Collisions)\n",
    "* [Routes With URL Conflict](#Routes-With-URL-Conflicts)\n",
    "* [The Route Order of Precedent](#The-Route-Order-of-Precedent)\n",
    "* [What do Routes Return?](#What-do-Routes-Return?)\n",
    "* [JSON Returns](#JSON-Returns)\n",
    "* [Explicit Response](#Explicit-Response)\n",
    "* [What Types Can't Be Returned](#What-Types-Can't-Be-Returned)\n",
    "* [Template Errors](#Template-Errors)\n",
    "* [Forgotten Arguments?](#Forgotten-Arguments?)\n",
    "* [Requests](#Requests)\n",
    "* [Sessions](#Sessions)\n",
    "* [The g Object](#The-g-Object)\n",
    "* [Where do I go From here?](#Where-do-I-go-from-here?)"
   ]
  },
  {
   "cell_type": "markdown",
   "metadata": {
    "slideshow": {
     "slide_type": "slide"
    }
   },
   "source": [
    "#IPython Wat?\n",
    "There's really only two things you need to know in order to use this notebook\n",
    "\n",
    "##Running a Cell\n",
    "* pressing shift-enter will run a cell. \n",
    "\n",
    "For most of the examples in this notebook this will start a web server which will never halt. In order to move on to the next example (since only one cell can run at a time)\n",
    "\n",
    "* pressing the `i` key twice will interrupt the IPython kernal. \n",
    "\n",
    "Interrupting the kernal will allow you to move on to the next example."
   ]
  },
  {
   "cell_type": "markdown",
   "metadata": {
    "slideshow": {
     "slide_type": "slide"
    }
   },
   "source": [
    "#Why Flask?\n",
    "Flask is one of the many easy-to-use web frameworks that Python can boast of. During this guided tour, using live examples, we'll cover what you need to get started with Flask.\n",
    "\n",
    "Flask itself is simple and clean. It is effortless to carve out production worthy applications. The tour includes an example project which contains 588 lines of code, of which 231 are tests and 51 are project configuration that were written in 6 hours. Flask also lets you start writing code with just three lines of boilerplate."
   ]
  },
  {
   "cell_type": "markdown",
   "metadata": {
    "slideshow": {
     "slide_type": "skip"
    }
   },
   "source": [
    "[The flaskr example page](https://github.com/mitsuhiko/flask/blob/master/examples/flaskr/flaskr.py) is a fully functional blog (logins, logouts, page addition, homepage) in 110 lines of code backed by a sqlite3 database.\n",
    "\n",
    "Flask is also just an [amazing code base](https://github.com/mitsuhiko/flask). There has been more then one occuasion where I've looked at the source code to answer a question and it's always a pleasant experience."
   ]
  },
  {
   "cell_type": "markdown",
   "metadata": {
    "slideshow": {
     "slide_type": "skip"
    }
   },
   "source": [
    "The Flask community is also active and rabid. [The extensions library is filled with Gem's](http://flask.pocoo.org/extensions/) like [Flask-Cache](https://pythonhosted.org/Flask-Cache/), [Flask-DebugToolbar](http://flask.pocoo.org/extensions/), [Flask-lesscss](https://pypi.python.org/pypi/flask-lesscss), [Flask-login](https://pypi.python.org/pypi/Flask-Login), [Flask-WTF](https://pypi.python.org/pypi/Flask-WTF)and [Flask-SQlAlchemy](https://pypi.python.org/pypi/Flask-SQLAlchemy).\n",
    "\n",
    "If no one has made a Flask Extension that suits your needs then [creating an extension](http://flask.pocoo.org/docs/0.10/extensiondev/) requires about an hour worth of reading, a `setup.py` file, and  a class that modifies an instance of a `flask.Flask` object.\n",
    "\n",
    "Lastly, I believe my strongest argument for why Flask is a great web framework is myself. I am not a web programmer but Flask is built in a well organized modular fashion. Flask organizes the complexity of web development to the point where I have been able to tackle things in bite sized chunks. "
   ]
  },
  {
   "cell_type": "markdown",
   "metadata": {
    "slideshow": {
     "slide_type": "slide"
    }
   },
   "source": [
    "#How Do I Use Flask?\n",
    "\n",
    "The app object is really the heart of flask. All extensions modify the app object and almost all of the flask magic comes from calling methods in the app object.\n"
   ]
  },
  {
   "cell_type": "code",
   "execution_count": null,
   "metadata": {
    "collapsed": true,
    "slideshow": {
     "slide_type": "fragment"
    }
   },
   "outputs": [],
   "source": [
    "from flask import Flask\n",
    "app = Flask(\"the_flask_module\")"
   ]
  },
  {
   "cell_type": "markdown",
   "metadata": {
    "slideshow": {
     "slide_type": "fragment"
    }
   },
   "source": [
    "In the app object (rather, in an instance of the flask class) there's a `@app.route` decorator.\n",
    "[If you've never seen decorators (the @app syntax) before then this is a good tutorial to read at your leasure.](http://thecodeship.com/patterns/guide-to-python-function-decorators/)\n",
    "\n",
    "Putting that all together we have a basic hello world."
   ]
  },
  {
   "cell_type": "code",
   "execution_count": 2,
   "metadata": {
    "collapsed": true,
    "slideshow": {
     "slide_type": "subslide"
    }
   },
   "outputs": [],
   "source": [
    "from flask import Flask\n",
    "app = Flask(\"the_flask_module\")\n",
    "\n",
    "@app.route(\"/\")\n",
    "def home_page():\n",
    "    return \"Hello World!\"\n",
    "\n",
    "# app.run is a blocking call. You can't run\n",
    "# Multiple cells because app.run will never \n",
    "# halt. Press the stop button or i twice\n",
    "# to interrupt a cell.\n",
    "app.run(host=\"0.0.0.0\", port=5000)"
   ]
  },
  {
   "cell_type": "markdown",
   "metadata": {
    "slideshow": {
     "slide_type": "fragment"
    }
   },
   "source": [
    "[Our First Flask Route!](http://localhost:5000/)"
   ]
  },
  {
   "cell_type": "markdown",
   "metadata": {
    "slideshow": {
     "slide_type": "slide"
    }
   },
   "source": [
    "#Flask With SSL?\n",
    "For this example we will generate a self signed cert"
   ]
  },
  {
   "cell_type": "code",
   "execution_count": 3,
   "metadata": {
    "collapsed": false,
    "slideshow": {
     "slide_type": "fragment"
    }
   },
   "outputs": [
    {
     "name": "stdout",
     "output_type": "stream",
     "text": [
      "Generating RSA private key, 1024 bit long modulus\n",
      "....................++++++\n",
      "........................................................................++++++\n",
      "e is 65537 (0x10001)\n",
      "You are about to be asked to enter information that will be incorporated\n",
      "into your certificate request.\n",
      "What you are about to enter is what is called a Distinguished Name or a DN.\n",
      "There are quite a few fields but you can leave some blank\n",
      "For some fields there will be a default value,\n",
      "If you enter '.', the field will be left blank.\n",
      "-----\n",
      "Country Name (2 letter code) [AU]:State or Province Name (full name) [Some-State]:Locality Name (eg, city) []:Organization Name (eg, company) [Internet Widgits Pty Ltd]:Organizational Unit Name (eg, section) []:Common Name (e.g. server FQDN or YOUR name) []:Email Address []:"
     ]
    }
   ],
   "source": [
    "!openssl genrsa 1024 > ssl.key\n",
    "!printf \"US\\nWA\\nSeattle\\nIsilon\\n\\n\\n\\n\" | openssl req -new -x509 -nodes -sha1 -days 365 -key ssl.key > ssl.cert"
   ]
  },
  {
   "cell_type": "markdown",
   "metadata": {
    "slideshow": {
     "slide_type": "subslide"
    }
   },
   "source": [
    "##Add The SSL Context"
   ]
  },
  {
   "cell_type": "code",
   "execution_count": 5,
   "metadata": {
    "collapsed": true,
    "slideshow": {
     "slide_type": "fragment"
    }
   },
   "outputs": [],
   "source": [
    "import ssl\n",
    "ctx = ssl.SSLContext(ssl.PROTOCOL_SSLv23)\n",
    "ctx.load_cert_chain('ssl.cert', 'ssl.key')\n",
    "\n",
    "app = Flask(\"the_flask_module\")\n",
    "\n",
    "@app.route(\"/\") # This is some decorator magic. Please ask if you need it explained.\n",
    "def home_page():\n",
    "    return \"Hello World\"\n",
    "\n",
    "app.run(host=\"0.0.0.0\", port=5000, ssl_context=ctx)"
   ]
  },
  {
   "cell_type": "markdown",
   "metadata": {
    "slideshow": {
     "slide_type": "fragment"
    }
   },
   "source": [
    "[Flask with 100% more SSL!](https://localhost:5000/)"
   ]
  },
  {
   "cell_type": "markdown",
   "metadata": {
    "slideshow": {
     "slide_type": "subslide"
    }
   },
   "source": [
    "## If You're Interested In The Request / Reponse Life Cycle\n",
    "[If you're super duper interested in the full view of a request and response HTTP life cycle you can checkout this repository by Alex Gayner](https://github.com/alex/what-happens-when)"
   ]
  },
  {
   "cell_type": "markdown",
   "metadata": {
    "slideshow": {
     "slide_type": "slide"
    }
   },
   "source": [
    "#More Route Examples"
   ]
  },
  {
   "cell_type": "code",
   "execution_count": 7,
   "metadata": {
    "collapsed": false,
    "slideshow": {
     "slide_type": "fragment"
    }
   },
   "outputs": [
    {
     "name": "stderr",
     "output_type": "stream",
     "text": [
      "Traceback (most recent call last):\n",
      "  File \"/usr/local/Cellar/python3/3.4.2_1/Frameworks/Python.framework/Versions/3.4/lib/python3.4/socketserver.py\", line 305, in _handle_request_noblock\n",
      "    self.process_request(request, client_address)\n",
      "  File \"/usr/local/Cellar/python3/3.4.2_1/Frameworks/Python.framework/Versions/3.4/lib/python3.4/socketserver.py\", line 331, in process_request\n",
      "    self.finish_request(request, client_address)\n",
      "  File \"/usr/local/Cellar/python3/3.4.2_1/Frameworks/Python.framework/Versions/3.4/lib/python3.4/socketserver.py\", line 344, in finish_request\n",
      "    self.RequestHandlerClass(request, client_address, self)\n",
      "  File \"/usr/local/Cellar/python3/3.4.2_1/Frameworks/Python.framework/Versions/3.4/lib/python3.4/socketserver.py\", line 669, in __init__\n",
      "    self.handle()\n",
      "  File \"/Users/alexlord/.virtualenvs/flask_brownbag/lib/python3.4/site-packages/werkzeug/serving.py\", line 203, in handle\n",
      "    rv = BaseHTTPRequestHandler.handle(self)\n",
      "  File \"/usr/local/Cellar/python3/3.4.2_1/Frameworks/Python.framework/Versions/3.4/lib/python3.4/http/server.py\", line 398, in handle\n",
      "    self.handle_one_request()\n"
     ]
    },
    {
     "name": "stdout",
     "output_type": "stream",
     "text": [
      "----------------------------------------\n",
      "Exception happened during processing of request from ('127.0.0.1', 54039)\n",
      "----------------------------------------\n"
     ]
    },
    {
     "name": "stderr",
     "output_type": "stream",
     "text": [
      "  File \"/Users/alexlord/.virtualenvs/flask_brownbag/lib/python3.4/site-packages/werkzeug/serving.py\", line 234, in handle_one_request\n",
      "    self.raw_requestline = self.rfile.readline()\n",
      "  File \"/usr/local/Cellar/python3/3.4.2_1/Frameworks/Python.framework/Versions/3.4/lib/python3.4/socket.py\", line 371, in readinto\n",
      "    return self._sock.recv_into(b)\n",
      "KeyboardInterrupt\n"
     ]
    }
   ],
   "source": [
    "app = Flask(\"the_flask_module\")\n",
    "\n",
    "# Let's look at some of the things that you can do with routes.\n",
    "@app.route(\"/hello\")\n",
    "def hello_page():\n",
    "    return \"I'm a hello page\"\n",
    "\n",
    "# You can go up to the HTML URL lenght limit of 2000 characters\n",
    "# http://stackoverflow.com/questions/417142/what-is-the-maximum-length-of-a-url-in-different-browsers\n",
    "@app.route(\"/hello/one_step_deeper\")\n",
    "def hello_deeper():\n",
    "    return \"I'm a hello page\"\n",
    "\n",
    "# the_last_slash_is_optional\n",
    "@app.route(\"/hello/optional_slash/\")\n",
    "def optional_extra_slash():\n",
    "    return \"I can haz a slash\"\n",
    "\n",
    "# Can't have slash\n",
    "@app.route(\"/hello/no_slash\")\n",
    "def no_extra_slash():\n",
    "    return \"No slash for you.\"\n",
    "\n",
    "app.run(host=\"0.0.0.0\", port=5000)"
   ]
  },
  {
   "cell_type": "markdown",
   "metadata": {
    "slideshow": {
     "slide_type": "fragment"
    }
   },
   "source": [
    "[Hello example](http://localhost:5000/hello)\n",
    "\n",
    "[Hello one step deeper example](http://localhost:5000/hello/one_step_deeper)\n",
    "\n",
    "[Optional slash example](http://localhost:5000/hello/optional_slash/)\n",
    "\n",
    "[No slash example](http://localhost:5000/hello/no_slash)"
   ]
  },
  {
   "cell_type": "markdown",
   "metadata": {
    "slideshow": {
     "slide_type": "slide"
    }
   },
   "source": [
    "##More Route Examples"
   ]
  },
  {
   "cell_type": "code",
   "execution_count": 10,
   "metadata": {
    "collapsed": false,
    "slideshow": {
     "slide_type": "fragment"
    }
   },
   "outputs": [
    {
     "name": "stderr",
     "output_type": "stream",
     "text": [
      "ERROR:the_flask_module:Exception on /1/0 [GET]\n",
      "Traceback (most recent call last):\n",
      "  File \"/Users/alexlord/.virtualenvs/flask_brownbag/lib/python3.4/site-packages/flask/app.py\", line 1817, in wsgi_app\n",
      "    response = self.full_dispatch_request()\n",
      "  File \"/Users/alexlord/.virtualenvs/flask_brownbag/lib/python3.4/site-packages/flask/app.py\", line 1477, in full_dispatch_request\n",
      "    rv = self.handle_user_exception(e)\n",
      "  File \"/Users/alexlord/.virtualenvs/flask_brownbag/lib/python3.4/site-packages/flask/app.py\", line 1381, in handle_user_exception\n",
      "    reraise(exc_type, exc_value, tb)\n",
      "  File \"/Users/alexlord/.virtualenvs/flask_brownbag/lib/python3.4/site-packages/flask/_compat.py\", line 33, in reraise\n",
      "    raise value\n",
      "  File \"/Users/alexlord/.virtualenvs/flask_brownbag/lib/python3.4/site-packages/flask/app.py\", line 1475, in full_dispatch_request\n",
      "    rv = self.dispatch_request()\n",
      "  File \"/Users/alexlord/.virtualenvs/flask_brownbag/lib/python3.4/site-packages/flask/app.py\", line 1461, in dispatch_request\n",
      "    return self.view_functions[rule.endpoint](**req.view_args)\n",
      "  File \"<ipython-input-10-b6d9b41db437>\", line 16, in div_ints\n",
      "    return \"{}\".format(int_left / int_right)\n",
      "ZeroDivisionError: division by zero\n"
     ]
    }
   ],
   "source": [
    "app = Flask(\"the_flask_module\")\n",
    "\n",
    "# variables\n",
    "@app.route('/<text_to_echo>/')\n",
    "def echo(text_to_echo):\n",
    "    return \"echo {}\".format(text_to_echo)\n",
    "\n",
    "# variables but only ints\n",
    "@app.route('/test/<int:int_to_echo>/')\n",
    "def echo_only_ints(int_to_echo):\n",
    "    return \"echo int {}\".format(int_to_echo)\n",
    "\n",
    "# two variables but only ints\n",
    "@app.route('/<int:int_left>/<int:int_right>')\n",
    "def div_ints(int_left, int_right):\n",
    "    return \"{}\".format(int_left / int_right)\n",
    "\n",
    "app.run(host=\"0.0.0.0\", port=5000)"
   ]
  },
  {
   "cell_type": "markdown",
   "metadata": {
    "slideshow": {
     "slide_type": "fragment"
    }
   },
   "source": [
    "[general wild card example](http://localhost:5000/I can type whatever I really want in here ''%%&^(*!&#)\n",
    "\n",
    "[int wild card example](http://localhost:5000/test/5)\n",
    "\n",
    "[Division example](http://localhost:5000/1/1)"
   ]
  },
  {
   "cell_type": "markdown",
   "metadata": {
    "slideshow": {
     "slide_type": "slide"
    }
   },
   "source": [
    "#Route methods"
   ]
  },
  {
   "cell_type": "code",
   "execution_count": null,
   "metadata": {
    "collapsed": false,
    "slideshow": {
     "slide_type": "fragment"
    }
   },
   "outputs": [],
   "source": [
    "from flask import request\n",
    "app = Flask(\"the_flask_module\")\n",
    "\n",
    "methods = [\n",
    "    \"GET\",\n",
    "    \"HEAD\",\n",
    "    \"POST\",\n",
    "    \"PUT\",\n",
    "    \"DELETE\",\n",
    "    \"CONNECT\",\n",
    "    \"OPTIONS\",\n",
    "    \"TRACE\"]\n",
    "\n",
    "# the request object is where we can get http header information\n",
    "# curl -X POST -d \"{}\" localhost:5000 # RUN THIS!\n",
    "@app.route('/', methods=methods)\n",
    "def all_methods():\n",
    "    return request.method\n",
    "\n",
    "app.run(host=\"0.0.0.0\", port=5000)"
   ]
  },
  {
   "cell_type": "markdown",
   "metadata": {
    "slideshow": {
     "slide_type": "fragment"
    }
   },
   "source": [
    "[Throw me a method](http://localhost:5000/)"
   ]
  },
  {
   "cell_type": "code",
   "execution_count": null,
   "metadata": {
    "collapsed": false,
    "slideshow": {
     "slide_type": "fragment"
    }
   },
   "outputs": [],
   "source": [
    "!curl -X POST -d \"{}\" localhost:5000"
   ]
  },
  {
   "cell_type": "markdown",
   "metadata": {
    "slideshow": {
     "slide_type": "slide"
    }
   },
   "source": [
    "# Well, That's Cute. Where's Everything Else?\n",
    "What you see in this example is about 50% of everything there is to Flask. There's some things about sessions, configuration, templating, url routing, http headers, http requests, cookies, and message flashing but this is the majority of everything. To be fair the `@app.route()` call is doing thousands of Python WSGI magic and the `app.run()` call is spinning up a entire http server with a WSGI module soooo...\n"
   ]
  },
  {
   "cell_type": "markdown",
   "metadata": {
    "slideshow": {
     "slide_type": "subslide"
    }
   },
   "source": [
    "## By Default There is No Support For\n",
    "* Databases\n",
    "* Forms\n",
    "* Server Side Cache\n",
    "* Server Side Sessions\n",
    "* An Admin page\n",
    "* Page indexing\n",
    "* Asynchronous calls\n",
    "* Login support\n",
    "* No User object\n",
    "* No template tags\n",
    "* Lots of other defaults in other frameworks.\n",
    "\n",
    "This is by design.\n",
    "\n",
    "\"The idea of Flask is to build a good foundation for all applications. Everything else is up to you or extensions.\" -- Armin Ronacher, Author of Flask \n",
    "\n",
    "[All of those extra things are found in Flask Extensions which we'll cover in a the flask_extensions_notebook](http://flask.pocoo.org/extensions/)"
   ]
  },
  {
   "cell_type": "markdown",
   "metadata": {
    "slideshow": {
     "slide_type": "slide"
    }
   },
   "source": [
    "# Two Really Cool Features"
   ]
  },
  {
   "cell_type": "markdown",
   "metadata": {
    "slideshow": {
     "slide_type": "fragment"
    }
   },
   "source": [
    "##Flask Debug Console"
   ]
  },
  {
   "cell_type": "code",
   "execution_count": 11,
   "metadata": {
    "collapsed": false,
    "slideshow": {
     "slide_type": "slide"
    }
   },
   "outputs": [
    {
     "name": "stdout",
     "output_type": "stream",
     "text": [
      "from flask import Flask, render_template\r\n",
      "# This is some path magic that's required because this is an IPython notebook.\r\n",
      "app = Flask(\"the_flask_module\")\r\n",
      "\r\n",
      "# You can pass arguments to templates which can be tested.\r\n",
      "@app.route('/missing_endif/')\r\n",
      "def if_template():\r\n",
      "    return render_template(\"missing_endif.html\", oxford_comma=True)\r\n",
      "\r\n",
      "\r\n",
      "app.run(host=\"0.0.0.0\", port=5001, debug=True)\r\n",
      "# You now have a running web server. go to http://localhost:5000/ in a web browser or curl http://localhost:5000\r\n"
     ]
    }
   ],
   "source": [
    "!cat the_flask_module/debug_example.py"
   ]
  },
  {
   "cell_type": "code",
   "execution_count": 12,
   "metadata": {
    "collapsed": false,
    "slideshow": {
     "slide_type": "skip"
    }
   },
   "outputs": [
    {
     "name": "stdout",
     "output_type": "stream",
     "text": [
      " * Running on http://0.0.0.0:5001/ (Press CTRL+C to quit)\n",
      " * Restarting with stat\n",
      "127.0.0.1 - - [06/Sep/2015 00:27:36] \"GET /missing_endif HTTP/1.1\" 301 -\n",
      "127.0.0.1 - - [06/Sep/2015 00:27:37] \"GET /missing_endif/ HTTP/1.1\" 500 -\n",
      "Traceback (most recent call last):\n",
      "  File \"/Users/alexlord/.virtualenvs/flask_brownbag/lib/python3.4/site-packages/flask/app.py\", line 1836, in __call__\n",
      "    return self.wsgi_app(environ, start_response)\n",
      "  File \"/Users/alexlord/.virtualenvs/flask_brownbag/lib/python3.4/site-packages/flask/app.py\", line 1820, in wsgi_app\n",
      "    response = self.make_response(self.handle_exception(e))\n",
      "  File \"/Users/alexlord/.virtualenvs/flask_brownbag/lib/python3.4/site-packages/flask/app.py\", line 1403, in handle_exception\n",
      "    reraise(exc_type, exc_value, tb)\n",
      "  File \"/Users/alexlord/.virtualenvs/flask_brownbag/lib/python3.4/site-packages/flask/_compat.py\", line 33, in reraise\n",
      "    raise value\n",
      "  File \"/Users/alexlord/.virtualenvs/flask_brownbag/lib/python3.4/site-packages/flask/app.py\", line 1817, in wsgi_app\n",
      "    response = self.full_dispatch_request()\n",
      "  File \"/Users/alexlord/.virtualenvs/flask_brownbag/lib/python3.4/site-packages/flask/app.py\", line 1477, in full_dispatch_request\n",
      "    rv = self.handle_user_exception(e)\n",
      "  File \"/Users/alexlord/.virtualenvs/flask_brownbag/lib/python3.4/site-packages/flask/app.py\", line 1381, in handle_user_exception\n",
      "    reraise(exc_type, exc_value, tb)\n",
      "  File \"/Users/alexlord/.virtualenvs/flask_brownbag/lib/python3.4/site-packages/flask/_compat.py\", line 33, in reraise\n",
      "    raise value\n",
      "  File \"/Users/alexlord/.virtualenvs/flask_brownbag/lib/python3.4/site-packages/flask/app.py\", line 1475, in full_dispatch_request\n",
      "    rv = self.dispatch_request()\n",
      "  File \"/Users/alexlord/.virtualenvs/flask_brownbag/lib/python3.4/site-packages/flask/app.py\", line 1461, in dispatch_request\n",
      "    return self.view_functions[rule.endpoint](**req.view_args)\n",
      "  File \"/Users/alexlord/git/personal/a_guided_tour_of_flask/the_flask_module/debug_example.py\", line 8, in if_template\n",
      "    return render_template(\"missing_endif.html\", oxford_comma=True)\n",
      "  File \"/Users/alexlord/.virtualenvs/flask_brownbag/lib/python3.4/site-packages/flask/templating.py\", line 127, in render_template\n",
      "    return _render(ctx.app.jinja_env.get_or_select_template(template_name_or_list),\n",
      "  File \"/Users/alexlord/.virtualenvs/flask_brownbag/lib/python3.4/site-packages/jinja2/environment.py\", line 830, in get_or_select_template\n",
      "    return self.get_template(template_name_or_list, parent, globals)\n",
      "  File \"/Users/alexlord/.virtualenvs/flask_brownbag/lib/python3.4/site-packages/jinja2/environment.py\", line 791, in get_template\n",
      "    return self._load_template(name, self.make_globals(globals))\n",
      "  File \"/Users/alexlord/.virtualenvs/flask_brownbag/lib/python3.4/site-packages/jinja2/environment.py\", line 765, in _load_template\n",
      "    template = self.loader.load(self, name, globals)\n",
      "  File \"/Users/alexlord/.virtualenvs/flask_brownbag/lib/python3.4/site-packages/jinja2/loaders.py\", line 125, in load\n",
      "    code = environment.compile(source, name, filename)\n",
      "  File \"/Users/alexlord/.virtualenvs/flask_brownbag/lib/python3.4/site-packages/jinja2/environment.py\", line 554, in compile\n",
      "    self.handle_exception(exc_info, source_hint=source)\n",
      "  File \"/Users/alexlord/.virtualenvs/flask_brownbag/lib/python3.4/site-packages/jinja2/environment.py\", line 742, in handle_exception\n",
      "    reraise(exc_type, exc_value, tb)\n",
      "  File \"/Users/alexlord/.virtualenvs/flask_brownbag/lib/python3.4/site-packages/jinja2/_compat.py\", line 36, in reraise\n",
      "    raise value.with_traceback(tb)\n",
      "  File \"/Users/alexlord/git/work/flask_brownbag/the_flask_module/templates/missing_endif.html\", line 4, in <module>\n",
      "    <h1> Charles, Max and Ororo. </h1>\n",
      "  File \"/Users/alexlord/.virtualenvs/flask_brownbag/lib/python3.4/site-packages/jinja2/environment.py\", line 459, in _parse\n",
      "    return Parser(self, source, name, encode_filename(filename)).parse()\n",
      "  File \"/Users/alexlord/.virtualenvs/flask_brownbag/lib/python3.4/site-packages/jinja2/parser.py\", line 893, in parse\n",
      "    result = nodes.Template(self.subparse(), lineno=1)\n",
      "  File \"/Users/alexlord/.virtualenvs/flask_brownbag/lib/python3.4/site-packages/jinja2/parser.py\", line 875, in subparse\n",
      "    rv = self.parse_statement()\n",
      "  File \"/Users/alexlord/.virtualenvs/flask_brownbag/lib/python3.4/site-packages/jinja2/parser.py\", line 122, in parse_statement\n",
      "    return getattr(self, 'parse_' + self.stream.current.value)()\n",
      "  File \"/Users/alexlord/.virtualenvs/flask_brownbag/lib/python3.4/site-packages/jinja2/parser.py\", line 210, in parse_if\n",
      "    drop_needle=True)\n",
      "  File \"/Users/alexlord/.virtualenvs/flask_brownbag/lib/python3.4/site-packages/jinja2/parser.py\", line 162, in parse_statements\n",
      "    self.fail_eof(end_tokens)\n",
      "  File \"/Users/alexlord/.virtualenvs/flask_brownbag/lib/python3.4/site-packages/jinja2/parser.py\", line 96, in fail_eof\n",
      "    return self._fail_ut_eof(None, stack, lineno)\n",
      "  File \"/Users/alexlord/.virtualenvs/flask_brownbag/lib/python3.4/site-packages/jinja2/parser.py\", line 82, in _fail_ut_eof\n",
      "    self.fail(' '.join(message), lineno)\n",
      "  File \"/Users/alexlord/.virtualenvs/flask_brownbag/lib/python3.4/site-packages/jinja2/parser.py\", line 51, in fail\n",
      "    raise exc(msg, lineno, self.name, self.filename)\n",
      "jinja2.exceptions.TemplateSyntaxError: Unexpected end of template. Jinja was looking for the following tags: 'endif'. The innermost block that needs to be closed is 'if'.\n",
      "127.0.0.1 - - [06/Sep/2015 00:27:37] \"GET /missing_endif/?__debugger__=yes&cmd=resource&f=style.css HTTP/1.1\" 200 -\n",
      "127.0.0.1 - - [06/Sep/2015 00:27:37] \"GET /missing_endif/?__debugger__=yes&cmd=resource&f=jquery.js HTTP/1.1\" 200 -\n",
      "127.0.0.1 - - [06/Sep/2015 00:27:37] \"GET /missing_endif/?__debugger__=yes&cmd=resource&f=debugger.js HTTP/1.1\" 200 -\n",
      "127.0.0.1 - - [06/Sep/2015 00:27:37] \"GET /missing_endif/?__debugger__=yes&cmd=resource&f=ubuntu.ttf HTTP/1.1\" 200 -\n",
      "127.0.0.1 - - [06/Sep/2015 00:27:37] \"GET /missing_endif/?__debugger__=yes&cmd=resource&f=console.png HTTP/1.1\" 200 -\n",
      "127.0.0.1 - - [06/Sep/2015 00:27:37] \"GET /missing_endif/?__debugger__=yes&cmd=resource&f=source.png HTTP/1.1\" 200 -\n",
      "127.0.0.1 - - [06/Sep/2015 00:27:53] \"GET /missing_endif/?__debugger__=yes&cmd=dump()&frm=4372821384&s=XCj6RwlAMVtDe0RFbKPV HTTP/1.1\" 200 -\n",
      "127.0.0.1 - - [06/Sep/2015 00:27:53] \"GET /missing_endif/?__debugger__=yes&cmd=resource&f=more.png HTTP/1.1\" 200 -\n",
      "127.0.0.1 - - [06/Sep/2015 00:27:59] \"GET /missing_endif/?__debugger__=yes&cmd=source&frm=4372821776&s=XCj6RwlAMVtDe0RFbKPV HTTP/1.1\" 200 -\n",
      "127.0.0.1 - - [06/Sep/2015 00:28:04] \"GET /missing_endif/?__debugger__=yes&cmd=dump()&frm=4372821776&s=XCj6RwlAMVtDe0RFbKPV HTTP/1.1\" 200 -\n",
      "127.0.0.1 - - [06/Sep/2015 00:28:41] \"GET /missing_endif/?__debugger__=yes&cmd=import+os+&frm=4372821776&s=XCj6RwlAMVtDe0RFbKPV HTTP/1.1\" 200 -\n",
      "127.0.0.1 - - [06/Sep/2015 00:28:59] \"GET /missing_endif/?__debugger__=yes&cmd=open(%22Users%2Falexlord%2F.ssh%2Focrap%22&frm=4372821776&s=XCj6RwlAMVtDe0RFbKPV HTTP/1.1\" 500 -\n",
      "Error on request:\n",
      "Traceback (most recent call last):\n",
      "  File \"/Users/alexlord/.virtualenvs/flask_brownbag/lib/python3.4/site-packages/werkzeug/serving.py\", line 180, in run_wsgi\n",
      "    execute(self.server.app)\n",
      "  File \"/Users/alexlord/.virtualenvs/flask_brownbag/lib/python3.4/site-packages/werkzeug/serving.py\", line 168, in execute\n",
      "    application_iter = app(environ, start_response)\n",
      "  File \"/Users/alexlord/.virtualenvs/flask_brownbag/lib/python3.4/site-packages/werkzeug/debug/__init__.py\", line 181, in __call__\n",
      "    response = self.execute_command(request, cmd, frame)\n",
      "  File \"/Users/alexlord/.virtualenvs/flask_brownbag/lib/python3.4/site-packages/werkzeug/debug/__init__.py\", line 128, in execute_command\n",
      "    return Response(frame.console.eval(command), mimetype='text/html')\n",
      "  File \"/Users/alexlord/.virtualenvs/flask_brownbag/lib/python3.4/site-packages/werkzeug/debug/console.py\", line 209, in eval\n",
      "    return self._ipy.runsource(code)\n",
      "  File \"/Users/alexlord/.virtualenvs/flask_brownbag/lib/python3.4/site-packages/werkzeug/debug/console.py\", line 165, in runsource\n",
      "    source_to_eval, '<debugger>', 'single'):\n",
      "  File \"/usr/local/Cellar/python3/3.4.2_1/Frameworks/Python.framework/Versions/3.4/lib/python3.4/code.py\", line 63, in runsource\n",
      "    code = self.compile(source, filename, symbol)\n",
      "  File \"/Users/alexlord/.virtualenvs/flask_brownbag/lib/python3.4/site-packages/werkzeug/debug/console.py\", line 141, in func\n",
      "    console.loader.register(code, source)\n",
      "  File \"/Users/alexlord/.virtualenvs/flask_brownbag/lib/python3.4/site-packages/werkzeug/debug/console.py\", line 126, in register\n",
      "    for var in code.co_consts:\n",
      "AttributeError: 'NoneType' object has no attribute 'co_consts'\n",
      "^C\n"
     ]
    }
   ],
   "source": [
    "!python the_flask_module/debug_example.py"
   ]
  },
  {
   "cell_type": "markdown",
   "metadata": {
    "slideshow": {
     "slide_type": "fragment"
    }
   },
   "source": [
    "[This is probably my favorite feature in Flask.](http://localhost:5001/missing_endif)"
   ]
  },
  {
   "cell_type": "markdown",
   "metadata": {
    "slideshow": {
     "slide_type": "slide"
    }
   },
   "source": [
    "\n",
    "##Flask's auto-reloading\n"
   ]
  },
  {
   "cell_type": "code",
   "execution_count": 14,
   "metadata": {
    "collapsed": false,
    "slideshow": {
     "slide_type": "fragment"
    }
   },
   "outputs": [
    {
     "name": "stdout",
     "output_type": "stream",
     "text": [
      "/bin/sh: macvim: command not found\r\n"
     ]
    }
   ],
   "source": [
    "!macvim the_flask_module/reload_example.py"
   ]
  },
  {
   "cell_type": "code",
   "execution_count": 15,
   "metadata": {
    "collapsed": false,
    "slideshow": {
     "slide_type": "skip"
    }
   },
   "outputs": [
    {
     "name": "stdout",
     "output_type": "stream",
     "text": [
      " * Running on http://0.0.0.0:5001/ (Press CTRL+C to quit)\n",
      " * Restarting with stat\n",
      "127.0.0.1 - - [06/Sep/2015 00:30:08] \"GET / HTTP/1.1\" 200 -\n",
      " * Detected change in '/Users/alexlord/git/personal/a_guided_tour_of_flask/the_flask_module/reload_example.py', reloading\n",
      " * Restarting with stat\n",
      "127.0.0.1 - - [06/Sep/2015 00:30:41] \"GET / HTTP/1.1\" 200 -\n",
      "^C\n"
     ]
    }
   ],
   "source": [
    "!python the_flask_module/reload_example.py"
   ]
  },
  {
   "cell_type": "markdown",
   "metadata": {
    "slideshow": {
     "slide_type": "fragment"
    }
   },
   "source": [
    "[So this is the code unmodified](http://localhost:5001)"
   ]
  },
  {
   "cell_type": "markdown",
   "metadata": {
    "slideshow": {
     "slide_type": "slide"
    }
   },
   "source": [
    "\n",
    "# Route Function Name Collisions\n",
    "Having a two (or more) routes with the same function name name will cause an AssertionError exception."
   ]
  },
  {
   "cell_type": "code",
   "execution_count": 16,
   "metadata": {
    "collapsed": false,
    "slideshow": {
     "slide_type": "fragment"
    }
   },
   "outputs": [
    {
     "ename": "AssertionError",
     "evalue": "View function mapping is overwriting an existing endpoint function: hello_page",
     "output_type": "error",
     "traceback": [
      "\u001b[0;31m---------------------------------------------------------------------------\u001b[0m",
      "\u001b[0;31mAssertionError\u001b[0m                            Traceback (most recent call last)",
      "\u001b[0;32m<ipython-input-16-0a7a5853ec06>\u001b[0m in \u001b[0;36m<module>\u001b[0;34m()\u001b[0m\n\u001b[1;32m      5\u001b[0m     \u001b[0;32mreturn\u001b[0m \u001b[0;34m\"I'm a hello page\"\u001b[0m\u001b[0;34m\u001b[0m\u001b[0m\n\u001b[1;32m      6\u001b[0m \u001b[0;34m\u001b[0m\u001b[0m\n\u001b[0;32m----> 7\u001b[0;31m \u001b[0;34m@\u001b[0m\u001b[0mapp\u001b[0m\u001b[0;34m.\u001b[0m\u001b[0mroute\u001b[0m\u001b[0;34m(\u001b[0m\u001b[0;34m\"/different_route\"\u001b[0m\u001b[0;34m)\u001b[0m\u001b[0;34m\u001b[0m\u001b[0m\n\u001b[0m\u001b[1;32m      8\u001b[0m \u001b[0;32mdef\u001b[0m \u001b[0mhello_page\u001b[0m\u001b[0;34m(\u001b[0m\u001b[0;34m)\u001b[0m\u001b[0;34m:\u001b[0m\u001b[0;34m\u001b[0m\u001b[0m\n\u001b[1;32m      9\u001b[0m     \u001b[0;32mreturn\u001b[0m \u001b[0;34m\"Different route\"\u001b[0m\u001b[0;34m\u001b[0m\u001b[0m\n",
      "\u001b[0;32m/Users/alexlord/.virtualenvs/flask_brownbag/lib/python3.4/site-packages/flask/app.py\u001b[0m in \u001b[0;36mdecorator\u001b[0;34m(f)\u001b[0m\n\u001b[1;32m   1011\u001b[0m         \u001b[0;32mdef\u001b[0m \u001b[0mdecorator\u001b[0m\u001b[0;34m(\u001b[0m\u001b[0mf\u001b[0m\u001b[0;34m)\u001b[0m\u001b[0;34m:\u001b[0m\u001b[0;34m\u001b[0m\u001b[0m\n\u001b[1;32m   1012\u001b[0m             \u001b[0mendpoint\u001b[0m \u001b[0;34m=\u001b[0m \u001b[0moptions\u001b[0m\u001b[0;34m.\u001b[0m\u001b[0mpop\u001b[0m\u001b[0;34m(\u001b[0m\u001b[0;34m'endpoint'\u001b[0m\u001b[0;34m,\u001b[0m \u001b[0;32mNone\u001b[0m\u001b[0;34m)\u001b[0m\u001b[0;34m\u001b[0m\u001b[0m\n\u001b[0;32m-> 1013\u001b[0;31m             \u001b[0mself\u001b[0m\u001b[0;34m.\u001b[0m\u001b[0madd_url_rule\u001b[0m\u001b[0;34m(\u001b[0m\u001b[0mrule\u001b[0m\u001b[0;34m,\u001b[0m \u001b[0mendpoint\u001b[0m\u001b[0;34m,\u001b[0m \u001b[0mf\u001b[0m\u001b[0;34m,\u001b[0m \u001b[0;34m**\u001b[0m\u001b[0moptions\u001b[0m\u001b[0;34m)\u001b[0m\u001b[0;34m\u001b[0m\u001b[0m\n\u001b[0m\u001b[1;32m   1014\u001b[0m             \u001b[0;32mreturn\u001b[0m \u001b[0mf\u001b[0m\u001b[0;34m\u001b[0m\u001b[0m\n\u001b[1;32m   1015\u001b[0m         \u001b[0;32mreturn\u001b[0m \u001b[0mdecorator\u001b[0m\u001b[0;34m\u001b[0m\u001b[0m\n",
      "\u001b[0;32m/Users/alexlord/.virtualenvs/flask_brownbag/lib/python3.4/site-packages/flask/app.py\u001b[0m in \u001b[0;36mwrapper_func\u001b[0;34m(self, *args, **kwargs)\u001b[0m\n\u001b[1;32m     60\u001b[0m                 \u001b[0;34m'database models and everything related at a central place '\u001b[0m\u001b[0;34m\u001b[0m\u001b[0m\n\u001b[1;32m     61\u001b[0m                 'before the application starts serving requests.')\n\u001b[0;32m---> 62\u001b[0;31m         \u001b[0;32mreturn\u001b[0m \u001b[0mf\u001b[0m\u001b[0;34m(\u001b[0m\u001b[0mself\u001b[0m\u001b[0;34m,\u001b[0m \u001b[0;34m*\u001b[0m\u001b[0margs\u001b[0m\u001b[0;34m,\u001b[0m \u001b[0;34m**\u001b[0m\u001b[0mkwargs\u001b[0m\u001b[0;34m)\u001b[0m\u001b[0;34m\u001b[0m\u001b[0m\n\u001b[0m\u001b[1;32m     63\u001b[0m     \u001b[0;32mreturn\u001b[0m \u001b[0mupdate_wrapper\u001b[0m\u001b[0;34m(\u001b[0m\u001b[0mwrapper_func\u001b[0m\u001b[0;34m,\u001b[0m \u001b[0mf\u001b[0m\u001b[0;34m)\u001b[0m\u001b[0;34m\u001b[0m\u001b[0m\n\u001b[1;32m     64\u001b[0m \u001b[0;34m\u001b[0m\u001b[0m\n",
      "\u001b[0;32m/Users/alexlord/.virtualenvs/flask_brownbag/lib/python3.4/site-packages/flask/app.py\u001b[0m in \u001b[0;36madd_url_rule\u001b[0;34m(self, rule, endpoint, view_func, **options)\u001b[0m\n\u001b[1;32m    982\u001b[0m             \u001b[0;32mif\u001b[0m \u001b[0mold_func\u001b[0m \u001b[0;32mis\u001b[0m \u001b[0;32mnot\u001b[0m \u001b[0;32mNone\u001b[0m \u001b[0;32mand\u001b[0m \u001b[0mold_func\u001b[0m \u001b[0;34m!=\u001b[0m \u001b[0mview_func\u001b[0m\u001b[0;34m:\u001b[0m\u001b[0;34m\u001b[0m\u001b[0m\n\u001b[1;32m    983\u001b[0m                 raise AssertionError('View function mapping is overwriting an '\n\u001b[0;32m--> 984\u001b[0;31m                                      'existing endpoint function: %s' % endpoint)\n\u001b[0m\u001b[1;32m    985\u001b[0m             \u001b[0mself\u001b[0m\u001b[0;34m.\u001b[0m\u001b[0mview_functions\u001b[0m\u001b[0;34m[\u001b[0m\u001b[0mendpoint\u001b[0m\u001b[0;34m]\u001b[0m \u001b[0;34m=\u001b[0m \u001b[0mview_func\u001b[0m\u001b[0;34m\u001b[0m\u001b[0m\n\u001b[1;32m    986\u001b[0m \u001b[0;34m\u001b[0m\u001b[0m\n",
      "\u001b[0;31mAssertionError\u001b[0m: View function mapping is overwriting an existing endpoint function: hello_page"
     ]
    }
   ],
   "source": [
    "app = Flask(\"the_flask_module\")\n",
    "\n",
    "@app.route(\"/hello\")\n",
    "def hello_page():\n",
    "    return \"I'm a hello page\"\n",
    "\n",
    "@app.route(\"/different_route\")\n",
    "def hello_page():\n",
    "    return \"Different route\"\n",
    "\n",
    "app.run(host=\"0.0.0.0\", port=5000)"
   ]
  },
  {
   "cell_type": "markdown",
   "metadata": {
    "slideshow": {
     "slide_type": "slide"
    }
   },
   "source": [
    "# Routes With URL Conflicts\n",
    "Having a two (or more) routes with the same URL path will succeed but the second route will be unreachable."
   ]
  },
  {
   "cell_type": "code",
   "execution_count": 17,
   "metadata": {
    "collapsed": true,
    "slideshow": {
     "slide_type": "fragment"
    }
   },
   "outputs": [],
   "source": [
    "app = Flask(\"the_flask_module\")\n",
    "\n",
    "# Having a two (or more) routes with the same name will\n",
    "# cause an error.\n",
    "@app.route(\"/hello\")\n",
    "def hello_page():\n",
    "    return \"I'm a hello page\"\n",
    "\n",
    "@app.route(\"/hello\")\n",
    "def second_hello_page():\n",
    "    return \"Different route\"\n",
    "\n",
    "app.run(host=\"0.0.0.0\", port=5000)\n",
    "# You now have a running web server. go to http://localhost:5000/ in a web browser or curl http://localhost:5000"
   ]
  },
  {
   "cell_type": "markdown",
   "metadata": {
    "collapsed": true,
    "slideshow": {
     "slide_type": "fragment"
    }
   },
   "source": [
    "[The second hello is unreachable](http://localhost:5000/hello)"
   ]
  },
  {
   "cell_type": "markdown",
   "metadata": {
    "collapsed": true,
    "slideshow": {
     "slide_type": "slide"
    }
   },
   "source": [
    "#Redirects"
   ]
  },
  {
   "cell_type": "code",
   "execution_count": 21,
   "metadata": {
    "collapsed": false,
    "slideshow": {
     "slide_type": "fragment"
    }
   },
   "outputs": [
    {
     "name": "stdout",
     "output_type": "stream",
     "text": [
      "----------------------------------------\n",
      "Exception happened during processing of request from ('127.0.0.1', 54328)\n",
      "----------------------------------------\n",
      "----------------------------------------"
     ]
    },
    {
     "name": "stderr",
     "output_type": "stream",
     "text": [
      "Traceback (most recent call last):\n",
      "  File \"/usr/local/Cellar/python3/3.4.2_1/Frameworks/Python.framework/Versions/3.4/lib/python3.4/socketserver.py\", line 305, in _handle_request_noblock\n",
      "    self.process_request(request, client_address)\n",
      "  File \"/usr/local/Cellar/python3/3.4.2_1/Frameworks/Python.framework/Versions/3.4/lib/python3.4/socketserver.py\", line 331, in process_request\n",
      "    self.finish_request(request, client_address)\n",
      "  File \"/usr/local/Cellar/python3/3.4.2_1/Frameworks/Python.framework/Versions/3.4/lib/python3.4/socketserver.py\", line 344, in finish_request\n",
      "    self.RequestHandlerClass(request, client_address, self)\n",
      "  File \"/usr/local/Cellar/python3/3.4.2_1/Frameworks/Python.framework/Versions/3.4/lib/python3.4/socketserver.py\", line 669, in __init__\n",
      "    self.handle()\n",
      "  File \"/Users/alexlord/.virtualenvs/flask_brownbag/lib/python3.4/site-packages/werkzeug/serving.py\", line 203, in handle\n",
      "    rv = BaseHTTPRequestHandler.handle(self)\n",
      "  File \"/usr/local/Cellar/python3/3.4.2_1/Frameworks/Python.framework/Versions/3.4/lib/python3.4/http/server.py\", line 398, in handle\n",
      "    self.handle_one_request()\n",
      "  File \"/Users/alexlord/.virtualenvs/flask_brownbag/lib/python3.4/site-packages/werkzeug/serving.py\", line 234, in handle_one_request\n",
      "    self.raw_requestline = self.rfile.readline()\n",
      "  File \"/usr/local/Cellar/python3/3.4.2_1/Frameworks/Python.framework/Versions/3.4/lib/python3.4/socket.py\", line 371, in readinto\n",
      "    return self._sock.recv_into(b)\n",
      "KeyboardInterrupt\n",
      "Traceback (most recent call last):\n"
     ]
    },
    {
     "name": "stdout",
     "output_type": "stream",
     "text": [
      "\n",
      "Exception happened during processing of request from ('127.0.0.1', 54329)\n",
      "----------------------------------------\n",
      "----------------------------------------"
     ]
    },
    {
     "name": "stderr",
     "output_type": "stream",
     "text": [
      "  File \"/usr/local/Cellar/python3/3.4.2_1/Frameworks/Python.framework/Versions/3.4/lib/python3.4/socketserver.py\", line 305, in _handle_request_noblock\n",
      "    self.process_request(request, client_address)\n",
      "  File \"/usr/local/Cellar/python3/3.4.2_1/Frameworks/Python.framework/Versions/3.4/lib/python3.4/socketserver.py\", line 331, in process_request\n",
      "    self.finish_request(request, client_address)\n",
      "  File \"/usr/local/Cellar/python3/3.4.2_1/Frameworks/Python.framework/Versions/3.4/lib/python3.4/socketserver.py\", line 344, in finish_request\n",
      "    self.RequestHandlerClass(request, client_address, self)\n",
      "  File \"/usr/local/Cellar/python3/3.4.2_1/Frameworks/Python.framework/Versions/3.4/lib/python3.4/socketserver.py\", line 669, in __init__\n",
      "    self.handle()\n",
      "  File \"/Users/alexlord/.virtualenvs/flask_brownbag/lib/python3.4/site-packages/werkzeug/serving.py\", line 203, in handle\n",
      "    rv = BaseHTTPRequestHandler.handle(self)\n",
      "  File \"/usr/local/Cellar/python3/3.4.2_1/Frameworks/Python.framework/Versions/3.4/lib/python3.4/http/server.py\", line 398, in handle\n",
      "    self.handle_one_request()\n",
      "  File \"/Users/alexlord/.virtualenvs/flask_brownbag/lib/python3.4/site-packages/werkzeug/serving.py\", line 234, in handle_one_request\n",
      "    self.raw_requestline = self.rfile.readline()\n",
      "  File \"/usr/local/Cellar/python3/3.4.2_1/Frameworks/Python.framework/Versions/3.4/lib/python3.4/socket.py\", line 371, in readinto\n",
      "    return self._sock.recv_into(b)\n",
      "KeyboardInterrupt\n",
      "Traceback (most recent call last):\n"
     ]
    },
    {
     "name": "stdout",
     "output_type": "stream",
     "text": [
      "\n",
      "Exception happened during processing of request from ('127.0.0.1', 54330)\n",
      "----------------------------------------\n"
     ]
    },
    {
     "name": "stderr",
     "output_type": "stream",
     "text": [
      "  File \"/usr/local/Cellar/python3/3.4.2_1/Frameworks/Python.framework/Versions/3.4/lib/python3.4/socketserver.py\", line 305, in _handle_request_noblock\n",
      "    self.process_request(request, client_address)\n",
      "  File \"/usr/local/Cellar/python3/3.4.2_1/Frameworks/Python.framework/Versions/3.4/lib/python3.4/socketserver.py\", line 331, in process_request\n",
      "    self.finish_request(request, client_address)\n",
      "  File \"/usr/local/Cellar/python3/3.4.2_1/Frameworks/Python.framework/Versions/3.4/lib/python3.4/socketserver.py\", line 344, in finish_request\n",
      "    self.RequestHandlerClass(request, client_address, self)\n",
      "  File \"/usr/local/Cellar/python3/3.4.2_1/Frameworks/Python.framework/Versions/3.4/lib/python3.4/socketserver.py\", line 669, in __init__\n",
      "    self.handle()\n",
      "  File \"/Users/alexlord/.virtualenvs/flask_brownbag/lib/python3.4/site-packages/werkzeug/serving.py\", line 203, in handle\n",
      "    rv = BaseHTTPRequestHandler.handle(self)\n",
      "  File \"/usr/local/Cellar/python3/3.4.2_1/Frameworks/Python.framework/Versions/3.4/lib/python3.4/http/server.py\", line 398, in handle\n",
      "    self.handle_one_request()\n",
      "  File \"/Users/alexlord/.virtualenvs/flask_brownbag/lib/python3.4/site-packages/werkzeug/serving.py\", line 234, in handle_one_request\n",
      "    self.raw_requestline = self.rfile.readline()\n",
      "  File \"/usr/local/Cellar/python3/3.4.2_1/Frameworks/Python.framework/Versions/3.4/lib/python3.4/socket.py\", line 371, in readinto\n",
      "    return self._sock.recv_into(b)\n",
      "KeyboardInterrupt\n"
     ]
    }
   ],
   "source": [
    "from flask import Flask, redirect\n",
    "app = Flask(\"the_flask_module\")\n",
    "\n",
    "@app.route(\"/\")\n",
    "def redirectora():\n",
    "    return redirect(\"redirected\")\n",
    "\n",
    "@app.route(\"/redirected\")\n",
    "def redirected():\n",
    "    return \"Redirected!\"\n",
    "    \n",
    "app.run(host=\"0.0.0.0\", port=5001)"
   ]
  },
  {
   "cell_type": "markdown",
   "metadata": {
    "slideshow": {
     "slide_type": "fragment"
    }
   },
   "source": [
    "[Basic Example](http://localhost:5001/)"
   ]
  },
  {
   "cell_type": "markdown",
   "metadata": {
    "slideshow": {
     "slide_type": "slide"
    }
   },
   "source": [
    "##The Post Redirect Get Pattern\n",
    "This helps avoid 'Confirm Form Resubmission' dialogs that users never know what to do with."
   ]
  },
  {
   "cell_type": "code",
   "execution_count": 23,
   "metadata": {
    "collapsed": false,
    "slideshow": {
     "slide_type": "fragment"
    }
   },
   "outputs": [],
   "source": [
    "from flask import Flask, redirect, request, render_template\n",
    "app = Flask(\"the_flask_module\")\n",
    "\n",
    "@app.route('/', methods=[\"GET\", \"POST\"])\n",
    "def post_redirect_get():\n",
    "    if request.method == \"GET\":\n",
    "        return render_template(\"post_redirect_get.html\")\n",
    "    else:\n",
    "        # Use said data.\n",
    "        return redirect(\"target\", code=303)\n",
    "    \n",
    "@app.route(\"/target\")\n",
    "def target():\n",
    "    return \"I'm the redirected function\"\n",
    "\n",
    "app.run(host=\"0.0.0.0\", port=5001)"
   ]
  },
  {
   "cell_type": "markdown",
   "metadata": {
    "slideshow": {
     "slide_type": "fragment"
    }
   },
   "source": [
    "[Post Redirect Get Pattern](http://localhost:5001/)"
   ]
  },
  {
   "cell_type": "markdown",
   "metadata": {},
   "source": [
    "#What Do Routes Return?\n",
    "\n",
    "We've already seen a lot of simple templates and string returns so we'll skip those."
   ]
  },
  {
   "cell_type": "markdown",
   "metadata": {
    "slideshow": {
     "slide_type": "slide"
    }
   },
   "source": [
    "\n",
    "#JSON Returns"
   ]
  },
  {
   "cell_type": "code",
   "execution_count": 25,
   "metadata": {
    "collapsed": false,
    "slideshow": {
     "slide_type": "fragment"
    }
   },
   "outputs": [],
   "source": [
    "from flask import Flask, jsonify \n",
    "app = Flask(\"the_flask_module\")\n",
    "\n",
    "# More Info On jsonify at \n",
    "# http://stackoverflow.com/questions/7907596/json-dumps-vs-flask-jsonify\n",
    "@app.route('/')\n",
    "def for_template():\n",
    "    return jsonify(\n",
    "        {\"the_tree_stooges\": [\"Moe\", \"Larry\", \"Curley\"]})\n",
    "\n",
    "app.run(host=\"0.0.0.0\", port=5001)"
   ]
  },
  {
   "cell_type": "markdown",
   "metadata": {
    "slideshow": {
     "slide_type": "fragment"
    }
   },
   "source": [
    "[JSON return](http://localhost:5001/)"
   ]
  },
  {
   "cell_type": "markdown",
   "metadata": {
    "slideshow": {
     "slide_type": "slide"
    }
   },
   "source": [
    "# What about APIs?\n",
    "[Flask-RESTful](https://flask-restful.readthedocs.org/en/0.3.3/) and [eve](http://python-eve.org/) are two projects focused on API design using Flask."
   ]
  },
  {
   "cell_type": "markdown",
   "metadata": {
    "slideshow": {
     "slide_type": "slide"
    }
   },
   "source": [
    "#Explicit Response\n",
    "TODO: explicit response object example"
   ]
  },
  {
   "cell_type": "markdown",
   "metadata": {
    "slideshow": {
     "slide_type": "fragment"
    }
   },
   "source": [
    "[Template With A Conditional](http://localhost:5000/if/)\n",
    "\n",
    "[Iteration Template](http://localhost:5000/for)"
   ]
  },
  {
   "cell_type": "markdown",
   "metadata": {
    "slideshow": {
     "slide_type": "slide"
    }
   },
   "source": [
    "#What Types Can't Be Returned"
   ]
  },
  {
   "cell_type": "code",
   "execution_count": null,
   "metadata": {
    "collapsed": false,
    "slideshow": {
     "slide_type": "fragment"
    }
   },
   "outputs": [],
   "source": [
    "import os\n",
    "app = Flask(\"the_flask_module\")\n",
    "\n",
    "# We've seen that routes can return straight strings\n",
    "@app.route('/')\n",
    "def just_string_lies():\n",
    "    return 1\n",
    "\n",
    "# We've seen that routes can return straight strings\n",
    "@app.route('/dict')\n",
    "def just_dict():\n",
    "    return {\"testing\": \"testing\"}\n",
    "\n",
    "app.run(host=\"0.0.0.0\", port=5000)"
   ]
  },
  {
   "cell_type": "markdown",
   "metadata": {
    "slideshow": {
     "slide_type": "fragment"
    }
   },
   "source": [
    "[Int Return Error](http://localhost:5000/)\n",
    "\n",
    "[Dict Return Error](http://localhost:5000/dict)"
   ]
  },
  {
   "cell_type": "markdown",
   "metadata": {
    "slideshow": {
     "slide_type": "slide"
    }
   },
   "source": [
    "#Templates"
   ]
  },
  {
   "cell_type": "code",
   "execution_count": null,
   "metadata": {
    "collapsed": true,
    "slideshow": {
     "slide_type": "fragment"
    }
   },
   "outputs": [],
   "source": [
    "import os\n",
    "template_dir = os.path.join(\n",
    "    os.getcwd(),\n",
    "    \"the_flask_module\",\n",
    "    \"templates\")\n",
    "app = Flask(\n",
    "    \"the_flask_module\",\n",
    "    template_folder=template_dir)\n",
    "\n",
    "# You can pass arguments to templates which can be tested.\n",
    "@app.route('/if/')\n",
    "def if_template():\n",
    "    return render_template(\n",
    "        \"if_example.html\",\n",
    "        oxford_comma=False)\n",
    "\n",
    "# Or arguments that are used to loop.\n",
    "@app.route('/for/')\n",
    "def for_template():\n",
    "    return render_template(\n",
    "        \"for_example.html\",\n",
    "        word_list=[\"Nothing\", \"to\", \"see\", \"here.\"])\n",
    "\n",
    "app.run(host=\"0.0.0.0\", port=5000)"
   ]
  },
  {
   "cell_type": "markdown",
   "metadata": {
    "slideshow": {
     "slide_type": "slide"
    }
   },
   "source": [
    "# Forgotten Arguments?"
   ]
  },
  {
   "cell_type": "code",
   "execution_count": null,
   "metadata": {
    "collapsed": false,
    "slideshow": {
     "slide_type": "fragment"
    }
   },
   "outputs": [],
   "source": [
    "# This is what the next examples template contains.\n",
    "%cat the_flask_module/templates/template_without_argument.html\n",
    "# If we forget to pass oxford_comma do you think Flask\n",
    "# will error out? Should it?"
   ]
  },
  {
   "cell_type": "code",
   "execution_count": null,
   "metadata": {
    "collapsed": true,
    "slideshow": {
     "slide_type": "slide"
    }
   },
   "outputs": [],
   "source": [
    "import os\n",
    "from flask import Flask, render_template\n",
    "# This is some path magic that's required because this is\n",
    "# an IPython notebook.\n",
    "template_dir = os.path.join(\n",
    "    os.getcwd(),\n",
    "    \"the_flask_module\",\n",
    "    \"templates\")\n",
    "app = Flask(\n",
    "    \"the_flask_module\",\n",
    "    template_folder=template_dir)\n",
    "\n",
    "# Or arguments that are used to loop.\n",
    "@app.route('/missing_arg/')\n",
    "def for_template():\n",
    "    return render_template(\n",
    "        \"template_without_argument.html\")\n",
    "\n",
    "app.run(host=\"0.0.0.0\", port=5000)"
   ]
  },
  {
   "cell_type": "markdown",
   "metadata": {
    "slideshow": {
     "slide_type": "fragment"
    }
   },
   "source": [
    "[Second error example](http://localhost:5000/missing_arg/)\n"
   ]
  },
  {
   "cell_type": "markdown",
   "metadata": {
    "slideshow": {
     "slide_type": "slide"
    }
   },
   "source": [
    "#Requests\n",
    "We talked a little bit about the request object earlier but let's dig a little more into it. The request object holds all of the client data that was sent to the server"
   ]
  },
  {
   "cell_type": "code",
   "execution_count": null,
   "metadata": {
    "collapsed": false,
    "slideshow": {
     "slide_type": "fragment"
    }
   },
   "outputs": [],
   "source": [
    "from flask import Flask, request, render_template\n",
    "# This is some path magic that's required because this is an IPython notebook.\n",
    "template_dir = os.path.join(os.getcwd(), \"the_flask_module\", \"templates\")\n",
    "app = Flask(\"the_flask_module\", template_folder=template_dir)\n",
    "\n",
    "@app.route(\"/request_example\")\n",
    "def request_values():\n",
    "    return render_template(\"request_example.html\")\n",
    "\n",
    "app.run(host=\"0.0.0.0\", port=5000)\n",
    "# You now have a running web server. go to http://localhost:5000/ in a web browser or curl http://localhost:5000"
   ]
  },
  {
   "cell_type": "markdown",
   "metadata": {
    "slideshow": {
     "slide_type": "fragment"
    }
   },
   "source": [
    "[Request Example](http://localhost:5000/request_example?argument=testing)\n",
    "\n",
    "Other things of note is that the request object is a available in all Flask contexts (All Python module that import request and all templates called via `render_template`). Request is also thread safe (and greenlet, tasklet, thread pool safe) and as such is safe to use if you serve flask using [Apache](http://flask.pocoo.org/docs/0.10/deploying/mod_wsgi/), [ngenix](https://www.digitalocean.com/community/tutorials/how-to-serve-flask-applications-with-uwsgi-and-nginx-on-ubuntu-14-04), [uWSGI](https://www.digitalocean.com/community/tutorials/how-to-deploy-python-wsgi-applications-using-uwsgi-web-server-with-nginx), [Gunicorn](https://www.digitalocean.com/community/tutorials/how-to-deploy-python-wsgi-apps-using-gunicorn-http-server-behind-nginx), etc.\n",
    "\n",
    "[More about Flask's request object can be found here.](http://flask.pocoo.org/docs/0.9/quickstart/#accessing-request-data)"
   ]
  },
  {
   "cell_type": "markdown",
   "metadata": {
    "slideshow": {
     "slide_type": "slide"
    }
   },
   "source": [
    "#Sessions\n",
    "\n",
    "Flask sessions are also a thread safe object but whereas requests are bound by a HTTP Request sessions are bound to every request that a browser session makes. This is tracked (by default) using secure cookies.\n",
    "\n",
    "\n",
    "[There also a lot more you can do with sessions](http://flask.pocoo.org/snippets/category/sessions/) I'm a personal fan [of doing server side sessions with](http://flask.pocoo.org/snippets/75/)"
   ]
  },
  {
   "cell_type": "code",
   "execution_count": null,
   "metadata": {
    "collapsed": false,
    "slideshow": {
     "slide_type": "fragment"
    }
   },
   "outputs": [],
   "source": [
    "from flask import Flask, session\n",
    "app = Flask(\"the_flask_module\")\n",
    "\n",
    "# We'll talk about configuration in a bit. For now  we just need to set a secret key in order to use the flask session.\n",
    "app.config[\"SECRET_KEY\"] = \"I'm a totally unguessable secret.\"\n",
    "\n",
    "@app.route(\"/\")\n",
    "def session_example():\n",
    "    # The session object isn't a defaultdict\n",
    "    try:\n",
    "        session[\"number_of_calls\"] += 1\n",
    "    except KeyError:\n",
    "        session[\"number_of_calls\"] = 1\n",
    "    return str(session[\"number_of_calls\"])\n",
    "\n",
    "app.run(host=\"0.0.0.0\", port=5000)"
   ]
  },
  {
   "cell_type": "markdown",
   "metadata": {},
   "source": [
    "[Session Example](http://localhost:5000)"
   ]
  },
  {
   "cell_type": "markdown",
   "metadata": {
    "slideshow": {
     "slide_type": "slide"
    }
   },
   "source": [
    "#PLEASE NOTE!\n",
    "By default Flask will uses cookies to track user sessions. It's not server side tracking. Data is stored in the cookies\n",
    "\n",
    "[If you want server side sessions look here](http://flask.pocoo.org/snippets/75/)\n",
    "\n",
    "[If you'd really like to know the nitty gritty details of how Flask bounds objects and contexts then check out this slide deck](https://speakerdeck.com/mitsuhiko/advanced-flask-patterns-1)"
   ]
  },
  {
   "cell_type": "markdown",
   "metadata": {
    "slideshow": {
     "slide_type": "slide"
    }
   },
   "source": [
    "#The g Object\n",
    "\n",
    "The `g` (global) object is bound to the application context. This means that it's data that's available to all sessions. Many Flask deployments use the global object to pass flags to all sessions. The example we're going to use is to create a count for all user / sessions."
   ]
  },
  {
   "cell_type": "code",
   "execution_count": null,
   "metadata": {
    "collapsed": false,
    "scrolled": true,
    "slideshow": {
     "slide_type": "fragment"
    }
   },
   "outputs": [],
   "source": [
    "from flask import Flask, g\n",
    "app = Flask(\"the_flask_module\")\n",
    "\n",
    "# We'll talk about configuration in a bit. For now  we just\n",
    "# need to set a secret key in order to use the flask \n",
    "# session.\n",
    "app.config[\"SECRET_KEY\"] = \"I'm totally a unguessable secret.\"\n",
    "\n",
    "@app.before_request\n",
    "def before_request():\n",
    "    try:\n",
    "        g[\"number_of_calls\"] += 1\n",
    "    except KeyError:\n",
    "        g[\"number_of_calls\"] = 1\n",
    "\n",
    "@app.route(\"/\")\n",
    "def session_example():\n",
    "    return str(g.get(\"number_of_calls\", None))\n",
    "\n",
    "app.run(host=\"0.0.0.0\", port=5000)\n",
    "# You now have a running web server. go to http://localhost:5000/ in a web browser or curl http://localhost:5000"
   ]
  },
  {
   "cell_type": "markdown",
   "metadata": {
    "slideshow": {
     "slide_type": "fragment"
    }
   },
   "source": [
    "[Global Object Example](http://localhost:5000/)"
   ]
  },
  {
   "cell_type": "code",
   "execution_count": null,
   "metadata": {
    "collapsed": false,
    "slideshow": {
     "slide_type": "slide"
    }
   },
   "outputs": [],
   "source": [
    "from IPython.display import Image\n",
    "import os\n",
    "# Created from https://github.com/alex/what-happens-when\n",
    "# This is suuuper simplified and doesn't contain any error handling \n",
    "# (which is where http gets hairy).\n",
    "file_path = os.path.join(\"the_flask_module\", \"dumbed_down_http_state_machine.jpg\")\n",
    "Image(filename=file_path) # This is extra information if you're interested.\n"
   ]
  },
  {
   "cell_type": "code",
   "execution_count": null,
   "metadata": {
    "collapsed": false,
    "slideshow": {
     "slide_type": "slide"
    }
   },
   "outputs": [],
   "source": [
    "from IPython.display import Image\n",
    "import os\n",
    "file_path = os.path.join(\"the_flask_module\", \"high_level_flask_state_machine.jpg\")\n",
    "# Created from https://speakerdeck.com/mitsuhiko/advanced-flask-patterns-1\n",
    "Image(filename=file_path)# This is extra information if you're interested."
   ]
  },
  {
   "cell_type": "markdown",
   "metadata": {
    "slideshow": {
     "slide_type": "slide"
    }
   },
   "source": [
    "# Where do I go from here?\n",
    "[From here we can look at a completed example project](http://localhost:8888/tree/heart_beat) or [we can start looking at some useful Flask Extensions]() \n"
   ]
  },
  {
   "cell_type": "markdown",
   "metadata": {
    "slideshow": {
     "slide_type": "slide"
    }
   },
   "source": [
    "##Also, What Else Is Out There?\n",
    "\n",
    "Lastly, this talk is not about starting a framework war. Python is a very strong language for http request and reponses and there's plenty to choose from and often the frameworks steal idea's from each other.\n",
    "\n",
    "[Django has some of the best tutorials on the internet](https://www.djangoproject.com/)\n",
    "\n",
    "[I've heard many good things about bottle](http://bottlepy.org/docs/dev/index.html)\n",
    "\n",
    "[Pyramid is a little harder to setup but is also a wonderful project](https://pyramid.readthedocs.org/en/latest/)"
   ]
  }
 ],
 "metadata": {
  "kernelspec": {
   "display_name": "Python 3",
   "language": "python",
   "name": "python3"
  },
  "language_info": {
   "codemirror_mode": {
    "name": "ipython",
    "version": 3
   },
   "file_extension": ".py",
   "mimetype": "text/x-python",
   "name": "python",
   "nbconvert_exporter": "python",
   "pygments_lexer": "ipython3",
   "version": "3.4.2"
  }
 },
 "nbformat": 4,
 "nbformat_minor": 0
}
