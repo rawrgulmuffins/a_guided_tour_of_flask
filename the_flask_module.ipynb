{
 "cells": [
  {
   "cell_type": "markdown",
   "metadata": {},
   "source": [
    "Hello World,\n",
    "\n",
    "My name is Alex LordThorsen and I'm going to be talking about Flask and (if we have time) a couple of Flask Plugins.\n",
    "\n",
    "#Topics:\n",
    "* Why Flask?\n",
    "* A Simple Example\n",
    "* The app Object\n",
    "* Routes Using The App\n",
    "* What Do Views Return?\n",
    "* The Development Server\n",
    "* The Debug Stack Traces and Consoles\n",
    "* An Example Template\n",
    "* Returning JSON\n",
    "* The g and session Object\n",
    "* Request Methods and Metadata\n",
    "* Configuration\n",
    "* All Flask Objects\n"
   ]
  },
  {
   "cell_type": "markdown",
   "metadata": {},
   "source": [
    "#Why Flask?\n",
    "Flask is very simple and clean. It amazing easy to create a working application which serves real data (the heart_beat example is production code with 588 lines of code of which 231 is tests and 51 are project configuration that I wrote in 6 hours). Flask also lets you just start writing code without having to deal with any boiler plate (beyond two lines).\n",
    "\n",
    "[The flaskr example page](https://github.com/mitsuhiko/flask/blob/master/examples/flaskr/flaskr.py) is a fully functional blog (logins, logouts, page addition, homepage) in 110 lines of code backed by a sqlite3 database.\n",
    "\n",
    "Flask is also just an [amazing code base](https://github.com/mitsuhiko/flask). There has been more then one occuasion where I've looked at the source code to answer a question and it's always a pleasant experience.\n",
    "\n",
    "The Flask community is also very active and rabid. [The extensions library is filled with Gem's](http://flask.pocoo.org/extensions/) like [Flask-Cache](https://pythonhosted.org/Flask-Cache/), [Flask-DebugToolbar](http://flask.pocoo.org/extensions/), [Flask-lesscss](https://pypi.python.org/pypi/flask-lesscss), [Flask-login](https://pypi.python.org/pypi/Flask-Login), [Flask-WTF](https://pypi.python.org/pypi/Flask-WTF)and [Flask-SQlAlchemy](https://pypi.python.org/pypi/Flask-SQLAlchemy).\n",
    "\n",
    "If no one has made a Flask Extension that suits your needs then [creating an extension](http://flask.pocoo.org/docs/0.10/extensiondev/) requires about an hour worth of reading, a `setup.py` file, and  a class that modifies a flask app object.\n",
    "\n",
    "##What Else Is Out There?\n",
    "[Django has some of the best tutorials on the internet](https://www.djangoproject.com/)\n",
    "\n",
    "[I've heard many good things about bottle](http://bottlepy.org/docs/dev/index.html)\n",
    "\n",
    "[Pyramid is a little harder to setup but is also a wonderful project](https://pyramid.readthedocs.org/en/latest/)\n",
    "\n",
    "#So How Do I Use Flask?"
   ]
  },
  {
   "cell_type": "code",
   "execution_count": 22,
   "metadata": {
    "collapsed": false
   },
   "outputs": [],
   "source": [
    "from flask import Flask\n",
    "app = Flask(\"the_flask_module\")\n",
    "# The app object is really the heart of flask. All extensions modify the app object and almost\n",
    "# all of the flask magic comes from calling methods in the app object.\n",
    "\n",
    "\n",
    "@app.route(\"/\")\n",
    "def home_page():\n",
    "    return \"I'm a home page\"\n",
    "\n",
    "# If you've never seen decorators (the @app syntax) before then go read this later:\n",
    "# http://thecodeship.com/patterns/guide-to-python-function-decorators/\n",
    "\n",
    "# app.run is a blocking call that won't exit unless there's a user interrupt or a system error. \n",
    "# You'll have to controll-c to kill this cell to move on to the next cells.\n",
    "app.run(host=\"0.0.0.0\", port=5000)\n",
    "# You now have a running web server. go to http://localhost:5000/ in a web browser or curl http://localhost:5000"
   ]
  },
  {
   "cell_type": "markdown",
   "metadata": {},
   "source": [
    "# Well, That's Cute. Where's Everything Else?\n",
    "What you see in this example is about 50% of everything there is to Flask. There's some things about sessions, configuration, templating, url routing, http headers, http requests, cookies, and message flashing but this is the majority of everything. To be fair the `@app.route()` call is doing thousands of Python WSGI magic and the `app.run()` call is spinning up a entire http server with a WSGI module soooo...\n",
    "\n",
    "\n",
    "## By Default There is No Support For\n",
    "* Databases\n",
    "* Forms\n",
    "* An Admin page\n",
    "* Page indexing\n",
    "* Asynchronous calls\n",
    "* Login Support\n",
    "* File management\n",
    "* Lots of other defaults in other frameworks.\n",
    "\n",
    "This is by design.\n",
    "\n",
    "\"The idea of Flask is to build a good foundation for all applications. Everything else is up to you or extensions.\" -- Armin Ronacher, Author of Flask \n",
    "\n",
    "[All of those extra things are found in Flask Extensions which we'll cover in a the flask_extensions_notebook](http://flask.pocoo.org/extensions/)"
   ]
  },
  {
   "cell_type": "code",
   "execution_count": 27,
   "metadata": {
    "collapsed": false
   },
   "outputs": [],
   "source": [
    "from flask import Flask\n",
    "app = Flask(\"the_flask_module\")\n",
    "\n",
    "# Let's look at some of the things that you can do with routes.\n",
    "@app.route(\"/hello\")\n",
    "def hello_page():\n",
    "    return \"I'm a hello page\"\n",
    "\n",
    "# You can go up to the HTML URL lenght limit of 2000 characters\n",
    "# http://stackoverflow.com/questions/417142/what-is-the-maximum-length-of-a-url-in-different-browsers\n",
    "@app.route(\"/hello/one_step_deeper\")\n",
    "def hello_deeper():\n",
    "    return \"I'm a hello page\"\n",
    "\n",
    "# the_last_slash_is_optional\n",
    "@app.route(\"/hello/the_last_slash_is_optional/\")\n",
    "def optional_extra_slash():\n",
    "    return \"I'm a hello page\"\n",
    "\n",
    "# variables\n",
    "@app.route('/<text_to_echo>/')\n",
    "def echo(text_to_echo):\n",
    "    return text_to_echo\n",
    "\n",
    "# variables but only ints\n",
    "@app.route('/<int:text_to_echo>/')\n",
    "def echo_only_ints(ints_to_echo):\n",
    "    return ints_to_echo\n",
    "\n",
    "# the request object is where we can get http header information\n",
    "from flask import request\n",
    "@app.route('/', methods=['GET', 'POST'])\n",
    "def get_or_post():\n",
    "    return request.method\n",
    "\n",
    "@app.route('/all_methods', methods=['GET', 'HEAD\", \"POST\", \"PUT\", \"DELETE\", \"CONNECT\", \"OPTIONS\", \"TRACE\"])\n",
    "def all_methods():\n",
    "    return request.method\n",
    "\n",
    "app.run(host=\"0.0.0.0\", port=5000)\n",
    "# You now have a running web server. go to http://localhost:5000/ in a web browser or curl http://localhost:5000"
   ]
  },
  {
   "cell_type": "code",
   "execution_count": null,
   "metadata": {
    "collapsed": true
   },
   "outputs": [],
   "source": []
  },
  {
   "cell_type": "code",
   "execution_count": null,
   "metadata": {
    "collapsed": true
   },
   "outputs": [],
   "source": []
  }
 ],
 "metadata": {
  "kernelspec": {
   "display_name": "Python 3",
   "language": "python",
   "name": "python3"
  },
  "language_info": {
   "codemirror_mode": {
    "name": "ipython",
    "version": 3
   },
   "file_extension": ".py",
   "mimetype": "text/x-python",
   "name": "python",
   "nbconvert_exporter": "python",
   "pygments_lexer": "ipython3",
   "version": "3.4.0"
  }
 },
 "nbformat": 4,
 "nbformat_minor": 0
}
