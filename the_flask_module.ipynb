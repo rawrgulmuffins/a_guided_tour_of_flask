{
 "cells": [
  {
   "cell_type": "markdown",
   "metadata": {},
   "source": [
    "Hello World,\n",
    "\n",
    "My name is Alex LordThorsen and I'm going to be talking about Flask and (if we have time) a couple of Flask Plugins.\n",
    "\n",
    "#Topics:\n",
    "* Why Flask?\n",
    "* A Simple Example\n",
    "* The app Object\n",
    "* Routes Using The App\n",
    "* What Do Views Return?\n",
    "* The Development Server\n",
    "* The Debug Stack Traces and Consoles\n",
    "* An Example Template\n",
    "* Returning JSON\n",
    "* The g and session Object\n",
    "* Request Methods and Metadata\n",
    "* Configuration\n",
    "* All Flask Objects\n"
   ]
  },
  {
   "cell_type": "markdown",
   "metadata": {},
   "source": [
    "#Why Flask?\n",
    "Flask is very simple and clean. It amazing easy to create a working application which serves real data (the heart_beat example is production code with 588 lines of code of which 231 is tests and 51 are project configuration that I wrote in 6 hours). Flask also lets you just start writing code without having to deal with any boiler plate (beyond two lines).\n",
    "\n",
    "[The flaskr example page](https://github.com/mitsuhiko/flask/blob/master/examples/flaskr/flaskr.py) is a fully functional blog (logins, logouts, page addition, homepage) in 110 lines of code backed by a sqlite3 database.\n",
    "\n",
    "Flask is also just an [amazing code base](https://github.com/mitsuhiko/flask). There has been more then one occuasion where I've looked at the source code to answer a question and it's always a pleasant experience.\n",
    "\n",
    "The Flask community is also very active and rabid. [The extensions library is filled with Gem's](http://flask.pocoo.org/extensions/) like [Flask-Cache](https://pythonhosted.org/Flask-Cache/), [Flask-DebugToolbar](http://flask.pocoo.org/extensions/), [Flask-lesscss](https://pypi.python.org/pypi/flask-lesscss), [Flask-login](https://pypi.python.org/pypi/Flask-Login), [Flask-WTF](https://pypi.python.org/pypi/Flask-WTF)and [Flask-SQlAlchemy](https://pypi.python.org/pypi/Flask-SQLAlchemy).\n",
    "\n",
    "If no one has made a Flask Extension that suits your needs then [creating an extension](http://flask.pocoo.org/docs/0.10/extensiondev/) requires about an hour worth of reading, a `setup.py` file, and  a class that modifies a flask app object.\n",
    "\n",
    "##What Else Is Out There?\n",
    "[Django has some of the best tutorials on the internet](https://www.djangoproject.com/)\n",
    "\n",
    "[I've heard many good things about bottle](http://bottlepy.org/docs/dev/index.html)\n",
    "\n",
    "[Pyramid is a little harder to setup but is also a wonderful project](https://pyramid.readthedocs.org/en/latest/)\n",
    "\n",
    "#So How Do I Use Flask?"
   ]
  },
  {
   "cell_type": "code",
   "execution_count": 17,
   "metadata": {
    "collapsed": false
   },
   "outputs": [],
   "source": [
    "from flask import Flask\n",
    "app = Flask(\"the_flask_module\")\n",
    "\n",
    "@app.route(\"/\")\n",
    "def home_page():\n",
    "    return \"I'm a home page\"\n",
    "\n",
    "# app.run is a blocking call that won't exit unless there's a user interrupt or a system error. \n",
    "# You'll have to controll-c to kill this cell to move on to the next cells.\n",
    "app.run(host=\"0.0.0.0\", port=5000)\n",
    "# You now have a running web server. go to http://localhost:5000/ in a web browser or curl http://localhost:5000"
   ]
  },
  {
   "cell_type": "code",
   "execution_count": 19,
   "metadata": {
    "collapsed": false
   },
   "outputs": [],
   "source": [
    "# What is the app object?\n",
    "app?"
   ]
  },
  {
   "cell_type": "code",
   "execution_count": null,
   "metadata": {
    "collapsed": true
   },
   "outputs": [],
   "source": []
  }
 ],
 "metadata": {
  "kernelspec": {
   "display_name": "Python 3",
   "language": "python",
   "name": "python3"
  },
  "language_info": {
   "codemirror_mode": {
    "name": "ipython",
    "version": 3
   },
   "file_extension": ".py",
   "mimetype": "text/x-python",
   "name": "python",
   "nbconvert_exporter": "python",
   "pygments_lexer": "ipython3",
   "version": "3.4.0"
  }
 },
 "nbformat": 4,
 "nbformat_minor": 0
}
