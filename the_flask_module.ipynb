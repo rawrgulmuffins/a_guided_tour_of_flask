{
 "cells": [
  {
   "cell_type": "markdown",
   "metadata": {},
   "source": [
    "Hello World,\n",
    "\n",
    "My name is Alex LordThorsen and I'm going to be talking about Flask and (if we have time) a couple of Flask Plugins.\n",
    "\n",
    "#Topics:\n",
    "* Why Flask?\n",
    "* A Simple Example\n",
    "* The app Object\n",
    "* Routes Using The App\n",
    "* What Do Routes Return?\n",
    "* What are these template things?\n",
    "* Returning JSON\n",
    "* The Development Server\n",
    "* The Debug Stack Traces and Consoles\n",
    "* More on the request object\n",
    "* The g and session Object\n",
    "* Configuration\n",
    "* All Flask Objects\n"
   ]
  },
  {
   "cell_type": "markdown",
   "metadata": {},
   "source": [
    "#Why Flask?\n",
    "Flask is very simple and clean. It amazing easy to create a working application which serves real data (the heart_beat example is production code with 588 lines of code of which 231 is tests and 51 are project configuration that I wrote in 6 hours). Flask also lets you just start writing code without having to deal with any boiler plate (beyond two lines).\n",
    "\n",
    "[The flaskr example page](https://github.com/mitsuhiko/flask/blob/master/examples/flaskr/flaskr.py) is a fully functional blog (logins, logouts, page addition, homepage) in 110 lines of code backed by a sqlite3 database.\n",
    "\n",
    "Flask is also just an [amazing code base](https://github.com/mitsuhiko/flask). There has been more then one occuasion where I've looked at the source code to answer a question and it's always a pleasant experience.\n",
    "\n",
    "The Flask community is also very active and rabid. [The extensions library is filled with Gem's](http://flask.pocoo.org/extensions/) like [Flask-Cache](https://pythonhosted.org/Flask-Cache/), [Flask-DebugToolbar](http://flask.pocoo.org/extensions/), [Flask-lesscss](https://pypi.python.org/pypi/flask-lesscss), [Flask-login](https://pypi.python.org/pypi/Flask-Login), [Flask-WTF](https://pypi.python.org/pypi/Flask-WTF)and [Flask-SQlAlchemy](https://pypi.python.org/pypi/Flask-SQLAlchemy).\n",
    "\n",
    "If no one has made a Flask Extension that suits your needs then [creating an extension](http://flask.pocoo.org/docs/0.10/extensiondev/) requires about an hour worth of reading, a `setup.py` file, and  a class that modifies a flask app object.\n",
    "\n",
    "Lastly, I believe my strongest argument for why Flask is a great web framework is myself. I am not a web programmer but Flask is built in a well organized modular fashion. Flask organizes the complexity of web development to the point where I have been able to tackle things in bite sized chunks. \n",
    "\n",
    "\n",
    "#So How Do I Use Flask?"
   ]
  },
  {
   "cell_type": "code",
   "execution_count": 1,
   "metadata": {
    "collapsed": false
   },
   "outputs": [],
   "source": [
    "from flask import Flask\n",
    "app = Flask(\"the_flask_module\")\n",
    "# The app object is really the heart of flask. All extensions modify the app object and almost\n",
    "# all of the flask magic comes from calling methods in the app object.\n",
    "\n",
    "# If you've never seen decorators (the @app syntax) before then go read this later:\n",
    "# http://thecodeship.com/patterns/guide-to-python-function-decorators/\n",
    "\n",
    "@app.route(\"/\") # This is some decorator magic. Please ask if you need it explained.\n",
    "def home_page():\n",
    "    return \"I'm a home page\"\n",
    "\n",
    "# app.run is a blocking call that won't exit unless there's a user interrupt or a system error. \n",
    "# You'll have to controll-c to kill this cell to move on to the next cells.\n",
    "app.run(host=\"0.0.0.0\", port=5000)\n",
    "# You now have a running web server. go to http://localhost:5000/ in a web browser or curl http://localhost:5000"
   ]
  },
  {
   "cell_type": "markdown",
   "metadata": {},
   "source": [
    "#What Development Tools are there?\n",
    "For some very down the rabbit hole reasons Flask can't do an `app.run()` with the debug flag set to true. As such this Notebook can't show you one of the best features of flask. \n",
    "\n",
    "So we're going to take a little detour.\n",
    "\n",
    "There's two Flask Features which can only be displayed when you're running the app in debug mode.\n",
    "\n",
    "For those working at home you'll need to navigate to \n",
    "\n",
    "    cd the_flask_module\n",
    "    python reload_example.py\n",
    "\n",
    "## [Flask Reloader Example](http://localhost:5002/)\n",
    "For those working at home you'll need to navigate to \n",
    "\n",
    "    cd the_flask_module\n",
    "    python debug_example.py\n",
    "\n",
    "##[Flask Debugger Example](http://localhost:5001/missing_endif/)\n"
   ]
  },
  {
   "cell_type": "markdown",
   "metadata": {},
   "source": [
    "[Root page example](http://localhost:5000/)\n",
    "\n",
    "# Well, That's Cute. Where's Everything Else?\n",
    "What you see in this example is about 50% of everything there is to Flask. There's some things about sessions, configuration, templating, url routing, http headers, http requests, cookies, and message flashing but this is the majority of everything. To be fair the `@app.route()` call is doing thousands of Python WSGI magic and the `app.run()` call is spinning up a entire http server with a WSGI module soooo...\n",
    "\n",
    "\n",
    "## By Default There is No Support For\n",
    "* Databases\n",
    "* Forms\n",
    "* An Admin page\n",
    "* Page indexing\n",
    "* Asynchronous calls\n",
    "* Login Support\n",
    "* Lots of other defaults in other frameworks.\n",
    "\n",
    "This is by design.\n",
    "\n",
    "\"The idea of Flask is to build a good foundation for all applications. Everything else is up to you or extensions.\" -- Armin Ronacher, Author of Flask \n",
    "\n",
    "[All of those extra things are found in Flask Extensions which we'll cover in a the flask_extensions_notebook](http://flask.pocoo.org/extensions/)"
   ]
  },
  {
   "cell_type": "markdown",
   "metadata": {},
   "source": [
    "# So what is a route?\n",
    "In Flask a route is a function that has a `@app.route()` decorator above it. These define what url's route to what functions and what variables are passed to those functions.\n",
    "\n",
    "\n",
    "## The @ keyword\n",
    "[If you've never run into decorators before here's some (slightly verbose) explanations.](http://thecodeship.com/patterns/guide-to-python-function-decorators/) \n",
    "##`app.route()`\n",
    "If you've ever done any functional programming before Flask uses the `@app.route()` method as a way to sneak pattern matching into function. [If you don't know what that means here's a little rabbit hole to go down at your own leasure](http://learnyouahaskell.com/syntax-in-functions) but we're going to basically show what this does by example.\n",
    "## What are you returning too?\n",
    "All routes are expected to return a string. These strings will be add to a [Flask Response object](http://flask.pocoo.org/docs/0.10/api/#flask.Response). This object contains the body and headers of the http response.\n",
    "\n",
    "\n",
    "##TODO add http request life cycle (focus on URI and methods)\n",
    "[If you're super duper interested in the full view of a request and response HTTP life cycle you can checkout this repository by Alex Gayner](https://github.com/alex/what-happens-when)\n",
    "\n",
    "Here's a super simplified version."
   ]
  },
  {
   "cell_type": "code",
   "execution_count": 18,
   "metadata": {
    "collapsed": false
   },
   "outputs": [
    {
     "data": {
      "image/jpeg": "[encoded data removed]",
      "text/plain": [
       "<IPython.core.display.Image object>"
      ]
     },
     "execution_count": 18,
     "metadata": {},
     "output_type": "execute_result"
    }
   ],
   "source": [
    "from IPython.display import Image \n",
    "Image(filename='request_and_response.jpeg') # This is extra information if you're interested.\n",
    "# This is suuuper simplified and doesn't contain any error handling (which is where http gets hairy)."
   ]
  },
  {
   "cell_type": "code",
   "execution_count": null,
   "metadata": {
    "collapsed": true
   },
   "outputs": [],
   "source": [
    "from IPython.display import Image\n",
    "Image(filename='flask_state_machine.jpg')# This is extra information if you're interested."
   ]
  },
  {
   "cell_type": "code",
   "execution_count": 14,
   "metadata": {
    "collapsed": false
   },
   "outputs": [],
   "source": [
    "from flask import Flask\n",
    "app = Flask(\"the_flask_module\")\n",
    "\n",
    "# Let's look at some of the things that you can do with routes.\n",
    "@app.route(\"/hello\")\n",
    "def hello_page():\n",
    "    return \"I'm a hello page\"\n",
    "\n",
    "# You can go up to the HTML URL lenght limit of 2000 characters\n",
    "# http://stackoverflow.com/questions/417142/what-is-the-maximum-length-of-a-url-in-different-browsers\n",
    "@app.route(\"/hello/one_step_deeper\")\n",
    "def hello_deeper():\n",
    "    return \"I'm a hello page\"\n",
    "\n",
    "# the_last_slash_is_optional\n",
    "@app.route(\"/hello/optional_slash/\")\n",
    "def optional_extra_slash():\n",
    "    return \"I can have a slash\"\n",
    "\n",
    "# Can't have slash\n",
    "@app.route(\"/hello/no_slash\")\n",
    "def no_extra_slash():\n",
    "    return \"No slash for you.\"\n",
    "\n",
    "# variables\n",
    "@app.route('/<text_to_echo>/')\n",
    "def echo(text_to_echo):\n",
    "    return \"echo {}\".format(text_to_echo)\n",
    "\n",
    "# variables but only ints\n",
    "@app.route('/test/<int:int_to_echo>/')\n",
    "def echo_only_ints(int_to_echo):\n",
    "    return \"echo {}\".format(int_to_echo)\n",
    "\n",
    "# two variables but only ints\n",
    "@app.route('/add/<int:int_left>/<int:int_right>')\n",
    "def add_ints(int_left, int_right):\n",
    "    return \"{}\".format(int_left + int_right)\n",
    "\n",
    "# the request object is where we can get http header information\n",
    "# curl -X POST -d \"{}\" localhost:5000 # RUN THIS!\n",
    "from flask import request\n",
    "@app.route('/', methods=[\"GET\", \"POST\", \"PUT\"])\n",
    "def get_or_post():\n",
    "    return request.method\n",
    "\n",
    "@app.route('/all_methods', methods=[\"GET\", \"HEAD\", \"POST\", \"PUT\", \"DELETE\", \"CONNECT\", \"OPTIONS\", \"TRACE\"])\n",
    "def all_methods():\n",
    "    return request.method\n",
    "\n",
    "\n",
    "app.run(host=\"0.0.0.0\", port=5000)\n",
    "# You now have a running web server. go to http://localhost:5000/ in a web browser or curl http://localhost:5000"
   ]
  },
  {
   "cell_type": "markdown",
   "metadata": {},
   "source": [
    "#TODO add example URL's to click rather then type\n",
    "\n",
    "# TODO Talk about the route order of precedent\n",
    "## Typed wild cards first\n",
    "## General wild cards second\n",
    "## strings last\n",
    "\n",
    "# Having a two (or more) routes with the same function name name will cause an AssertionError exception."
   ]
  },
  {
   "cell_type": "code",
   "execution_count": 13,
   "metadata": {
    "collapsed": false
   },
   "outputs": [
    {
     "ename": "AssertionError",
     "evalue": "View function mapping is overwriting an existing endpoint function: hello_page",
     "output_type": "error",
     "traceback": [
      "\u001b[1;31m---------------------------------------------------------------------------\u001b[0m",
      "\u001b[1;31mAssertionError\u001b[0m                            Traceback (most recent call last)",
      "\u001b[1;32m<ipython-input-13-27e94f9a87e5>\u001b[0m in \u001b[0;36m<module>\u001b[1;34m()\u001b[0m\n\u001b[0;32m      7\u001b[0m     \u001b[1;32mreturn\u001b[0m \u001b[1;34m\"I'm a hello page\"\u001b[0m\u001b[1;33m\u001b[0m\u001b[0m\n\u001b[0;32m      8\u001b[0m \u001b[1;33m\u001b[0m\u001b[0m\n\u001b[1;32m----> 9\u001b[1;33m \u001b[1;33m@\u001b[0m\u001b[0mapp\u001b[0m\u001b[1;33m.\u001b[0m\u001b[0mroute\u001b[0m\u001b[1;33m(\u001b[0m\u001b[1;34m\"/different_route\"\u001b[0m\u001b[1;33m)\u001b[0m\u001b[1;33m\u001b[0m\u001b[0m\n\u001b[0m\u001b[0;32m     10\u001b[0m \u001b[1;32mdef\u001b[0m \u001b[0mhello_page\u001b[0m\u001b[1;33m(\u001b[0m\u001b[1;33m)\u001b[0m\u001b[1;33m:\u001b[0m\u001b[1;33m\u001b[0m\u001b[0m\n\u001b[0;32m     11\u001b[0m     \u001b[1;32mreturn\u001b[0m \u001b[1;34m\"Different route\"\u001b[0m\u001b[1;33m\u001b[0m\u001b[0m\n",
      "\u001b[1;32m/home/alord/.virtualenvs/flask_brownbag/lib/python3.4/site-packages/Flask-0.10.1-py3.4.egg/flask/app.py\u001b[0m in \u001b[0;36mdecorator\u001b[1;34m(f)\u001b[0m\n\u001b[0;32m   1011\u001b[0m         \u001b[1;32mdef\u001b[0m \u001b[0mdecorator\u001b[0m\u001b[1;33m(\u001b[0m\u001b[0mf\u001b[0m\u001b[1;33m)\u001b[0m\u001b[1;33m:\u001b[0m\u001b[1;33m\u001b[0m\u001b[0m\n\u001b[0;32m   1012\u001b[0m             \u001b[0mendpoint\u001b[0m \u001b[1;33m=\u001b[0m \u001b[0moptions\u001b[0m\u001b[1;33m.\u001b[0m\u001b[0mpop\u001b[0m\u001b[1;33m(\u001b[0m\u001b[1;34m'endpoint'\u001b[0m\u001b[1;33m,\u001b[0m \u001b[1;32mNone\u001b[0m\u001b[1;33m)\u001b[0m\u001b[1;33m\u001b[0m\u001b[0m\n\u001b[1;32m-> 1013\u001b[1;33m             \u001b[0mself\u001b[0m\u001b[1;33m.\u001b[0m\u001b[0madd_url_rule\u001b[0m\u001b[1;33m(\u001b[0m\u001b[0mrule\u001b[0m\u001b[1;33m,\u001b[0m \u001b[0mendpoint\u001b[0m\u001b[1;33m,\u001b[0m \u001b[0mf\u001b[0m\u001b[1;33m,\u001b[0m \u001b[1;33m**\u001b[0m\u001b[0moptions\u001b[0m\u001b[1;33m)\u001b[0m\u001b[1;33m\u001b[0m\u001b[0m\n\u001b[0m\u001b[0;32m   1014\u001b[0m             \u001b[1;32mreturn\u001b[0m \u001b[0mf\u001b[0m\u001b[1;33m\u001b[0m\u001b[0m\n\u001b[0;32m   1015\u001b[0m         \u001b[1;32mreturn\u001b[0m \u001b[0mdecorator\u001b[0m\u001b[1;33m\u001b[0m\u001b[0m\n",
      "\u001b[1;32m/home/alord/.virtualenvs/flask_brownbag/lib/python3.4/site-packages/Flask-0.10.1-py3.4.egg/flask/app.py\u001b[0m in \u001b[0;36mwrapper_func\u001b[1;34m(self, *args, **kwargs)\u001b[0m\n\u001b[0;32m     60\u001b[0m                 \u001b[1;34m'database models and everything related at a central place '\u001b[0m\u001b[1;33m\u001b[0m\u001b[0m\n\u001b[0;32m     61\u001b[0m                 'before the application starts serving requests.')\n\u001b[1;32m---> 62\u001b[1;33m         \u001b[1;32mreturn\u001b[0m \u001b[0mf\u001b[0m\u001b[1;33m(\u001b[0m\u001b[0mself\u001b[0m\u001b[1;33m,\u001b[0m \u001b[1;33m*\u001b[0m\u001b[0margs\u001b[0m\u001b[1;33m,\u001b[0m \u001b[1;33m**\u001b[0m\u001b[0mkwargs\u001b[0m\u001b[1;33m)\u001b[0m\u001b[1;33m\u001b[0m\u001b[0m\n\u001b[0m\u001b[0;32m     63\u001b[0m     \u001b[1;32mreturn\u001b[0m \u001b[0mupdate_wrapper\u001b[0m\u001b[1;33m(\u001b[0m\u001b[0mwrapper_func\u001b[0m\u001b[1;33m,\u001b[0m \u001b[0mf\u001b[0m\u001b[1;33m)\u001b[0m\u001b[1;33m\u001b[0m\u001b[0m\n\u001b[0;32m     64\u001b[0m \u001b[1;33m\u001b[0m\u001b[0m\n",
      "\u001b[1;32m/home/alord/.virtualenvs/flask_brownbag/lib/python3.4/site-packages/Flask-0.10.1-py3.4.egg/flask/app.py\u001b[0m in \u001b[0;36madd_url_rule\u001b[1;34m(self, rule, endpoint, view_func, **options)\u001b[0m\n\u001b[0;32m    982\u001b[0m             \u001b[1;32mif\u001b[0m \u001b[0mold_func\u001b[0m \u001b[1;32mis\u001b[0m \u001b[1;32mnot\u001b[0m \u001b[1;32mNone\u001b[0m \u001b[1;32mand\u001b[0m \u001b[0mold_func\u001b[0m \u001b[1;33m!=\u001b[0m \u001b[0mview_func\u001b[0m\u001b[1;33m:\u001b[0m\u001b[1;33m\u001b[0m\u001b[0m\n\u001b[0;32m    983\u001b[0m                 raise AssertionError('View function mapping is overwriting an '\n\u001b[1;32m--> 984\u001b[1;33m                                      'existing endpoint function: %s' % endpoint)\n\u001b[0m\u001b[0;32m    985\u001b[0m             \u001b[0mself\u001b[0m\u001b[1;33m.\u001b[0m\u001b[0mview_functions\u001b[0m\u001b[1;33m[\u001b[0m\u001b[0mendpoint\u001b[0m\u001b[1;33m]\u001b[0m \u001b[1;33m=\u001b[0m \u001b[0mview_func\u001b[0m\u001b[1;33m\u001b[0m\u001b[0m\n\u001b[0;32m    986\u001b[0m \u001b[1;33m\u001b[0m\u001b[0m\n",
      "\u001b[1;31mAssertionError\u001b[0m: View function mapping is overwriting an existing endpoint function: hello_page"
     ]
    }
   ],
   "source": [
    "from flask import Flask\n",
    "app = Flask(\"the_flask_module\")\n",
    "\n",
    "\n",
    "@app.route(\"/hello\")\n",
    "def hello_page():\n",
    "    return \"I'm a hello page\"\n",
    "\n",
    "@app.route(\"/different_route\")\n",
    "def hello_page():\n",
    "    return \"Different route\"\n",
    "\n",
    "\n",
    "app.run(host=\"0.0.0.0\", port=5000)\n",
    "# You now have a running web server. go to http://localhost:5000/ in a web browser or curl http://localhost:5000"
   ]
  },
  {
   "cell_type": "code",
   "execution_count": null,
   "metadata": {
    "collapsed": true
   },
   "outputs": [],
   "source": [
    "from flask import Flask\n",
    "app = Flask(\"the_flask_module\")\n",
    "\n",
    "\n",
    "@app.route('/div/<int:int_left>/<int:int_right>')\n",
    "def div_ints(int_left, int_right):\n",
    "    return \"{}\".format(int_left / int_right)\n",
    "\n",
    "\n",
    "app.run(host=\"0.0.0.0\", port=5000)\n",
    "# You now have a running web server. go to http://localhost:5000/ in a web browser or curl http://localhost:5000"
   ]
  },
  {
   "cell_type": "markdown",
   "metadata": {},
   "source": [
    "# Having a two (or more) routes with the same URL path will succeed but the second route will be unreachable."
   ]
  },
  {
   "cell_type": "code",
   "execution_count": 42,
   "metadata": {
    "collapsed": true
   },
   "outputs": [],
   "source": [
    "from flask import Flask\n",
    "app = Flask(\"the_flask_module\")\n",
    "\n",
    "# Having a two (or more) routes with the same name will cause an error.\n",
    "@app.route(\"/hello\")\n",
    "def hello_page():\n",
    "    return \"I'm a hello page\"\n",
    "\n",
    "@app.route(\"/hello\")\n",
    "def second_hello_page():\n",
    "    return \"Different route\"\n",
    "\n",
    "\n",
    "app.run(host=\"0.0.0.0\", port=5000)\n",
    "# You now have a running web server. go to http://localhost:5000/ in a web browser or curl http://localhost:5000"
   ]
  },
  {
   "cell_type": "markdown",
   "metadata": {},
   "source": [
    "#Flask Has a Top Down Order of Precedence\n",
    "If you have multiple routes that could be potential matches for a request then the top most route (closest to line 0) will be the route which is mapped to."
   ]
  },
  {
   "cell_type": "code",
   "execution_count": 44,
   "metadata": {
    "collapsed": true
   },
   "outputs": [],
   "source": [
    "from flask import Flask\n",
    "app = Flask(\"the_flask_module\")\n",
    "\n",
    "# variables\n",
    "@app.route('/<text_to_echo>/')\n",
    "def echo(text_to_echo):\n",
    "    return \"echo {}\".format(text_to_echo)\n",
    "\n",
    "# variables\n",
    "@app.route('/<text_to_echo>/')\n",
    "def echo_two(text_to_echo):\n",
    "    return \"Totally going to do my own thing.\"\n",
    "\n",
    "\n",
    "app.run(host=\"0.0.0.0\", port=5000)\n",
    "# You now have a running web server. go to http://localhost:5000/ in a web browser or curl http://localhost:5000"
   ]
  },
  {
   "cell_type": "markdown",
   "metadata": {},
   "source": [
    "#What do Routes Return?"
   ]
  },
  {
   "cell_type": "code",
   "execution_count": 55,
   "metadata": {
    "collapsed": false
   },
   "outputs": [],
   "source": [
    "import os\n",
    "from flask import Flask\n",
    "# This is some path magic that's required because this is an IPython notebook.\n",
    "template_dir = os.path.join(os.getcwd(), \"the_flask_module\", \"templates\")\n",
    "app = Flask(\"the_flask_module\", template_folder=template_dir)\n",
    "\n",
    "# We've seen that routes can return straight strings\n",
    "@app.route('/just_string')\n",
    "def just_string():\n",
    "    return \"I'm just a poor string!\"\n",
    "\n",
    "from flask import render_template\n",
    "# Flask also allows you to call a templating engine (which in turn just returns straight strings but prettier)\n",
    "@app.route('/')\n",
    "def simple_template():\n",
    "    return render_template(\"simple_example.html\")\n",
    "\n",
    "# You can pass arguments to templates which can be tested.\n",
    "@app.route('/if/')\n",
    "def if_template():\n",
    "    return render_template(\"if_example.html\", oxford_comma=True)\n",
    "\n",
    "# Or arguments that are used to loop.\n",
    "@app.route('/for/')\n",
    "def for_template():\n",
    "    return render_template(\"for_example.html\", word_list=[\"Nothing\", \"to\", \"see\", \"here.\"])\n",
    "\n",
    "\n",
    "app.run(host=\"0.0.0.0\", port=5000)\n",
    "# You now have a running web server. go to http://localhost:5000/ in a web browser or curl http://localhost:5000"
   ]
  },
  {
   "cell_type": "code",
   "execution_count": 56,
   "metadata": {
    "collapsed": false
   },
   "outputs": [
    {
     "name": "stderr",
     "output_type": "stream",
     "text": [
      "ERROR:the_flask_module:Exception on /missing_endif/ [GET]\n",
      "Traceback (most recent call last):\n",
      "  File \"/home/alord/.virtualenvs/flask_brownbag/lib/python3.4/site-packages/Flask-0.10.1-py3.4.egg/flask/app.py\", line 1817, in wsgi_app\n",
      "    response = self.full_dispatch_request()\n",
      "  File \"/home/alord/.virtualenvs/flask_brownbag/lib/python3.4/site-packages/Flask-0.10.1-py3.4.egg/flask/app.py\", line 1477, in full_dispatch_request\n",
      "    rv = self.handle_user_exception(e)\n",
      "  File \"/home/alord/.virtualenvs/flask_brownbag/lib/python3.4/site-packages/Flask-0.10.1-py3.4.egg/flask/app.py\", line 1381, in handle_user_exception\n",
      "    reraise(exc_type, exc_value, tb)\n",
      "  File \"/home/alord/.virtualenvs/flask_brownbag/lib/python3.4/site-packages/Flask-0.10.1-py3.4.egg/flask/_compat.py\", line 33, in reraise\n",
      "    raise value\n",
      "  File \"/home/alord/.virtualenvs/flask_brownbag/lib/python3.4/site-packages/Flask-0.10.1-py3.4.egg/flask/app.py\", line 1475, in full_dispatch_request\n",
      "    rv = self.dispatch_request()\n",
      "  File \"/home/alord/.virtualenvs/flask_brownbag/lib/python3.4/site-packages/Flask-0.10.1-py3.4.egg/flask/app.py\", line 1461, in dispatch_request\n",
      "    return self.view_functions[rule.endpoint](**req.view_args)\n",
      "  File \"<ipython-input-56-2835f8ccf604>\", line 10, in if_template\n",
      "    return render_template(\"missing_endif.html\", oxford_comma=True)\n",
      "  File \"/home/alord/.virtualenvs/flask_brownbag/lib/python3.4/site-packages/Flask-0.10.1-py3.4.egg/flask/templating.py\", line 127, in render_template\n",
      "    return _render(ctx.app.jinja_env.get_or_select_template(template_name_or_list),\n",
      "  File \"/home/alord/.virtualenvs/flask_brownbag/lib/python3.4/site-packages/jinja2/environment.py\", line 830, in get_or_select_template\n",
      "    return self.get_template(template_name_or_list, parent, globals)\n",
      "  File \"/home/alord/.virtualenvs/flask_brownbag/lib/python3.4/site-packages/jinja2/environment.py\", line 791, in get_template\n",
      "    return self._load_template(name, self.make_globals(globals))\n",
      "  File \"/home/alord/.virtualenvs/flask_brownbag/lib/python3.4/site-packages/jinja2/environment.py\", line 765, in _load_template\n",
      "    template = self.loader.load(self, name, globals)\n",
      "  File \"/home/alord/.virtualenvs/flask_brownbag/lib/python3.4/site-packages/jinja2/loaders.py\", line 125, in load\n",
      "    code = environment.compile(source, name, filename)\n",
      "  File \"/home/alord/.virtualenvs/flask_brownbag/lib/python3.4/site-packages/jinja2/environment.py\", line 554, in compile\n",
      "    self.handle_exception(exc_info, source_hint=source)\n",
      "  File \"/home/alord/.virtualenvs/flask_brownbag/lib/python3.4/site-packages/jinja2/environment.py\", line 742, in handle_exception\n",
      "    reraise(exc_type, exc_value, tb)\n",
      "  File \"/home/alord/.virtualenvs/flask_brownbag/lib/python3.4/site-packages/jinja2/_compat.py\", line 36, in reraise\n",
      "    raise value.with_traceback(tb)\n",
      "  File \"/home/alord/git/flask_brownbag/the_flask_module/templates/missing_endif.html\", line 4, in <module>\n",
      "    <h1> Charles, Max and Ororo. </h1>\n",
      "  File \"/home/alord/.virtualenvs/flask_brownbag/lib/python3.4/site-packages/jinja2/environment.py\", line 459, in _parse\n",
      "    return Parser(self, source, name, encode_filename(filename)).parse()\n",
      "  File \"/home/alord/.virtualenvs/flask_brownbag/lib/python3.4/site-packages/jinja2/parser.py\", line 893, in parse\n",
      "    result = nodes.Template(self.subparse(), lineno=1)\n",
      "  File \"/home/alord/.virtualenvs/flask_brownbag/lib/python3.4/site-packages/jinja2/parser.py\", line 875, in subparse\n",
      "    rv = self.parse_statement()\n",
      "  File \"/home/alord/.virtualenvs/flask_brownbag/lib/python3.4/site-packages/jinja2/parser.py\", line 122, in parse_statement\n",
      "    return getattr(self, 'parse_' + self.stream.current.value)()\n",
      "  File \"/home/alord/.virtualenvs/flask_brownbag/lib/python3.4/site-packages/jinja2/parser.py\", line 210, in parse_if\n",
      "    drop_needle=True)\n",
      "  File \"/home/alord/.virtualenvs/flask_brownbag/lib/python3.4/site-packages/jinja2/parser.py\", line 162, in parse_statements\n",
      "    self.fail_eof(end_tokens)\n",
      "  File \"/home/alord/.virtualenvs/flask_brownbag/lib/python3.4/site-packages/jinja2/parser.py\", line 96, in fail_eof\n",
      "    return self._fail_ut_eof(None, stack, lineno)\n",
      "  File \"/home/alord/.virtualenvs/flask_brownbag/lib/python3.4/site-packages/jinja2/parser.py\", line 82, in _fail_ut_eof\n",
      "    self.fail(' '.join(message), lineno)\n",
      "  File \"/home/alord/.virtualenvs/flask_brownbag/lib/python3.4/site-packages/jinja2/parser.py\", line 51, in fail\n",
      "    raise exc(msg, lineno, self.name, self.filename)\n",
      "jinja2.exceptions.TemplateSyntaxError: Unexpected end of template. Jinja was looking for the following tags: 'endif'. The innermost block that needs to be closed is 'if'.\n"
     ]
    }
   ],
   "source": [
    "import os\n",
    "from flask import Flask, render_template\n",
    "# This is some path magic that's required because this is an IPython notebook.\n",
    "template_dir = os.path.join(os.getcwd(), \"the_flask_module\", \"templates\")\n",
    "app = Flask(\"the_flask_module\", template_folder=template_dir)\n",
    "\n",
    "# You can pass arguments to templates which can be tested.\n",
    "@app.route('/missing_endif/')\n",
    "def if_template():\n",
    "    return render_template(\"missing_endif.html\", oxford_comma=True)\n",
    "\n",
    "\n",
    "app.run(host=\"0.0.0.0\", port=5000)\n",
    "# You now have a running web server. go to http://localhost:5000/ in a web browser or curl http://localhost:5000"
   ]
  },
  {
   "cell_type": "code",
   "execution_count": 57,
   "metadata": {
    "collapsed": true
   },
   "outputs": [],
   "source": [
    "import os\n",
    "from flask import Flask, render_template\n",
    "# This is some path magic that's required because this is an IPython notebook.\n",
    "template_dir = os.path.join(os.getcwd(), \"the_flask_module\", \"templates\")\n",
    "app = Flask(\"the_flask_module\", template_folder=template_dir)\n",
    "\n",
    "# Or arguments that are used to loop.\n",
    "@app.route('/missing_arg/')\n",
    "def for_template():\n",
    "    return render_template(\"template_without_argument.html\")\n",
    "\n",
    "\n",
    "app.run(host=\"0.0.0.0\", port=5000)\n",
    "# You now have a running web server. go to http://localhost:5000/ in a web browser or curl http://localhost:5000"
   ]
  },
  {
   "cell_type": "markdown",
   "metadata": {},
   "source": [
    "#You Know, I Think JSON is string data as well..."
   ]
  },
  {
   "cell_type": "code",
   "execution_count": 59,
   "metadata": {
    "collapsed": true
   },
   "outputs": [],
   "source": [
    "from flask import Flask, jsonify \n",
    "app = Flask(\"the_flask_module\")\n",
    "\n",
    "# More Info On jsonify at http://stackoverflow.com/questions/7907596/json-dumps-vs-flask-jsonify\n",
    "@app.route('/')\n",
    "def for_template():\n",
    "    return jsonify({\"the_tree_stooges\": [\"Moe\", \"Larry\", \"Curley\"]})\n",
    "\n",
    "\n",
    "app.run(host=\"0.0.0.0\", port=5000)\n",
    "# You now have a running web server. go to http://localhost:5000/ in a web browser or curl http://localhost:5000"
   ]
  },
  {
   "cell_type": "markdown",
   "metadata": {},
   "source": [
    "# Has Anyone Thought About Making API's this way?\n",
    "[eve](http://python-eve.org/) and [Flask-RESTful](https://flask-restful.readthedocs.org/en/0.3.3/) are two projects focused on API design using Flask."
   ]
  },
  {
   "cell_type": "markdown",
   "metadata": {},
   "source": [
    "#Requests\n",
    "We talked a little bit about the request object earlier but let's dig a little more into it. The request object holds all of the client data that was sent to the server"
   ]
  },
  {
   "cell_type": "code",
   "execution_count": 74,
   "metadata": {
    "collapsed": false
   },
   "outputs": [],
   "source": [
    "from flask import Flask, request, render_template\n",
    "# This is some path magic that's required because this is an IPython notebook.\n",
    "template_dir = os.path.join(os.getcwd(), \"the_flask_module\", \"templates\")\n",
    "app = Flask(\"the_flask_module\", template_folder=template_dir)\n",
    "\n",
    "\n",
    "@app.route(\"/request_example\")\n",
    "def request_values():\n",
    "    return render_template(\"request_example.html\")\n",
    "\n",
    "\n",
    "\n",
    "app.run(host=\"0.0.0.0\", port=5000)\n",
    "# You now have a running web server. go to http://localhost:5000/ in a web browser or curl http://localhost:5000"
   ]
  },
  {
   "cell_type": "markdown",
   "metadata": {},
   "source": [
    "[Request Example](http://localhost:5000/request_example?argument=testing)\n",
    "\n",
    "Other things of note is that the request object is a available in all Flask contexts (All Python module that import request and all templates called via `render_template`). Request is also thread safe (and greenlet, tasklet, thread pool safe) and as such is safe to use if you serve flask using [Apache](http://flask.pocoo.org/docs/0.10/deploying/mod_wsgi/), [ngenix](https://www.digitalocean.com/community/tutorials/how-to-serve-flask-applications-with-uwsgi-and-nginx-on-ubuntu-14-04), [uWSGI](https://www.digitalocean.com/community/tutorials/how-to-deploy-python-wsgi-applications-using-uwsgi-web-server-with-nginx), [Gunicorn](https://www.digitalocean.com/community/tutorials/how-to-deploy-python-wsgi-apps-using-gunicorn-http-server-behind-nginx), etc.\n",
    "\n",
    "[More about Flask's request object can be found here.](http://flask.pocoo.org/docs/0.9/quickstart/#accessing-request-data)"
   ]
  },
  {
   "cell_type": "markdown",
   "metadata": {},
   "source": [
    "#Sessions\n",
    "\n",
    "Flask sessions are also a thread safe object but whereas requests are bound by a HTTP Request sessions are bound \n",
    "\n",
    "\n",
    "[There also a lot more you can do with sessions](http://flask.pocoo.org/snippets/category/sessions/) I'm a personal fan [of doing server side sessions with](http://flask.pocoo.org/snippets/75/)"
   ]
  },
  {
   "cell_type": "code",
   "execution_count": null,
   "metadata": {
    "collapsed": false
   },
   "outputs": [],
   "source": [
    "from flask import Flask, session\n",
    "app = Flask(\"the_flask_module\")\n",
    "\n",
    "# We'll talk about configuration in a bit. For now  we just need to set a secret key in order to use the flask session.\n",
    "app.config[\"SECRET_KEY\"] = \"I'm totally a unguessable secret.\"\n",
    "\n",
    "@app.route(\"/\")\n",
    "def session_example():\n",
    "    # The session object isn't a defaultdict\n",
    "    try:\n",
    "        session[\"number_of_calls\"] += 1\n",
    "    except KeyError:\n",
    "        session[\"number_of_calls\"] = 1\n",
    "    return str(session[\"number_of_calls\"])\n",
    "\n",
    "\n",
    "\n",
    "app.run(host=\"0.0.0.0\", port=5000)\n",
    "# You now have a running web server. go to http://localhost:5000/ in a web browser or curl http://localhost:5000"
   ]
  },
  {
   "cell_type": "markdown",
   "metadata": {},
   "source": [
    "[Session Example](http://localhost:5000)\n",
    "\n",
    "\n",
    "[If you'd really like to know the nitty gritty details of how Flask bounds objects and contexts then checkout this slide deck](https://speakerdeck.com/mitsuhiko/advanced-flask-patterns-1)"
   ]
  },
  {
   "cell_type": "markdown",
   "metadata": {},
   "source": [
    "# Lastly the g object\n",
    "\n",
    "The `g` (global) object is bound to the application context. This means that it's data that's available to all sessions. Many Flask deployments use the global object to pass flags to all sessions. The example we're going to use is to create a count for all user / sessions."
   ]
  },
  {
   "cell_type": "code",
   "execution_count": null,
   "metadata": {
    "collapsed": true
   },
   "outputs": [],
   "source": [
    "from flask import Flask, g\n",
    "app = Flask(\"the_flask_module\")\n",
    "\n",
    "# We'll talk about configuration in a bit. For now  we just need to set a secret key in order to use the flask session.\n",
    "app.config[\"SECRET_KEY\"] = \"I'm totally a unguessable secret.\"\n",
    "\n",
    "@app.route(\"/\")\n",
    "def session_example():\n",
    "    # The session object isn't a defaultdict\n",
    "    try:\n",
    "        g[\"number_of_calls\"] += 1\n",
    "    except KeyError:\n",
    "        g[\"number_of_calls\"] = 1\n",
    "    return str(g[\"number_of_calls\"])\n",
    "\n",
    "\n",
    "\n",
    "app.run(host=\"0.0.0.0\", port=5000)\n",
    "# You now have a running web server. go to http://localhost:5000/ in a web browser or curl http://localhost:5000"
   ]
  },
  {
   "cell_type": "markdown",
   "metadata": {},
   "source": [
    "# Where do I go from here?\n",
    "[From here we can look at a completed example project](http://localhost:8888/tree/heart_beat) or [we can start looking at some useful Flask Extensions]() \n",
    "\n",
    "##Also, What Else Is Out There?\n",
    "\n",
    "Lastly, this talk is not about starting a framework war. Python is a very strong language for http request and reponses and there's plenty to choose from and often the frameworks steal idea's from each other.\n",
    "\n",
    "[Django has some of the best tutorials on the internet](https://www.djangoproject.com/)\n",
    "\n",
    "[I've heard many good things about bottle](http://bottlepy.org/docs/dev/index.html)\n",
    "\n",
    "[Pyramid is a little harder to setup but is also a wonderful project](https://pyramid.readthedocs.org/en/latest/)"
   ]
  },
  {
   "cell_type": "code",
   "execution_count": null,
   "metadata": {
    "collapsed": true
   },
   "outputs": [],
   "source": []
  }
 ],
 "metadata": {
  "kernelspec": {
   "display_name": "Python 3",
   "language": "python",
   "name": "python3"
  },
  "language_info": {
   "codemirror_mode": {
    "name": "ipython",
    "version": 3
   },
   "file_extension": ".py",
   "mimetype": "text/x-python",
   "name": "python",
   "nbconvert_exporter": "python",
   "pygments_lexer": "ipython3",
   "version": "3.4.0"
  }
 },
 "nbformat": 4,
 "nbformat_minor": 0
}
