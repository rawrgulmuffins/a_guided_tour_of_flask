{
 "cells": [
  {
   "cell_type": "markdown",
   "metadata": {},
   "source": [
    "Hello World,\n",
    "\n",
    "My name is Alex LordThorsen and I'm going to be talking about Flask and (if we have time) a couple of Flask Plugins.\n",
    "\n",
    "#Topics:\n",
    "* Why Flask?\n",
    "* A Simple Example\n",
    "* Development Tools\n",
    "* What Is A Route?\n",
    "* The app Object\n",
    "* Routes Using The App\n",
    "* What Do Routes Return?\n",
    "* What Are These template things?\n",
    "* Returning JSON\n",
    "* More On The request Object\n",
    "* The g and session Object\n",
    "* Configuration\n",
    "* All Flask Objects\n",
    "\n",
    "\n",
    "#Why Flask?\n",
    "Flask is very simple and clean. It amazing easy to create a working application which serves real data (the heart_beat example is production code with 588 lines of code of which 231 is tests and 51 are project configuration that I wrote in 6 hours). Flask also lets you just start writing code without having to deal with any boiler plate (beyond two lines).\n",
    "\n",
    "[The flaskr example page](https://github.com/mitsuhiko/flask/blob/master/examples/flaskr/flaskr.py) is a fully functional blog (logins, logouts, page addition, homepage) in 110 lines of code backed by a sqlite3 database.\n",
    "\n",
    "Flask is also just an [amazing code base](https://github.com/mitsuhiko/flask). There has been more then one occuasion where I've looked at the source code to answer a question and it's always a pleasant experience.\n",
    "\n",
    "The Flask community is also very active and rabid. [The extensions library is filled with Gem's](http://flask.pocoo.org/extensions/) like [Flask-Cache](https://pythonhosted.org/Flask-Cache/), [Flask-DebugToolbar](http://flask.pocoo.org/extensions/), [Flask-lesscss](https://pypi.python.org/pypi/flask-lesscss), [Flask-login](https://pypi.python.org/pypi/Flask-Login), [Flask-WTF](https://pypi.python.org/pypi/Flask-WTF)and [Flask-SQlAlchemy](https://pypi.python.org/pypi/Flask-SQLAlchemy).\n",
    "\n",
    "If no one has made a Flask Extension that suits your needs then [creating an extension](http://flask.pocoo.org/docs/0.10/extensiondev/) requires about an hour worth of reading, a `setup.py` file, and  a class that modifies a flask app object.\n",
    "\n",
    "Lastly, I believe my strongest argument for why Flask is a great web framework is myself. I am not a web programmer but Flask is built in a well organized modular fashion. Flask organizes the complexity of web development to the point where I have been able to tackle things in bite sized chunks. \n",
    "\n",
    "\n",
    "#So How Do I Use Flask?\n",
    "\n"
   ]
  },
  {
   "cell_type": "code",
   "execution_count": null,
   "metadata": {
    "collapsed": true
   },
   "outputs": [],
   "source": [
    "from flask import Flask\n",
    "app = Flask(\"the_flask_module\")\n",
    "# The app object is really the heart of flask. All extensions modify the app object and almost\n",
    "# all of the flask magic comes from calling methods in the app object.\n",
    "\n",
    "# If you've never seen decorators (the @app syntax) before then go read this later:\n",
    "# http://thecodeship.com/patterns/guide-to-python-function-decorators/\n",
    "\n",
    "@app.route(\"/\") # This is some decorator magic. Please ask if you need it explained.\n",
    "def home_page():\n",
    "    return \"I'm a home page\"\n",
    "\n",
    "# app.run is a blocking call that won't exit unless there's a user interrupt or a system error. \n",
    "# You'll have to controll-c to kill this cell to move on to the next cells.\n",
    "app.run(host=\"0.0.0.0\", port=5000)\n",
    "# You now have a running web server. go to http://localhost:5000/ in a web browser or curl http://localhost:5000"
   ]
  },
  {
   "cell_type": "markdown",
   "metadata": {},
   "source": [
    "#So How Do I Use Flask with SSL?\n",
    "For this example we will generate a self signed cert"
   ]
  },
  {
   "cell_type": "code",
   "execution_count": null,
   "metadata": {
    "collapsed": true
   },
   "outputs": [],
   "source": [
    "!openssl genrsa 1024 > ssl.key\n",
    "!printf \"US\\nWA\\nSeattle\\nIsilon\\n\\n\\n\\n\" | openssl req -new -x509 -nodes -sha1 -days 365 -key ssl.key > ssl.cert"
   ]
  },
  {
   "cell_type": "markdown",
   "metadata": {},
   "source": [
    "##Now we add the SSL context"
   ]
  },
  {
   "cell_type": "code",
   "execution_count": null,
   "metadata": {
    "collapsed": true
   },
   "outputs": [],
   "source": [
    "from flask import Flask\n",
    "import ssl\n",
    "ctx = ssl.SSLContext(ssl.PROTOCOL_SSLv23)\n",
    "ctx.load_cert_chain('ssl.cert', 'ssl.key')\n",
    "\n",
    "app = Flask(\"the_flask_module\")\n",
    "# The app object is really the heart of flask. All extensions modify the app object and almost\n",
    "# all of the flask magic comes from calling methods in the app object.\n",
    "\n",
    "# If you've never seen decorators (the @app syntax) before then go read this later:\n",
    "# http://thecodeship.com/patterns/guide-to-python-function-decorators/\n",
    "\n",
    "@app.route(\"/\") # This is some decorator magic. Please ask if you need it explained.\n",
    "def home_page():\n",
    "    return \"I'm a home page\"\n",
    "\n",
    "# app.run is a blocking call that won't exit unless there's a user interrupt or a system error. \n",
    "# You'll have to controll-c to kill this cell to move on to the next cells.\n",
    "app.run(host=\"0.0.0.0\", port=5000, ssl_context=ctx)\n",
    "# You now have a running web server. go to https://localhost:5000/ in a web browser or curl https://localhost:5000\n",
    "# this will generate a self-signed cert warning\n"
   ]
  },
  {
   "cell_type": "markdown",
   "metadata": {},
   "source": [
    "# So what is a route?\n",
    "In Flask a route is a function that has a `@app.route()` decorator above it. These define what url's route to what functions and what variables are passed to those functions.\n",
    "\n",
    "\n",
    "## The @ keyword\n",
    "[If you've never run into decorators before here's some (slightly verbose) explanations.](http://thecodeship.com/patterns/guide-to-python-function-decorators/) \n",
    "##`app.route()`\n",
    "If you've ever done any functional programming before Flask uses the `@app.route()` method as a way to sneak pattern matching into function. [If you don't know what that means here's a little rabbit hole to go down at your own leasure](http://learnyouahaskell.com/syntax-in-functions) but we're going to basically show what this does by example.\n",
    "## What are you returning too?\n",
    "All routes are expected to return a string. These strings will be add to a [Flask Response object](http://flask.pocoo.org/docs/0.10/api/#flask.Response). This object contains the body and headers of the http response.\n",
    "\n",
    "\n",
    "## If You're Interested In The Request / Reponse Life Cycle\n",
    "[If you're super duper interested in the full view of a request and response HTTP life cycle you can checkout this repository by Alex Gayner](https://github.com/alex/what-happens-when)\n",
    "\n",
    "Here's a super simplified version."
   ]
  },
  {
   "cell_type": "code",
   "execution_count": null,
   "metadata": {
    "collapsed": false
   },
   "outputs": [],
   "source": [
    "from IPython.display import Image\n",
    "import os\n",
    "# Created from https://github.com/alex/what-happens-when\n",
    "# This is suuuper simplified and doesn't contain any error handling \n",
    "# (which is where http gets hairy).\n",
    "file_path = os.path.join(\"the_flask_module\", \"dumbed_down_http_state_machine.jpg\")\n",
    "Image(filename=file_path) # This is extra information if you're interested.\n"
   ]
  },
  {
   "cell_type": "code",
   "execution_count": null,
   "metadata": {
    "collapsed": false
   },
   "outputs": [],
   "source": [
    "from IPython.display import Image\n",
    "import os\n",
    "file_path = os.path.join(\"the_flask_module\", \"high_level_flask_state_machine.jpg\")\n",
    "# Created from https://speakerdeck.com/mitsuhiko/advanced-flask-patterns-1\n",
    "Image(filename=file_path)# This is extra information if you're interested."
   ]
  },
  {
   "cell_type": "code",
   "execution_count": null,
   "metadata": {
    "collapsed": false
   },
   "outputs": [],
   "source": [
    "from flask import Flask\n",
    "app = Flask(\"the_flask_module\")\n",
    "\n",
    "# Let's look at some of the things that you can do with routes.\n",
    "@app.route(\"/hello\")\n",
    "def hello_page():\n",
    "    return \"I'm a hello page\"\n",
    "\n",
    "# You can go up to the HTML URL lenght limit of 2000 characters\n",
    "# http://stackoverflow.com/questions/417142/what-is-the-maximum-length-of-a-url-in-different-browsers\n",
    "@app.route(\"/hello/one_step_deeper\")\n",
    "def hello_deeper():\n",
    "    return \"I'm a hello page\"\n",
    "\n",
    "# the_last_slash_is_optional\n",
    "@app.route(\"/hello/optional_slash/\")\n",
    "def optional_extra_slash():\n",
    "    return \"I can have a slash\"\n",
    "\n",
    "# Can't have slash\n",
    "@app.route(\"/hello/no_slash\")\n",
    "def no_extra_slash():\n",
    "    return \"No slash for you.\"\n",
    "\n",
    "# variables\n",
    "@app.route('/<text_to_echo>/')\n",
    "def echo(text_to_echo):\n",
    "    return \"echo {}\".format(text_to_echo)\n",
    "\n",
    "# variables but only ints\n",
    "@app.route('/test/<int:int_to_echo>/')\n",
    "def echo_only_ints(int_to_echo):\n",
    "    return \"echo {}\".format(int_to_echo)\n",
    "\n",
    "# two variables but only ints\n",
    "@app.route('/<int:int_left>/<int:int_right>')\n",
    "def add_ints(int_left, int_right):\n",
    "    return \"{}\".format(int_left + int_right)\n",
    "\n",
    "# the request object is where we can get http header information\n",
    "# curl -X POST -d \"{}\" localhost:5000 # RUN THIS!\n",
    "from flask import request\n",
    "@app.route('/', methods=[\"GET\", \"POST\", \"PUT\"])\n",
    "def get_or_post():\n",
    "    return request.method\n",
    "\n",
    "@app.route('/all_methods', methods=[\"GET\", \"HEAD\", \"POST\", \"PUT\", \"DELETE\", \"CONNECT\", \"OPTIONS\", \"TRACE\"])\n",
    "def all_methods():\n",
    "    return request.method\n",
    "\n",
    "\n",
    "app.run(host=\"0.0.0.0\", port=5000)\n",
    "# You now have a running web server. go to http://localhost:5000/ in a web browser or curl http://localhost:5000"
   ]
  },
  {
   "cell_type": "markdown",
   "metadata": {},
   "source": [
    "[Root page example](http://localhost:5000/)\n",
    "\n",
    "[Hello example](http://localhost:5000/hello)\n",
    "\n",
    "[Hello one step deeper example](http://localhost:5000/hello/one_step_deeper)\n",
    "\n",
    "[Optional slash example](http://localhost:5000//hello/optional_slash/)\n",
    "\n",
    "[No slash for you example](http://localhost:5000/hello/no_slash)\n",
    "\n",
    "[general wild card example](http://localhost:5000/I can type whatever I really want in here ''%%&^(*!&#)\n",
    "\n",
    "[int wild card example](http://localhost:5000/5)\n",
    "\n",
    "[Addition is the new cloud example](http://localhost:5000/10/10)\n",
    "\n",
    "# Well, That's Cute. Where's Everything Else?\n",
    "What you see in this example is about 50% of everything there is to Flask. There's some things about sessions, configuration, templating, url routing, http headers, http requests, cookies, and message flashing but this is the majority of everything. To be fair the `@app.route()` call is doing thousands of Python WSGI magic and the `app.run()` call is spinning up a entire http server with a WSGI module soooo...\n",
    "\n",
    "\n",
    "## By Default There is No Support For\n",
    "* Databases\n",
    "* Forms\n",
    "* An Admin page\n",
    "* Page indexing\n",
    "* Asynchronous calls\n",
    "* Login Support\n",
    "* Lots of other defaults in other frameworks.\n",
    "\n",
    "This is by design.\n",
    "\n",
    "\"The idea of Flask is to build a good foundation for all applications. Everything else is up to you or extensions.\" -- Armin Ronacher, Author of Flask \n",
    "\n",
    "[All of those extra things are found in Flask Extensions which we'll cover in a the flask_extensions_notebook](http://flask.pocoo.org/extensions/)"
   ]
  },
  {
   "cell_type": "markdown",
   "metadata": {},
   "source": [
    "#The Route Order of Precedent\n",
    "## Typed wild cards first\n",
    "    @app.route(\"<int:arg_name>\") # I'm a typed wild card path\n",
    "## General wild cards second\n",
    "    @app.route(\"<arg_name>\") # I'm a general wild card path\n",
    "## strings last\n",
    "    @app.route(\"/route_name\") # I'm a standard route path\n",
    "\n",
    "# Having a two (or more) routes with the same function name name will cause an AssertionError exception."
   ]
  },
  {
   "cell_type": "code",
   "execution_count": null,
   "metadata": {
    "collapsed": false
   },
   "outputs": [],
   "source": [
    "from flask import Flask\n",
    "app = Flask(\"the_flask_module\")\n",
    "\n",
    "\n",
    "@app.route(\"/hello\")\n",
    "def hello_page():\n",
    "    return \"I'm a hello page\"\n",
    "\n",
    "@app.route(\"/different_route\")\n",
    "def hello_page():\n",
    "    return \"Different route\"\n",
    "\n",
    "\n",
    "app.run(host=\"0.0.0.0\", port=5000)\n",
    "# You now have a running web server. go to http://localhost:5000/ in a web browser or curl http://localhost:5000"
   ]
  },
  {
   "cell_type": "code",
   "execution_count": null,
   "metadata": {
    "collapsed": true
   },
   "outputs": [],
   "source": [
    "from flask import Flask\n",
    "app = Flask(\"the_flask_module\")\n",
    "\n",
    "\n",
    "@app.route('/div/<int:int_left>/<int:int_right>')\n",
    "def div_ints(int_left, int_right):\n",
    "    return \"{}\".format(int_left / int_right)\n",
    "\n",
    "\n",
    "app.run(host=\"0.0.0.0\", port=5000)\n",
    "# You now have a running web server. go to http://localhost:5000/ in a web browser or curl http://localhost:5000"
   ]
  },
  {
   "cell_type": "markdown",
   "metadata": {},
   "source": [
    "# Having a two (or more) routes with the same URL path will succeed but the second route will be unreachable."
   ]
  },
  {
   "cell_type": "code",
   "execution_count": null,
   "metadata": {
    "collapsed": true
   },
   "outputs": [],
   "source": [
    "from flask import Flask\n",
    "app = Flask(\"the_flask_module\")\n",
    "\n",
    "# Having a two (or more) routes with the same name will cause an error.\n",
    "@app.route(\"/hello\")\n",
    "def hello_page():\n",
    "    return \"I'm a hello page\"\n",
    "\n",
    "@app.route(\"/hello\")\n",
    "def second_hello_page():\n",
    "    return \"Different route\"\n",
    "\n",
    "\n",
    "app.run(host=\"0.0.0.0\", port=5000)\n",
    "# You now have a running web server. go to http://localhost:5000/ in a web browser or curl http://localhost:5000"
   ]
  },
  {
   "cell_type": "markdown",
   "metadata": {},
   "source": [
    "#Flask Has a Top Down Order of Precedence\n",
    "If you have multiple routes that could be potential matches for a request then the top most route (closest to line 0) will be the route which is mapped to."
   ]
  },
  {
   "cell_type": "code",
   "execution_count": null,
   "metadata": {
    "collapsed": true
   },
   "outputs": [],
   "source": [
    "from flask import Flask\n",
    "app = Flask(\"the_flask_module\")\n",
    "\n",
    "# variables\n",
    "@app.route('/<text_to_echo>/')\n",
    "def echo(text_to_echo):\n",
    "    return \"echo {}\".format(text_to_echo)\n",
    "\n",
    "# variables\n",
    "@app.route('/<text_to_echo>/')\n",
    "def echo_two(text_to_echo):\n",
    "    return \"Totally going to do my own thing.\"\n",
    "\n",
    "\n",
    "app.run(host=\"0.0.0.0\", port=5000)\n",
    "# You now have a running web server. go to http://localhost:5000/ in a web browser or curl http://localhost:5000"
   ]
  },
  {
   "cell_type": "markdown",
   "metadata": {},
   "source": [
    "#What do Routes Return?"
   ]
  },
  {
   "cell_type": "code",
   "execution_count": null,
   "metadata": {
    "collapsed": false
   },
   "outputs": [],
   "source": [
    "import os\n",
    "from flask import Flask\n",
    "# This is some path magic that's required because this is an IPython notebook.\n",
    "template_dir = os.path.join(os.getcwd(), \"the_flask_module\", \"templates\")\n",
    "app = Flask(\"the_flask_module\", template_folder=template_dir)\n",
    "\n",
    "# We've seen that routes can return straight strings\n",
    "@app.route('/just_string')\n",
    "def just_string():\n",
    "    return \"I'm just a poor string!\"\n",
    "\n",
    "from flask import render_template\n",
    "# Flask also allows you to call a templating engine (which in turn just returns straight strings but prettier)\n",
    "@app.route('/')\n",
    "def simple_template():\n",
    "    return render_template(\"simple_example.html\")\n",
    "\n",
    "# You can pass arguments to templates which can be tested.\n",
    "@app.route('/if/')\n",
    "def if_template():\n",
    "    return render_template(\"if_example.html\", oxford_comma=True)\n",
    "\n",
    "# Or arguments that are used to loop.\n",
    "@app.route('/for/')\n",
    "def for_template():\n",
    "    return render_template(\"for_example.html\", word_list=[\"Nothing\", \"to\", \"see\", \"here.\"])\n",
    "\n",
    "\n",
    "app.run(host=\"0.0.0.0\", port=5000)\n",
    "# You now have a running web server. go to http://localhost:5000/ in a web browser or curl http://localhost:5000"
   ]
  },
  {
   "cell_type": "code",
   "execution_count": null,
   "metadata": {
    "collapsed": false
   },
   "outputs": [],
   "source": [
    "# This is what the next examples template contains.\n",
    "%cat the_flask_module/templates/missing_endif.html\n",
    "# Notice that there's a missing {%- endif -%} which will cause an error.\n"
   ]
  },
  {
   "cell_type": "code",
   "execution_count": null,
   "metadata": {
    "collapsed": false
   },
   "outputs": [],
   "source": [
    "# Just as a side note IPython can run shell commands  \n",
    "!ls\n",
    "# And has some alias for some shell commands.\n",
    "%alias"
   ]
  },
  {
   "cell_type": "code",
   "execution_count": null,
   "metadata": {
    "collapsed": false
   },
   "outputs": [],
   "source": [
    "import os\n",
    "from flask import Flask, render_template\n",
    "# This is some path magic that's required because this is an IPython notebook.\n",
    "template_dir = os.path.join(os.getcwd(), \"the_flask_module\", \"templates\")\n",
    "app = Flask(\"the_flask_module\", template_folder=template_dir)\n",
    "\n",
    "# You can pass arguments to templates which can be tested.\n",
    "@app.route('/missing_endif/')\n",
    "def if_template():\n",
    "    return render_template(\"missing_endif.html\", oxford_comma=True)\n",
    "\n",
    "\n",
    "app.run(host=\"0.0.0.0\", port=5000)\n",
    "# You now have a running web server. go to http://localhost:5000/ in a web browser or curl http://localhost:5000"
   ]
  },
  {
   "cell_type": "markdown",
   "metadata": {},
   "source": [
    "[Error example](http://localhost:5000/missing_endif/)\n",
    "# What Happens If You Forget To Pass An Argument?"
   ]
  },
  {
   "cell_type": "code",
   "execution_count": null,
   "metadata": {
    "collapsed": false
   },
   "outputs": [],
   "source": [
    "# This is what the next examples template contains.\n",
    "%cat the_flask_module/templates/template_without_argument.html\n",
    "# If we forget to pass oxford_comma do you think Flask will error out? Should it?"
   ]
  },
  {
   "cell_type": "code",
   "execution_count": null,
   "metadata": {
    "collapsed": true
   },
   "outputs": [],
   "source": [
    "import os\n",
    "from flask import Flask, render_template\n",
    "# This is some path magic that's required because this is an IPython notebook.\n",
    "template_dir = os.path.join(os.getcwd(), \"the_flask_module\", \"templates\")\n",
    "app = Flask(\"the_flask_module\", template_folder=template_dir)\n",
    "\n",
    "# Or arguments that are used to loop.\n",
    "@app.route('/missing_arg/')\n",
    "def for_template():\n",
    "    return render_template(\"template_without_argument.html\")\n",
    "\n",
    "\n",
    "app.run(host=\"0.0.0.0\", port=5000)\n",
    "# You now have a running web server. go to http://localhost:5000/ in a web browser or curl http://localhost:5000"
   ]
  },
  {
   "cell_type": "markdown",
   "metadata": {},
   "source": [
    "[Second error example]()\n",
    "#You Know, I Think JSON is string data as well..."
   ]
  },
  {
   "cell_type": "code",
   "execution_count": null,
   "metadata": {
    "collapsed": true
   },
   "outputs": [],
   "source": [
    "from flask import Flask, jsonify \n",
    "app = Flask(\"the_flask_module\")\n",
    "\n",
    "# More Info On jsonify at http://stackoverflow.com/questions/7907596/json-dumps-vs-flask-jsonify\n",
    "@app.route('/')\n",
    "def for_template():\n",
    "    return jsonify({\"the_tree_stooges\": [\"Moe\", \"Larry\", \"Curley\"]})\n",
    "\n",
    "\n",
    "app.run(host=\"0.0.0.0\", port=5000)\n",
    "# You now have a running web server. go to http://localhost:5000/ in a web browser or curl http://localhost:5000"
   ]
  },
  {
   "cell_type": "markdown",
   "metadata": {},
   "source": [
    "# Has Anyone Thought About Making API's this way?\n",
    "[eve](http://python-eve.org/) and [Flask-RESTful](https://flask-restful.readthedocs.org/en/0.3.3/) are two projects focused on API design using Flask."
   ]
  },
  {
   "cell_type": "markdown",
   "metadata": {},
   "source": [
    "#Requests\n",
    "We talked a little bit about the request object earlier but let's dig a little more into it. The request object holds all of the client data that was sent to the server"
   ]
  },
  {
   "cell_type": "code",
   "execution_count": null,
   "metadata": {
    "collapsed": false
   },
   "outputs": [],
   "source": [
    "from flask import Flask, request, render_template\n",
    "# This is some path magic that's required because this is an IPython notebook.\n",
    "template_dir = os.path.join(os.getcwd(), \"the_flask_module\", \"templates\")\n",
    "app = Flask(\"the_flask_module\", template_folder=template_dir)\n",
    "\n",
    "\n",
    "@app.route(\"/request_example\")\n",
    "def request_values():\n",
    "    return render_template(\"request_example.html\")\n",
    "\n",
    "\n",
    "\n",
    "app.run(host=\"0.0.0.0\", port=5000)\n",
    "# You now have a running web server. go to http://localhost:5000/ in a web browser or curl http://localhost:5000"
   ]
  },
  {
   "cell_type": "markdown",
   "metadata": {},
   "source": [
    "[Request Example](http://localhost:5000/request_example?argument=testing)\n",
    "\n",
    "Other things of note is that the request object is a available in all Flask contexts (All Python module that import request and all templates called via `render_template`). Request is also thread safe (and greenlet, tasklet, thread pool safe) and as such is safe to use if you serve flask using [Apache](http://flask.pocoo.org/docs/0.10/deploying/mod_wsgi/), [ngenix](https://www.digitalocean.com/community/tutorials/how-to-serve-flask-applications-with-uwsgi-and-nginx-on-ubuntu-14-04), [uWSGI](https://www.digitalocean.com/community/tutorials/how-to-deploy-python-wsgi-applications-using-uwsgi-web-server-with-nginx), [Gunicorn](https://www.digitalocean.com/community/tutorials/how-to-deploy-python-wsgi-apps-using-gunicorn-http-server-behind-nginx), etc.\n",
    "\n",
    "[More about Flask's request object can be found here.](http://flask.pocoo.org/docs/0.9/quickstart/#accessing-request-data)"
   ]
  },
  {
   "cell_type": "markdown",
   "metadata": {},
   "source": [
    "#Sessions\n",
    "\n",
    "Flask sessions are also a thread safe object but whereas requests are bound by a HTTP Request sessions are bound to every request that a browser session makes. This is tracked (by default) using secure cookies.\n",
    "\n",
    "\n",
    "[There also a lot more you can do with sessions](http://flask.pocoo.org/snippets/category/sessions/) I'm a personal fan [of doing server side sessions with](http://flask.pocoo.org/snippets/75/)"
   ]
  },
  {
   "cell_type": "code",
   "execution_count": null,
   "metadata": {
    "collapsed": false
   },
   "outputs": [],
   "source": [
    "from flask import Flask, session\n",
    "app = Flask(\"the_flask_module\")\n",
    "\n",
    "# We'll talk about configuration in a bit. For now  we just need to set a secret key in order to use the flask session.\n",
    "app.config[\"SECRET_KEY\"] = \"I'm totally a unguessable secret.\"\n",
    "\n",
    "@app.route(\"/\")\n",
    "def session_example():\n",
    "    # The session object isn't a defaultdict\n",
    "    try:\n",
    "        session[\"number_of_calls\"] += 1\n",
    "    except KeyError:\n",
    "        session[\"number_of_calls\"] = 1\n",
    "    return str(session[\"number_of_calls\"])\n",
    "\n",
    "\n",
    "\n",
    "app.run(host=\"0.0.0.0\", port=5000)\n",
    "# You now have a running web server. go to http://localhost:5000/ in a web browser or curl http://localhost:5000"
   ]
  },
  {
   "cell_type": "markdown",
   "metadata": {},
   "source": [
    "[Session Example](http://localhost:5000)\n",
    "\n",
    "\n",
    "[If you'd really like to know the nitty gritty details of how Flask bounds objects and contexts then checkout this slide deck](https://speakerdeck.com/mitsuhiko/advanced-flask-patterns-1)"
   ]
  },
  {
   "cell_type": "markdown",
   "metadata": {},
   "source": [
    "# Lastly the g object\n",
    "\n",
    "The `g` (global) object is bound to the application context. This means that it's data that's available to all sessions. Many Flask deployments use the global object to pass flags to all sessions. The example we're going to use is to create a count for all user / sessions."
   ]
  },
  {
   "cell_type": "code",
   "execution_count": null,
   "metadata": {
    "collapsed": true
   },
   "outputs": [],
   "source": [
    "from flask import Flask, g\n",
    "app = Flask(\"the_flask_module\")\n",
    "\n",
    "# We'll talk about configuration in a bit. For now  we just need to set a secret key in order to use the flask session.\n",
    "app.config[\"SECRET_KEY\"] = \"I'm totally a unguessable secret.\"\n",
    "\n",
    "@app.route(\"/\")\n",
    "def session_example():\n",
    "    # The session object isn't a defaultdict\n",
    "    try:\n",
    "        g[\"number_of_calls\"] += 1\n",
    "    except KeyError:\n",
    "        g[\"number_of_calls\"] = 1\n",
    "    return str(g[\"number_of_calls\"])\n",
    "\n",
    "\n",
    "\n",
    "app.run(host=\"0.0.0.0\", port=5000)\n",
    "# You now have a running web server. go to http://localhost:5000/ in a web browser or curl http://localhost:5000"
   ]
  },
  {
   "cell_type": "markdown",
   "metadata": {},
   "source": [
    "# Where do I go from here?\n",
    "[From here we can look at a completed example project](http://localhost:8888/tree/heart_beat) or [we can start looking at some useful Flask Extensions]() \n",
    "\n",
    "##Also, What Else Is Out There?\n",
    "\n",
    "Lastly, this talk is not about starting a framework war. Python is a very strong language for http request and reponses and there's plenty to choose from and often the frameworks steal idea's from each other.\n",
    "\n",
    "[Django has some of the best tutorials on the internet](https://www.djangoproject.com/)\n",
    "\n",
    "[I've heard many good things about bottle](http://bottlepy.org/docs/dev/index.html)\n",
    "\n",
    "[Pyramid is a little harder to setup but is also a wonderful project](https://pyramid.readthedocs.org/en/latest/)"
   ]
  }
 ],
 "metadata": {
  "kernelspec": {
   "display_name": "Python 3",
   "language": "python",
   "name": "python3"
  },
  "language_info": {
   "codemirror_mode": {
    "name": "ipython",
    "version": 3
   },
   "file_extension": ".py",
   "mimetype": "text/x-python",
   "name": "python",
   "nbconvert_exporter": "python",
   "pygments_lexer": "ipython3",
   "version": "3.4.2"
  }
 },
 "nbformat": 4,
 "nbformat_minor": 0
}
