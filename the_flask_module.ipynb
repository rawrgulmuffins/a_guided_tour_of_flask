{
 "cells": [
  {
   "cell_type": "markdown",
   "metadata": {},
   "source": [
    "Hello World,\n",
    "\n",
    "My name is Alex LordThorsen and I'm going to be talking about Flask and (if we have time) a couple of Flask Plugins.\n",
    "\n",
    "#Topics:\n",
    "* Why Flask?\n",
    "* A Simple Example\n",
    "* The app Object\n",
    "* Routes Using The App\n",
    "* What Do Routes Return?\n",
    "* The Development Server\n",
    "* The Debug Stack Traces and Consoles\n",
    "* An Example Template\n",
    "* Returning JSON\n",
    "* The g and session Object\n",
    "* Request Methods and Metadata\n",
    "* Configuration\n",
    "* All Flask Objects\n"
   ]
  },
  {
   "cell_type": "markdown",
   "metadata": {},
   "source": [
    "#Why Flask?\n",
    "Flask is very simple and clean. It amazing easy to create a working application which serves real data (the heart_beat example is production code with 588 lines of code of which 231 is tests and 51 are project configuration that I wrote in 6 hours). Flask also lets you just start writing code without having to deal with any boiler plate (beyond two lines).\n",
    "\n",
    "[The flaskr example page](https://github.com/mitsuhiko/flask/blob/master/examples/flaskr/flaskr.py) is a fully functional blog (logins, logouts, page addition, homepage) in 110 lines of code backed by a sqlite3 database.\n",
    "\n",
    "Flask is also just an [amazing code base](https://github.com/mitsuhiko/flask). There has been more then one occuasion where I've looked at the source code to answer a question and it's always a pleasant experience.\n",
    "\n",
    "The Flask community is also very active and rabid. [The extensions library is filled with Gem's](http://flask.pocoo.org/extensions/) like [Flask-Cache](https://pythonhosted.org/Flask-Cache/), [Flask-DebugToolbar](http://flask.pocoo.org/extensions/), [Flask-lesscss](https://pypi.python.org/pypi/flask-lesscss), [Flask-login](https://pypi.python.org/pypi/Flask-Login), [Flask-WTF](https://pypi.python.org/pypi/Flask-WTF)and [Flask-SQlAlchemy](https://pypi.python.org/pypi/Flask-SQLAlchemy).\n",
    "\n",
    "If no one has made a Flask Extension that suits your needs then [creating an extension](http://flask.pocoo.org/docs/0.10/extensiondev/) requires about an hour worth of reading, a `setup.py` file, and  a class that modifies a flask app object.\n",
    "\n",
    "##What Else Is Out There?\n",
    "[Django has some of the best tutorials on the internet](https://www.djangoproject.com/)\n",
    "\n",
    "[I've heard many good things about bottle](http://bottlepy.org/docs/dev/index.html)\n",
    "\n",
    "[Pyramid is a little harder to setup but is also a wonderful project](https://pyramid.readthedocs.org/en/latest/)\n",
    "\n",
    "#So How Do I Use Flask?"
   ]
  },
  {
   "cell_type": "code",
   "execution_count": 22,
   "metadata": {
    "collapsed": false
   },
   "outputs": [],
   "source": [
    "from flask import Flask\n",
    "app = Flask(\"the_flask_module\")\n",
    "# The app object is really the heart of flask. All extensions modify the app object and almost\n",
    "# all of the flask magic comes from calling methods in the app object.\n",
    "\n",
    "\n",
    "@app.route(\"/\")\n",
    "def home_page():\n",
    "    return \"I'm a home page\"\n",
    "\n",
    "# If you've never seen decorators (the @app syntax) before then go read this later:\n",
    "# http://thecodeship.com/patterns/guide-to-python-function-decorators/\n",
    "\n",
    "# app.run is a blocking call that won't exit unless there's a user interrupt or a system error. \n",
    "# You'll have to controll-c to kill this cell to move on to the next cells.\n",
    "app.run(host=\"0.0.0.0\", port=5000)\n",
    "# You now have a running web server. go to http://localhost:5000/ in a web browser or curl http://localhost:5000"
   ]
  },
  {
   "cell_type": "markdown",
   "metadata": {},
   "source": [
    "# Well, That's Cute. Where's Everything Else?\n",
    "What you see in this example is about 50% of everything there is to Flask. There's some things about sessions, configuration, templating, url routing, http headers, http requests, cookies, and message flashing but this is the majority of everything. To be fair the `@app.route()` call is doing thousands of Python WSGI magic and the `app.run()` call is spinning up a entire http server with a WSGI module soooo...\n",
    "\n",
    "\n",
    "## By Default There is No Support For\n",
    "* Databases\n",
    "* Forms\n",
    "* An Admin page\n",
    "* Page indexing\n",
    "* Asynchronous calls\n",
    "* Login Support\n",
    "* File management\n",
    "* Lots of other defaults in other frameworks.\n",
    "\n",
    "This is by design.\n",
    "\n",
    "\"The idea of Flask is to build a good foundation for all applications. Everything else is up to you or extensions.\" -- Armin Ronacher, Author of Flask \n",
    "\n",
    "[All of those extra things are found in Flask Extensions which we'll cover in a the flask_extensions_notebook](http://flask.pocoo.org/extensions/)"
   ]
  },
  {
   "cell_type": "markdown",
   "metadata": {},
   "source": [
    "# So what is a route?\n",
    "In Flask a route is a function that has a `@app.route()` decorator above it. These define what url's route to what functions and what variables are passed to those functions."
   ]
  },
  {
   "cell_type": "code",
   "execution_count": 36,
   "metadata": {
    "collapsed": false
   },
   "outputs": [],
   "source": [
    "from flask import Flask\n",
    "app = Flask(\"the_flask_module\")\n",
    "\n",
    "# Let's look at some of the things that you can do with routes.\n",
    "@app.route(\"/hello\")\n",
    "def hello_page():\n",
    "    return \"I'm a hello page\"\n",
    "\n",
    "# You can go up to the HTML URL lenght limit of 2000 characters\n",
    "# http://stackoverflow.com/questions/417142/what-is-the-maximum-length-of-a-url-in-different-browsers\n",
    "@app.route(\"/hello/one_step_deeper\")\n",
    "def hello_deeper():\n",
    "    return \"I'm a hello page\"\n",
    "\n",
    "# the_last_slash_is_optional\n",
    "@app.route(\"/hello/optional_slash/\")\n",
    "def optional_extra_slash():\n",
    "    return \"I can have a slash\"\n",
    "\n",
    "# Can't have slash\n",
    "@app.route(\"/hello/no_slash\")\n",
    "def no_extra_slash():\n",
    "    return \"No slash for you.\"\n",
    "\n",
    "# variables\n",
    "@app.route('/<text_to_echo>/')\n",
    "def echo(text_to_echo):\n",
    "    return \"echo {}\".format(text_to_echo)\n",
    "\n",
    "# variables but only ints\n",
    "@app.route('/test/<int:int_to_echo>/')\n",
    "def echo_only_ints(int_to_echo):\n",
    "    return \"echo {}\".format(int_to_echo)\n",
    "\n",
    "# the request object is where we can get http header information\n",
    "from flask import request\n",
    "@app.route('/', methods=[\"GET\", \"POST\"])\n",
    "def get_or_post():\n",
    "    return request.method\n",
    "\n",
    "@app.route('/all_methods', methods=[\"GET\", \"HEAD\", \"POST\", \"PUT\", \"DELETE\", \"CONNECT\", \"OPTIONS\", \"TRACE\"])\n",
    "def all_methods():\n",
    "    return request.method\n",
    "\n",
    "\n",
    "app.run(host=\"0.0.0.0\", port=5000)\n",
    "# You now have a running web server. go to http://localhost:5000/ in a web browser or curl http://localhost:5000"
   ]
  },
  {
   "cell_type": "markdown",
   "metadata": {},
   "source": [
    "# Having a two (or more) routes with the same function name name will cause an AssertionError exception."
   ]
  },
  {
   "cell_type": "code",
   "execution_count": 40,
   "metadata": {
    "collapsed": false
   },
   "outputs": [
    {
     "ename": "AssertionError",
     "evalue": "View function mapping is overwriting an existing endpoint function: hello_page",
     "output_type": "error",
     "traceback": [
      "\u001b[1;31m---------------------------------------------------------------------------\u001b[0m",
      "\u001b[1;31mAssertionError\u001b[0m                            Traceback (most recent call last)",
      "\u001b[1;32m<ipython-input-40-30355633820f>\u001b[0m in \u001b[0;36m<module>\u001b[1;34m()\u001b[0m\n\u001b[0;32m      7\u001b[0m     \u001b[1;32mreturn\u001b[0m \u001b[1;34m\"I'm a hello page\"\u001b[0m\u001b[1;33m\u001b[0m\u001b[0m\n\u001b[0;32m      8\u001b[0m \u001b[1;33m\u001b[0m\u001b[0m\n\u001b[1;32m----> 9\u001b[1;33m \u001b[1;33m@\u001b[0m\u001b[0mapp\u001b[0m\u001b[1;33m.\u001b[0m\u001b[0mroute\u001b[0m\u001b[1;33m(\u001b[0m\u001b[1;34m\"/different_route\"\u001b[0m\u001b[1;33m)\u001b[0m\u001b[1;33m\u001b[0m\u001b[0m\n\u001b[0m\u001b[0;32m     10\u001b[0m \u001b[1;32mdef\u001b[0m \u001b[0mhello_page\u001b[0m\u001b[1;33m(\u001b[0m\u001b[1;33m)\u001b[0m\u001b[1;33m:\u001b[0m\u001b[1;33m\u001b[0m\u001b[0m\n\u001b[0;32m     11\u001b[0m     \u001b[1;32mreturn\u001b[0m \u001b[1;34m\"Different route\"\u001b[0m\u001b[1;33m\u001b[0m\u001b[0m\n",
      "\u001b[1;32m/home/alord/.virtualenvs/flask_brownbag/lib/python3.4/site-packages/Flask-0.10.1-py3.4.egg/flask/app.py\u001b[0m in \u001b[0;36mdecorator\u001b[1;34m(f)\u001b[0m\n\u001b[0;32m   1011\u001b[0m         \u001b[1;32mdef\u001b[0m \u001b[0mdecorator\u001b[0m\u001b[1;33m(\u001b[0m\u001b[0mf\u001b[0m\u001b[1;33m)\u001b[0m\u001b[1;33m:\u001b[0m\u001b[1;33m\u001b[0m\u001b[0m\n\u001b[0;32m   1012\u001b[0m             \u001b[0mendpoint\u001b[0m \u001b[1;33m=\u001b[0m \u001b[0moptions\u001b[0m\u001b[1;33m.\u001b[0m\u001b[0mpop\u001b[0m\u001b[1;33m(\u001b[0m\u001b[1;34m'endpoint'\u001b[0m\u001b[1;33m,\u001b[0m \u001b[1;32mNone\u001b[0m\u001b[1;33m)\u001b[0m\u001b[1;33m\u001b[0m\u001b[0m\n\u001b[1;32m-> 1013\u001b[1;33m             \u001b[0mself\u001b[0m\u001b[1;33m.\u001b[0m\u001b[0madd_url_rule\u001b[0m\u001b[1;33m(\u001b[0m\u001b[0mrule\u001b[0m\u001b[1;33m,\u001b[0m \u001b[0mendpoint\u001b[0m\u001b[1;33m,\u001b[0m \u001b[0mf\u001b[0m\u001b[1;33m,\u001b[0m \u001b[1;33m**\u001b[0m\u001b[0moptions\u001b[0m\u001b[1;33m)\u001b[0m\u001b[1;33m\u001b[0m\u001b[0m\n\u001b[0m\u001b[0;32m   1014\u001b[0m             \u001b[1;32mreturn\u001b[0m \u001b[0mf\u001b[0m\u001b[1;33m\u001b[0m\u001b[0m\n\u001b[0;32m   1015\u001b[0m         \u001b[1;32mreturn\u001b[0m \u001b[0mdecorator\u001b[0m\u001b[1;33m\u001b[0m\u001b[0m\n",
      "\u001b[1;32m/home/alord/.virtualenvs/flask_brownbag/lib/python3.4/site-packages/Flask-0.10.1-py3.4.egg/flask/app.py\u001b[0m in \u001b[0;36mwrapper_func\u001b[1;34m(self, *args, **kwargs)\u001b[0m\n\u001b[0;32m     60\u001b[0m                 \u001b[1;34m'database models and everything related at a central place '\u001b[0m\u001b[1;33m\u001b[0m\u001b[0m\n\u001b[0;32m     61\u001b[0m                 'before the application starts serving requests.')\n\u001b[1;32m---> 62\u001b[1;33m         \u001b[1;32mreturn\u001b[0m \u001b[0mf\u001b[0m\u001b[1;33m(\u001b[0m\u001b[0mself\u001b[0m\u001b[1;33m,\u001b[0m \u001b[1;33m*\u001b[0m\u001b[0margs\u001b[0m\u001b[1;33m,\u001b[0m \u001b[1;33m**\u001b[0m\u001b[0mkwargs\u001b[0m\u001b[1;33m)\u001b[0m\u001b[1;33m\u001b[0m\u001b[0m\n\u001b[0m\u001b[0;32m     63\u001b[0m     \u001b[1;32mreturn\u001b[0m \u001b[0mupdate_wrapper\u001b[0m\u001b[1;33m(\u001b[0m\u001b[0mwrapper_func\u001b[0m\u001b[1;33m,\u001b[0m \u001b[0mf\u001b[0m\u001b[1;33m)\u001b[0m\u001b[1;33m\u001b[0m\u001b[0m\n\u001b[0;32m     64\u001b[0m \u001b[1;33m\u001b[0m\u001b[0m\n",
      "\u001b[1;32m/home/alord/.virtualenvs/flask_brownbag/lib/python3.4/site-packages/Flask-0.10.1-py3.4.egg/flask/app.py\u001b[0m in \u001b[0;36madd_url_rule\u001b[1;34m(self, rule, endpoint, view_func, **options)\u001b[0m\n\u001b[0;32m    982\u001b[0m             \u001b[1;32mif\u001b[0m \u001b[0mold_func\u001b[0m \u001b[1;32mis\u001b[0m \u001b[1;32mnot\u001b[0m \u001b[1;32mNone\u001b[0m \u001b[1;32mand\u001b[0m \u001b[0mold_func\u001b[0m \u001b[1;33m!=\u001b[0m \u001b[0mview_func\u001b[0m\u001b[1;33m:\u001b[0m\u001b[1;33m\u001b[0m\u001b[0m\n\u001b[0;32m    983\u001b[0m                 raise AssertionError('View function mapping is overwriting an '\n\u001b[1;32m--> 984\u001b[1;33m                                      'existing endpoint function: %s' % endpoint)\n\u001b[0m\u001b[0;32m    985\u001b[0m             \u001b[0mself\u001b[0m\u001b[1;33m.\u001b[0m\u001b[0mview_functions\u001b[0m\u001b[1;33m[\u001b[0m\u001b[0mendpoint\u001b[0m\u001b[1;33m]\u001b[0m \u001b[1;33m=\u001b[0m \u001b[0mview_func\u001b[0m\u001b[1;33m\u001b[0m\u001b[0m\n\u001b[0;32m    986\u001b[0m \u001b[1;33m\u001b[0m\u001b[0m\n",
      "\u001b[1;31mAssertionError\u001b[0m: View function mapping is overwriting an existing endpoint function: hello_page"
     ]
    }
   ],
   "source": [
    "from flask import Flask\n",
    "app = Flask(\"the_flask_module\")\n",
    "\n",
    "\n",
    "@app.route(\"/hello\")\n",
    "def hello_page():\n",
    "    return \"I'm a hello page\"\n",
    "\n",
    "@app.route(\"/different_route\")\n",
    "def hello_page():\n",
    "    return \"Different route\"\n",
    "\n",
    "\n",
    "app.run(host=\"0.0.0.0\", port=5000)\n",
    "# You now have a running web server. go to http://localhost:5000/ in a web browser or curl http://localhost:5000"
   ]
  },
  {
   "cell_type": "markdown",
   "metadata": {},
   "source": [
    "# Having a two (or more) routes with the same URL path will succeed but the second route will be unreachable."
   ]
  },
  {
   "cell_type": "code",
   "execution_count": 42,
   "metadata": {
    "collapsed": true
   },
   "outputs": [],
   "source": [
    "from flask import Flask\n",
    "app = Flask(\"the_flask_module\")\n",
    "\n",
    "# Having a two (or more) routes with the same name will cause an error.\n",
    "@app.route(\"/hello\")\n",
    "def hello_page():\n",
    "    return \"I'm a hello page\"\n",
    "\n",
    "@app.route(\"/hello\")\n",
    "def second_hello_page():\n",
    "    return \"Different route\"\n",
    "\n",
    "\n",
    "app.run(host=\"0.0.0.0\", port=5000)\n",
    "# You now have a running web server. go to http://localhost:5000/ in a web browser or curl http://localhost:5000"
   ]
  },
  {
   "cell_type": "markdown",
   "metadata": {},
   "source": [
    "#Flask Has a Top Down Order of Precedence\n",
    "If you have multiple routes that could be potential matches for a request then the top most route (closest to line 0) will be the route which is mapped to."
   ]
  },
  {
   "cell_type": "code",
   "execution_count": 44,
   "metadata": {
    "collapsed": true
   },
   "outputs": [],
   "source": [
    "from flask import Flask\n",
    "app = Flask(\"the_flask_module\")\n",
    "\n",
    "# variables\n",
    "@app.route('/<text_to_echo>/')\n",
    "def echo(text_to_echo):\n",
    "    return \"echo {}\".format(text_to_echo)\n",
    "\n",
    "# variables\n",
    "@app.route('/<text_to_echo>/')\n",
    "def echo_two(text_to_echo):\n",
    "    return \"Totally going to do my own thing.\"\n",
    "\n",
    "\n",
    "app.run(host=\"0.0.0.0\", port=5000)\n",
    "# You now have a running web server. go to http://localhost:5000/ in a web browser or curl http://localhost:5000"
   ]
  },
  {
   "cell_type": "markdown",
   "metadata": {},
   "source": [
    "#What do Routes Return?"
   ]
  },
  {
   "cell_type": "code",
   "execution_count": null,
   "metadata": {
    "collapsed": false
   },
   "outputs": [],
   "source": [
    "import os\n",
    "from flask import Flask\n",
    "# This is some path magic that's required because this is an IPython notebook.\n",
    "template_dir = os.path.join(os.getcwd(), \"the_flask_module\", \"templates\")\n",
    "app = Flask(\"the_flask_module\", template_folder=template_dir)\n",
    "\n",
    "# We've seen that routes can return straight strings\n",
    "@app.route('/just_string')\n",
    "def just_string():\n",
    "    return \"I'm just a poor string!\"\n",
    "\n",
    "from flask import render_template\n",
    "# Flask also allows you to call a templating engine (which in turn just returns straight strings but prettier)\n",
    "@app.route('/')\n",
    "def simple_template():\n",
    "    return render_template(\"simple_example.html\")\n",
    "\n",
    "# You can pass arguments to templates which can be tested.\n",
    "@app.route('/if/')\n",
    "def if_template():\n",
    "    return render_template(\"if_example.html\", oxford_comma=True)\n",
    "\n",
    "# Or arguments that are used to loop.\n",
    "@app.route('/for/')\n",
    "def for_template():\n",
    "    return render_template(\"for_example.html\", word_list=[\"Nothing\", \"to\", \"see\", \"here.\"])\n",
    "\n",
    "\n",
    "app.run(host=\"0.0.0.0\", port=5000)\n",
    "# You now have a running web server. go to http://localhost:5000/ in a web browser or curl http://localhost:5000"
   ]
  },
  {
   "cell_type": "markdown",
   "metadata": {},
   "source": [
    "#You Know, I Think JSON is straing data as well..."
   ]
  },
  {
   "cell_type": "code",
   "execution_count": null,
   "metadata": {
    "collapsed": true
   },
   "outputs": [],
   "source": []
  },
  {
   "cell_type": "markdown",
   "metadata": {},
   "source": [
    "# Has Anyone Thought About Making API's this way?\n",
    "[eve](http://python-eve.org/) and [Flask-RESTful](https://flask-restful.readthedocs.org/en/0.3.3/) are two great choices for API design."
   ]
  }
 ],
 "metadata": {
  "kernelspec": {
   "display_name": "Python 3",
   "language": "python",
   "name": "python3"
  },
  "language_info": {
   "codemirror_mode": {
    "name": "ipython",
    "version": 3
   },
   "file_extension": ".py",
   "mimetype": "text/x-python",
   "name": "python",
   "nbconvert_exporter": "python",
   "pygments_lexer": "ipython3",
   "version": "3.4.0"
  }
 },
 "nbformat": 4,
 "nbformat_minor": 0
}
