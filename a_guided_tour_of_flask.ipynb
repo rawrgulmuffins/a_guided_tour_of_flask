{
 "cells": [
  {
   "cell_type": "markdown",
   "metadata": {
    "slideshow": {
     "slide_type": "slide"
    }
   },
   "source": [
    "Hello World,\n",
    "\n",
    "My name is Alex Lord (soon to be LordThorsen) and I'm going to be talking about Flask.\n",
    "\n",
    "Please go download the presentation @ [https://github.com/rawrgulmuffins/a_guided_tour_of_flask.git](https://github.com/rawrgulmuffins/a_guided_tour_of_flask.git)."
   ]
  },
  {
   "cell_type": "markdown",
   "metadata": {
    "slideshow": {
     "slide_type": "subslide"
    }
   },
   "source": [
    "* [Introduction](http://localhost:8888/notebooks/a_guided_tour_of_flask.ipynb#Introduction)\n",
    "    * [Why Flask?](http://localhost:8888/notebooks/a_guided_tour_of_flask.ipynb#Why-Flask?)\n",
    "    * [Topics Not  Covered](http://localhost:8888/notebooks/a_guided_tour_of_flask.ipynb#Topics-Not--Covered)\n",
    "    * [IPython Wat?](http://localhost:8888/notebooks/a_guided_tour_of_flask.ipynb#IPython-Wat?)\n",
    "        * [Running a Cell](http://localhost:8888/notebooks/a_guided_tour_of_flask.ipynb#Running-a-Cell)\n",
    "        * [Incase you're new to IPython](http://localhost:8888/notebooks/a_guided_tour_of_flask.ipynb#Incase-you're-new-to-IPython)\n",
    "* [The Basics](http://localhost:8888/notebooks/a_guided_tour_of_flask.ipynb#The-Basics)\n",
    "    * [How Do I Use Flask?](http://localhost:8888/notebooks/a_guided_tour_of_flask.ipynb#How-Do-I-Use-Flask?)\n",
    "    * [Flask With SSL?](http://localhost:8888/notebooks/a_guided_tour_of_flask.ipynb#Flask-With-SSL?)\n",
    "        * [Add The SSL Context](http://localhost:8888/notebooks/a_guided_tour_of_flask.ipynb#Add-The-SSL-Context)\n",
    "    * [Flask Debug Console](http://localhost:8888/notebooks/a_guided_tour_of_flask.ipynb#Flask-Debug-Console)\n",
    "    * [Flask's auto-reloading](http://localhost:8888/notebooks/a_guided_tour_of_flask.ipynb#Flask's-auto-reloading)\n",
    "    * [ Well, That's Cute. Where's Everything Else?](http://localhost:8888/notebooks/a_guided_tour_of_flask.ipynb#-Well,-That's-Cute.-Where's-Everything-Else?)\n",
    "    * [ By Default There is No Support For](http://localhost:8888/notebooks/a_guided_tour_of_flask.ipynb#-By-Default-There-is-No-Support-For)\n",
    "* [Routes](http://localhost:8888/notebooks/a_guided_tour_of_flask.ipynb#Routes)\n",
    "    * [Wild Card Routes](http://localhost:8888/notebooks/a_guided_tour_of_flask.ipynb#Wild-Card-Routes)\n",
    "    * [Route methods](http://localhost:8888/notebooks/a_guided_tour_of_flask.ipynb#Route-methods)\n",
    "* [ Route Function Name Collisions](http://localhost:8888/notebooks/a_guided_tour_of_flask.ipynb#-Route-Function-Name-Collisions)\n",
    "* [ Routes With URL Conflicts](http://localhost:8888/notebooks/a_guided_tour_of_flask.ipynb#-Routes-With-URL-Conflicts)\n",
    "* [Returns](http://localhost:8888/notebooks/a_guided_tour_of_flask.ipynb#Returns)\n",
    "* [What Do Routes Return?](http://localhost:8888/notebooks/a_guided_tour_of_flask.ipynb#What-Do-Routes-Return?)\n",
    "    * [Implicit Responses](http://localhost:8888/notebooks/a_guided_tour_of_flask.ipynb#Implicit-Responses)\n",
    "    * [Explicit Response](http://localhost:8888/notebooks/a_guided_tour_of_flask.ipynb#Explicit-Response)\n",
    "    * [JSON Returns](http://localhost:8888/notebooks/a_guided_tour_of_flask.ipynb#JSON-Returns)\n",
    "    * [Templates](http://localhost:8888/notebooks/a_guided_tour_of_flask.ipynb#Templates)\n",
    "    * [ Templates With Forgotten Arguments?](http://localhost:8888/notebooks/a_guided_tour_of_flask.ipynb#-Templates-With-Forgotten-Arguments?)\n",
    "    * [Redirects](http://localhost:8888/notebooks/a_guided_tour_of_flask.ipynb#Redirects)\n",
    "    * [The Post Redirect Get Pattern](http://localhost:8888/notebooks/a_guided_tour_of_flask.ipynb#The-Post-Redirect-Get-Pattern)\n",
    "* [What Types Can't Be Returned](http://localhost:8888/notebooks/a_guided_tour_of_flask.ipynb#What-Types-Can't-Be-Returned)\n",
    "* [ More On Requests / Responses](http://localhost:8888/notebooks/a_guided_tour_of_flask.ipynb#-More-On-Requests-/-Responses)\n",
    "* [Flask Objects](http://localhost:8888/notebooks/a_guided_tour_of_flask.ipynb#Flask-Objects)\n",
    "    * [Requests](http://localhost:8888/notebooks/a_guided_tour_of_flask.ipynb#Requests)\n",
    "    * [Sessions](http://localhost:8888/notebooks/a_guided_tour_of_flask.ipynb#Sessions)\n",
    "        * [PLEASE NOTE!](http://localhost:8888/notebooks/a_guided_tour_of_flask.ipynb#PLEASE-NOTE!)\n",
    "    * [The g Object](http://localhost:8888/notebooks/a_guided_tour_of_flask.ipynb#The-g-Object)\n",
    "* [ Where do I go from here?](http://localhost:8888/notebooks/a_guided_tour_of_flask.ipynb#-Where-do-I-go-from-here?)\n",
    "    * [ What about APIs?](http://localhost:8888/notebooks/a_guided_tour_of_flask.ipynb#-What-about-APIs?)\n",
    "    * [Also, What Else Is Out There?](http://localhost:8888/notebooks/a_guided_tour_of_flask.ipynb#Also,-What-Else-Is-Out-There?)"
   ]
  },
  {
   "cell_type": "markdown",
   "metadata": {
    "slideshow": {
     "slide_type": "slide"
    }
   },
   "source": [
    "#Introduction"
   ]
  },
  {
   "cell_type": "markdown",
   "metadata": {
    "slideshow": {
     "slide_type": "slide"
    }
   },
   "source": [
    "##Why Flask?\n",
    "Flask is one of the many easy-to-use web frameworks that Python can boast of. During this guided tour, using live examples, we'll cover what you need to get started with Flask.\n",
    "\n",
    "Flask itself is simple and clean. It is effortless to carve out production worthy applications. The tour includes an example project which contains 588 lines of code, of which 231 are tests and 51 are project configuration that were written in 6 hours. Flask also lets you start writing code with just three lines of boilerplate."
   ]
  },
  {
   "cell_type": "markdown",
   "metadata": {
    "slideshow": {
     "slide_type": "skip"
    }
   },
   "source": [
    "[The flaskr example page](https://github.com/mitsuhiko/flask/blob/master/examples/flaskr/flaskr.py) is a fully functional blog (logins, logouts, page addition, homepage) in 110 lines of code backed by a sqlite3 database.\n",
    "\n",
    "Flask is also just an [amazing code base](https://github.com/mitsuhiko/flask). There has been more then one occuasion where I've looked at the source code to answer a question and it's always a pleasant experience."
   ]
  },
  {
   "cell_type": "markdown",
   "metadata": {
    "slideshow": {
     "slide_type": "skip"
    }
   },
   "source": [
    "The Flask community is also active and rabid. [The extensions library is filled with Gem's](http://flask.pocoo.org/extensions/) like [Flask-Cache](https://pythonhosted.org/Flask-Cache/), [Flask-DebugToolbar](http://flask.pocoo.org/extensions/), [Flask-lesscss](https://pypi.python.org/pypi/flask-lesscss), [Flask-login](https://pypi.python.org/pypi/Flask-Login), [Flask-WTF](https://pypi.python.org/pypi/Flask-WTF)and [Flask-SQlAlchemy](https://pypi.python.org/pypi/Flask-SQLAlchemy).\n",
    "\n",
    "If no one has made a Flask Extension that suits your needs then [creating an extension](http://flask.pocoo.org/docs/0.10/extensiondev/) requires about an hour worth of reading, a `setup.py` file, and  a class that modifies an instance of a `flask.Flask` object.\n",
    "\n",
    "Lastly, I believe my strongest argument for why Flask is a great web framework is myself. I am not a web programmer but Flask is built in a well organized modular fashion. Flask organizes the complexity of web development to the point where I have been able to tackle things in bite sized chunks. "
   ]
  },
  {
   "cell_type": "markdown",
   "metadata": {
    "slideshow": {
     "slide_type": "slide"
    }
   },
   "source": [
    "##Topics Not  Covered\n",
    "\"It always takes longer than you expect, even when you take into account Hofstadter's Law.\" - Hofstadter's Law\n",
    "* No Performance Metrics\n",
    "* Celery, ASyncIO, Gearman, etc.\n",
    "* Blue Prints\n",
    "* Unit Testing\n",
    "* Deployments\n",
    "* Databases (SQLAlchemy is your friend)\n",
    "* Many, many things"
   ]
  },
  {
   "cell_type": "markdown",
   "metadata": {
    "slideshow": {
     "slide_type": "slide"
    }
   },
   "source": [
    "##IPython Wat?\n",
    "There's really only two things you need to know in order to use this notebook\n",
    "\n",
    "###Running a Cell\n",
    "* pressing shift-enter will run a cell. \n",
    "\n",
    "For most of the examples in this notebook this will start a web server which will never halt. In order to move on to the next example (since only one cell can run at a time)\n",
    "\n",
    "* pressing the `i` key twice will interrupt the IPython kernal. \n",
    "\n",
    "Interrupting the kernal will allow you to move on to the next example."
   ]
  },
  {
   "cell_type": "markdown",
   "metadata": {
    "slideshow": {
     "slide_type": "slide"
    }
   },
   "source": [
    "###Incase you're new to IPython"
   ]
  },
  {
   "cell_type": "code",
   "execution_count": null,
   "metadata": {
    "collapsed": false,
    "slideshow": {
     "slide_type": "fragment"
    }
   },
   "outputs": [],
   "source": [
    "from collections import namedtuple\n",
    "namedtuple?"
   ]
  },
  {
   "cell_type": "code",
   "execution_count": null,
   "metadata": {
    "collapsed": true,
    "slideshow": {
     "slide_type": "fragment"
    }
   },
   "outputs": [],
   "source": [
    "from collections import namedtuple\n",
    "namedtuple??"
   ]
  },
  {
   "cell_type": "code",
   "execution_count": null,
   "metadata": {
    "collapsed": true,
    "slideshow": {
     "slide_type": "fragment"
    }
   },
   "outputs": [],
   "source": [
    "%magic"
   ]
  },
  {
   "cell_type": "markdown",
   "metadata": {
    "slideshow": {
     "slide_type": "fragment"
    }
   },
   "source": [
    "#The Basics"
   ]
  },
  {
   "cell_type": "markdown",
   "metadata": {
    "slideshow": {
     "slide_type": "slide"
    }
   },
   "source": [
    "##How Do I Use Flask?\n",
    "\n",
    "The app object is really the heart of flask. All extensions modify the app object and almost all of the flask magic comes from calling methods in the app object.\n"
   ]
  },
  {
   "cell_type": "markdown",
   "metadata": {
    "slideshow": {
     "slide_type": "fragment"
    }
   },
   "source": [
    "In the app object (rather, in an instance of the flask class) there's a `@app.route` decorator.\n",
    "[If you've never seen decorators (the @app syntax) before then this is a good tutorial to read at your leasure.](http://thecodeship.com/patterns/guide-to-python-function-decorators/)\n",
    "\n",
    "Let's start off with our First Hello World Example."
   ]
  },
  {
   "cell_type": "code",
   "execution_count": null,
   "metadata": {
    "collapsed": true,
    "slideshow": {
     "slide_type": "subslide"
    }
   },
   "outputs": [],
   "source": [
    "from flask import Flask\n",
    "app = Flask(\"the_flask_module\")\n",
    "\n",
    "@app.route(\"/\")\n",
    "def home_page():\n",
    "    return \"Hello World!\"\n",
    "\n",
    "# app.run is a blocking call. You can't run\n",
    "# Multiple cells because app.run will never \n",
    "# halt. Press the stop button or i twice\n",
    "# to interrupt a cell.\n",
    "app.run(host=\"0.0.0.0\", port=5000)"
   ]
  },
  {
   "cell_type": "markdown",
   "metadata": {
    "slideshow": {
     "slide_type": "fragment"
    }
   },
   "source": [
    "[Our First Flask Route!](http://localhost:5000/)"
   ]
  },
  {
   "cell_type": "markdown",
   "metadata": {},
   "source": [
    "#How About A finished Example"
   ]
  },
  {
   "cell_type": "code",
   "execution_count": null,
   "metadata": {
    "collapsed": true
   },
   "outputs": [],
   "source": [
    "from flask import Flask, render_template\n",
    "app = Flask(\"the_flask_module\")\n",
    "\n",
    "@app.route(\"/\")\n",
    "def home_page():\n",
    "    return render_template(\"finished_example.jinja2\")\n",
    "\n",
    "app.run(host=\"0.0.0.0\", port=5000)"
   ]
  },
  {
   "cell_type": "markdown",
   "metadata": {},
   "source": [
    "[Example website.](http://localhost:5000/)"
   ]
  },
  {
   "cell_type": "markdown",
   "metadata": {
    "slideshow": {
     "slide_type": "slide"
    }
   },
   "source": [
    "##Flask With SSL?\n",
    "For this example we will generate a self signed cert"
   ]
  },
  {
   "cell_type": "code",
   "execution_count": null,
   "metadata": {
    "collapsed": false,
    "slideshow": {
     "slide_type": "fragment"
    }
   },
   "outputs": [],
   "source": [
    "!openssl genrsa 1024 > ssl.key\n",
    "!printf \"US\\nWA\\nSeattle\\nIsilon\\n\\n\\n\\n\" | openssl req -new -x509 -nodes -sha1 -days 365 -key ssl.key > ssl.cert"
   ]
  },
  {
   "cell_type": "markdown",
   "metadata": {
    "slideshow": {
     "slide_type": "subslide"
    }
   },
   "source": [
    "###Add The SSL Context"
   ]
  },
  {
   "cell_type": "code",
   "execution_count": null,
   "metadata": {
    "collapsed": true,
    "slideshow": {
     "slide_type": "fragment"
    }
   },
   "outputs": [],
   "source": [
    "import ssl\n",
    "ctx = ssl.SSLContext(ssl.PROTOCOL_SSLv23)\n",
    "ctx.load_cert_chain('ssl.cert', 'ssl.key')\n",
    "\n",
    "app = Flask(\"the_flask_module\")\n",
    "\n",
    "@app.route(\"/\")\n",
    "def home_page():\n",
    "    return \"Hello World\"\n",
    "\n",
    "app.run(host=\"0.0.0.0\", port=5000, ssl_context=ctx)"
   ]
  },
  {
   "cell_type": "markdown",
   "metadata": {
    "slideshow": {
     "slide_type": "fragment"
    }
   },
   "source": [
    "[Flask with 100% more SSL!](https://localhost:5000/)"
   ]
  },
  {
   "cell_type": "markdown",
   "metadata": {
    "slideshow": {
     "slide_type": "fragment"
    }
   },
   "source": [
    "##Flask Debug Console"
   ]
  },
  {
   "cell_type": "code",
   "execution_count": null,
   "metadata": {
    "collapsed": false,
    "slideshow": {
     "slide_type": "slide"
    }
   },
   "outputs": [],
   "source": [
    "!cat the_flask_module/debug_example.py"
   ]
  },
  {
   "cell_type": "code",
   "execution_count": null,
   "metadata": {
    "collapsed": false,
    "slideshow": {
     "slide_type": "skip"
    }
   },
   "outputs": [],
   "source": [
    "!python the_flask_module/debug_example.py"
   ]
  },
  {
   "cell_type": "markdown",
   "metadata": {
    "slideshow": {
     "slide_type": "fragment"
    }
   },
   "source": [
    "[This is probably my favorite feature in Flask.](http://localhost:5001/missing_endif)"
   ]
  },
  {
   "cell_type": "markdown",
   "metadata": {
    "slideshow": {
     "slide_type": "slide"
    }
   },
   "source": [
    "\n",
    "##Flask's auto-reloading\n"
   ]
  },
  {
   "cell_type": "code",
   "execution_count": null,
   "metadata": {
    "collapsed": false,
    "slideshow": {
     "slide_type": "fragment"
    }
   },
   "outputs": [],
   "source": [
    "!macvim the_flask_module/reload_example.py"
   ]
  },
  {
   "cell_type": "code",
   "execution_count": null,
   "metadata": {
    "collapsed": false,
    "slideshow": {
     "slide_type": "skip"
    }
   },
   "outputs": [],
   "source": [
    "!python the_flask_module/reload_example.py"
   ]
  },
  {
   "cell_type": "markdown",
   "metadata": {
    "slideshow": {
     "slide_type": "fragment"
    }
   },
   "source": [
    "[So this is the code unmodified](http://localhost:5001)"
   ]
  },
  {
   "cell_type": "markdown",
   "metadata": {
    "slideshow": {
     "slide_type": "slide"
    }
   },
   "source": [
    "## Well, That's Cute. Where's Everything Else?\n",
    "What you see in this example is about 50% of everything there is to Flask. There's some things about sessions, configuration, templating, url routing, http headers, http requests, cookies, and message flashing but this is the majority of everything. To be fair the `@app.route()` call is doing thousands of Python WSGI magic and the `app.run()` call is spinning up a entire http server with a WSGI module soooo...\n"
   ]
  },
  {
   "cell_type": "markdown",
   "metadata": {
    "slideshow": {
     "slide_type": "subslide"
    }
   },
   "source": [
    "## By Default There is No Support For\n",
    "* Databases\n",
    "* Forms\n",
    "* Server Side Cache\n",
    "* Server Side Sessions\n",
    "* An Admin page\n",
    "* Page indexing\n",
    "* Asynchronous calls\n",
    "* Login support\n",
    "* No User object\n",
    "* No template tags\n",
    "* Lots of other defaults in other frameworks.\n",
    "\n",
    "This is by design.\n",
    "\n",
    "\"The idea of Flask is to build a good foundation for all applications. Everything else is up to you or extensions.\" -- Armin Ronacher, Author of Flask \n",
    "\n",
    "[All of those extra things are found in Flask Extensions which we'll cover in a the flask_extensions_notebook](http://flask.pocoo.org/extensions/)"
   ]
  },
  {
   "cell_type": "markdown",
   "metadata": {
    "slideshow": {
     "slide_type": "slide"
    }
   },
   "source": [
    "#Routes"
   ]
  },
  {
   "cell_type": "code",
   "execution_count": null,
   "metadata": {
    "collapsed": false,
    "slideshow": {
     "slide_type": "fragment"
    }
   },
   "outputs": [],
   "source": [
    "app = Flask(\"the_flask_module\")\n",
    "\n",
    "\n",
    "@app.route(\"/hello\")\n",
    "def hello_page():\n",
    "    return \"I'm a hello page\"\n",
    "\n",
    "# You can go up to the HTML URL lenght limit of 2000\n",
    "# characters\n",
    "# http://stackoverflow.com/questions/417142/what-is-the-maximum-length-of-a-url-in-different-browsers\n",
    "@app.route(\"/hello/one_step_deeper\")\n",
    "def hello_deeper():\n",
    "    return \"I'm a hello page\"\n",
    "\n",
    "# the_last_slash_is_optional\n",
    "@app.route(\"/hello/optional_slash/\")\n",
    "def optional_extra_slash():\n",
    "    return \"I can haz a slash\"\n",
    "\n",
    "# Can't have slash\n",
    "@app.route(\"/hello/no_slash\")\n",
    "def no_extra_slash():\n",
    "    return \"No slash for you.\"\n",
    "\n",
    "app.run(host=\"0.0.0.0\", port=5000)"
   ]
  },
  {
   "cell_type": "markdown",
   "metadata": {
    "slideshow": {
     "slide_type": "fragment"
    }
   },
   "source": [
    "[Hello example](http://localhost:5000/hello)\n",
    "\n",
    "[Hello one step deeper example](http://localhost:5000/hello/one_step_deeper)\n",
    "\n",
    "[Optional slash example](http://localhost:5000/hello/optional_slash/)\n",
    "\n",
    "[No slash example](http://localhost:5000/hello/no_slash)"
   ]
  },
  {
   "cell_type": "markdown",
   "metadata": {
    "slideshow": {
     "slide_type": "slide"
    }
   },
   "source": [
    "##Wild Card Routes"
   ]
  },
  {
   "cell_type": "code",
   "execution_count": null,
   "metadata": {
    "collapsed": false,
    "slideshow": {
     "slide_type": "fragment"
    }
   },
   "outputs": [],
   "source": [
    "app = Flask(\"the_flask_module\")\n",
    "\n",
    "# variables\n",
    "@app.route('/<text_to_echo>/')\n",
    "def echo(text_to_echo):\n",
    "    return \"echo {}\".format(text_to_echo)\n",
    "\n",
    "# even though echo will register first\n",
    "@app.route('/<int:int_to_echo>/')\n",
    "def precedence_over_echo(int_to_echo):\n",
    "    return \"echo int {}\".format(int_to_echo)\n",
    "\n",
    "# variables but only ints\n",
    "@app.route('/test/<int:int_to_echo>/')\n",
    "def echo_only_ints(int_to_echo):\n",
    "    return \"echo int {}\".format(int_to_echo)\n",
    "\n",
    "# two variables but only ints\n",
    "@app.route('/<int:int_left>/<int:int_right>')\n",
    "def div_ints(int_left, int_right):\n",
    "    return \"{}\".format(int_left / int_right)\n",
    "\n",
    "app.run(host=\"0.0.0.0\", port=5000)"
   ]
  },
  {
   "cell_type": "markdown",
   "metadata": {
    "slideshow": {
     "slide_type": "fragment"
    }
   },
   "source": [
    "[general wild card example](http://localhost:5000/I can type whatever I really want in here ''%%&^(*!&#)\n",
    "\n",
    "[int wild card has precedence over general wild card](http://localhost:5000/5)\n",
    "\n",
    "[int wild card example](http://localhost:5000/test/5)\n",
    "\n",
    "[Division example](http://localhost:5000/1/1)"
   ]
  },
  {
   "cell_type": "markdown",
   "metadata": {
    "slideshow": {
     "slide_type": "slide"
    }
   },
   "source": [
    "##Route methods"
   ]
  },
  {
   "cell_type": "code",
   "execution_count": null,
   "metadata": {
    "collapsed": false,
    "slideshow": {
     "slide_type": "fragment"
    }
   },
   "outputs": [],
   "source": [
    "from flask import request\n",
    "app = Flask(\"the_flask_module\")\n",
    "\n",
    "methods = [\n",
    "    \"GET\",\n",
    "    \"HEAD\",\n",
    "    \"POST\",\n",
    "    \"PUT\",\n",
    "    \"DELETE\",\n",
    "    \"CONNECT\",\n",
    "    \"OPTIONS\",\n",
    "    \"TRACE\"]\n",
    "\n",
    "# the request object is where we can get http header\n",
    "# information\n",
    "# curl -X POST -d \"{}\" localhost:5000 # RUN THIS!\n",
    "@app.route('/', methods=methods)\n",
    "def all_methods():\n",
    "    return request.method\n",
    "\n",
    "app.run(host=\"0.0.0.0\", port=5000)"
   ]
  },
  {
   "cell_type": "markdown",
   "metadata": {
    "slideshow": {
     "slide_type": "fragment"
    }
   },
   "source": [
    "[Throw me a method](http://localhost:5000/)"
   ]
  },
  {
   "cell_type": "code",
   "execution_count": null,
   "metadata": {
    "collapsed": false,
    "slideshow": {
     "slide_type": "fragment"
    }
   },
   "outputs": [],
   "source": [
    "!curl -X POST -d \"{}\" localhost:5000"
   ]
  },
  {
   "cell_type": "markdown",
   "metadata": {
    "slideshow": {
     "slide_type": "slide"
    }
   },
   "source": [
    "\n",
    "# Route Function Name Collisions\n",
    "Having a two (or more) routes with the same function name name will cause an AssertionError exception."
   ]
  },
  {
   "cell_type": "code",
   "execution_count": null,
   "metadata": {
    "collapsed": false,
    "slideshow": {
     "slide_type": "fragment"
    }
   },
   "outputs": [],
   "source": [
    "app = Flask(\"the_flask_module\")\n",
    "\n",
    "@app.route(\"/hello\")\n",
    "def hello_page():\n",
    "    return \"I'm a hello page\"\n",
    "\n",
    "@app.route(\"/different_route\")\n",
    "def hello_page():\n",
    "    return \"Different route\"\n",
    "\n",
    "app.run(host=\"0.0.0.0\", port=5000)"
   ]
  },
  {
   "cell_type": "markdown",
   "metadata": {
    "slideshow": {
     "slide_type": "slide"
    }
   },
   "source": [
    "# Routes With URL Conflicts\n",
    "Having a two (or more) routes with the same URL path will succeed but the second route will be unreachable."
   ]
  },
  {
   "cell_type": "code",
   "execution_count": null,
   "metadata": {
    "collapsed": true,
    "slideshow": {
     "slide_type": "fragment"
    }
   },
   "outputs": [],
   "source": [
    "app = Flask(\"the_flask_module\")\n",
    "\n",
    "# Having a two (or more) routes with the same name will\n",
    "# cause an error.\n",
    "@app.route(\"/hello\")\n",
    "def hello_page():\n",
    "    return \"I'm a hello page\"\n",
    "\n",
    "@app.route(\"/hello\")\n",
    "def second_hello_page():\n",
    "    return \"Different route\"\n",
    "\n",
    "app.run(host=\"0.0.0.0\", port=5000)\n",
    "# You now have a running web server. go to http://localhost:5000/ in a web browser or curl http://localhost:5000"
   ]
  },
  {
   "cell_type": "markdown",
   "metadata": {
    "collapsed": true,
    "slideshow": {
     "slide_type": "fragment"
    }
   },
   "source": [
    "[The second hello is unreachable](http://localhost:5000/hello)"
   ]
  },
  {
   "cell_type": "markdown",
   "metadata": {
    "slideshow": {
     "slide_type": "slide"
    }
   },
   "source": [
    "#Returns"
   ]
  },
  {
   "cell_type": "markdown",
   "metadata": {
    "slideshow": {
     "slide_type": "fragment"
    }
   },
   "source": [
    "#What Do Routes Return?"
   ]
  },
  {
   "cell_type": "markdown",
   "metadata": {
    "slideshow": {
     "slide_type": "fragment"
    }
   },
   "source": [
    "##Implicit Responses\n",
    "We've already seen a lot of implicit returns"
   ]
  },
  {
   "cell_type": "code",
   "execution_count": null,
   "metadata": {
    "collapsed": true,
    "slideshow": {
     "slide_type": "slide"
    }
   },
   "outputs": [],
   "source": [
    "from flask import Flask\n",
    "app = Flask(\"the_flask_module\")\n",
    "\n",
    "@app.route(\"/\")\n",
    "def home_page():\n",
    "    return \"I'm An Implicit Response!\"\n",
    "\n",
    "app.run(host=\"0.0.0.0\", port=5000)"
   ]
  },
  {
   "cell_type": "markdown",
   "metadata": {
    "slideshow": {
     "slide_type": "fragment"
    }
   },
   "source": [
    "[Hmmm, this looks familiar.](http://localhost:5000/)"
   ]
  },
  {
   "cell_type": "markdown",
   "metadata": {
    "slideshow": {
     "slide_type": "slide"
    }
   },
   "source": [
    "##Explicit Response\n",
    "You can either use [flask.Response](http://flask.pocoo.org/docs/0.10/api/#response-objects) which is part of the [Werkzeug project](http://werkzeug.pocoo.org/) or the [make_response](http://flask.pocoo.org/docs/0.10/api/#flask.make_response) helper function."
   ]
  },
  {
   "cell_type": "code",
   "execution_count": null,
   "metadata": {
    "collapsed": true,
    "slideshow": {
     "slide_type": "slide"
    }
   },
   "outputs": [],
   "source": [
    "from flask import Flask, make_response\n",
    "app = Flask(\"the_flask_module\")\n",
    "\n",
    "@app.route(\"/\")\n",
    "def home_page():\n",
    "    response = make_response(\"I'm an explicit Response!\")\n",
    "    response.headers['Content-Type'] = \"Malarkey\"\n",
    "    response.headers['Nonsense'] = \"Seattle Never Has Traffic\"\n",
    "    return response\n",
    "\n",
    "app.run(host=\"0.0.0.0\", port=5000)"
   ]
  },
  {
   "cell_type": "markdown",
   "metadata": {
    "slideshow": {
     "slide_type": "fragment"
    }
   },
   "source": [
    "[Content-Type should be interesting](http://localhost:5000/)"
   ]
  },
  {
   "cell_type": "markdown",
   "metadata": {
    "slideshow": {
     "slide_type": "slide"
    }
   },
   "source": [
    "##JSON Returns"
   ]
  },
  {
   "cell_type": "code",
   "execution_count": null,
   "metadata": {
    "collapsed": false,
    "slideshow": {
     "slide_type": "fragment"
    }
   },
   "outputs": [],
   "source": [
    "from flask import Flask, jsonify \n",
    "app = Flask(\"the_flask_module\")\n",
    "\n",
    "# More Info On jsonify at \n",
    "# http://stackoverflow.com/questions/7907596/json-dumps-vs-flask-jsonify\n",
    "@app.route('/')\n",
    "def for_template():\n",
    "    return jsonify(\n",
    "        {\"the_tree_stooges\": [\"Moe\", \"Larry\", \"Curley\"]})\n",
    "\n",
    "app.run(host=\"0.0.0.0\", port=5001)"
   ]
  },
  {
   "cell_type": "markdown",
   "metadata": {
    "slideshow": {
     "slide_type": "fragment"
    }
   },
   "source": [
    "[JSON return](http://localhost:5001/)"
   ]
  },
  {
   "cell_type": "markdown",
   "metadata": {
    "slideshow": {
     "slide_type": "slide"
    }
   },
   "source": [
    "##Templates"
   ]
  },
  {
   "cell_type": "code",
   "execution_count": null,
   "metadata": {
    "collapsed": true,
    "slideshow": {
     "slide_type": "fragment"
    }
   },
   "outputs": [],
   "source": [
    "from flask import render_template\n",
    "import os\n",
    "template_dir = os.path.join(\n",
    "    os.getcwd(),\n",
    "    \"the_flask_module\",\n",
    "    \"templates\")\n",
    "app = Flask(\n",
    "    \"the_flask_module\",\n",
    "    template_folder=template_dir)\n",
    "\n",
    "# You can pass arguments to templates which can be tested.\n",
    "@app.route('/if/')\n",
    "def if_template():\n",
    "    return render_template(\n",
    "        \"if_example.html\",\n",
    "        oxford_comma=False)\n",
    "\n",
    "# Or arguments that are used to loop.\n",
    "@app.route('/for/')\n",
    "def for_template():\n",
    "    return render_template(\n",
    "        \"for_example.html\",\n",
    "        word_list=[\"Nothing\", \"to\", \"see\", \"here.\"])\n",
    "\n",
    "app.run(host=\"0.0.0.0\", port=5000)"
   ]
  },
  {
   "cell_type": "markdown",
   "metadata": {
    "slideshow": {
     "slide_type": "fragment"
    }
   },
   "source": [
    "[Template With A Conditional](http://localhost:5000/if/)\n",
    "\n",
    "[Iteration Template](http://localhost:5000/for)"
   ]
  },
  {
   "cell_type": "markdown",
   "metadata": {
    "slideshow": {
     "slide_type": "slide"
    }
   },
   "source": [
    "## Templates With Forgotten Arguments?"
   ]
  },
  {
   "cell_type": "code",
   "execution_count": null,
   "metadata": {
    "collapsed": false,
    "slideshow": {
     "slide_type": "fragment"
    }
   },
   "outputs": [],
   "source": [
    "# This is what the next examples template contains.\n",
    "%cat the_flask_module/templates/template_without_argument.html\n",
    "# If we forget to pass oxford_comma do you think Flask\n",
    "# will error out? Should it?"
   ]
  },
  {
   "cell_type": "code",
   "execution_count": null,
   "metadata": {
    "collapsed": false,
    "slideshow": {
     "slide_type": "slide"
    }
   },
   "outputs": [],
   "source": [
    "import os\n",
    "from flask import Flask, render_template\n",
    "# This is some path magic that's required because this is\n",
    "# an IPython notebook.\n",
    "template_dir = os.path.join(\n",
    "    os.getcwd(),\n",
    "    \"the_flask_module\",\n",
    "    \"templates\")\n",
    "app = Flask(\n",
    "    \"the_flask_module\",\n",
    "    template_folder=template_dir)\n",
    "\n",
    "@app.route('/missing_arg/')\n",
    "def for_template():\n",
    "    return render_template(\n",
    "        \"template_without_argument.html\")\n",
    "\n",
    "app.run(host=\"0.0.0.0\", port=5000)"
   ]
  },
  {
   "cell_type": "markdown",
   "metadata": {
    "slideshow": {
     "slide_type": "fragment"
    }
   },
   "source": [
    "[Missing args default to None](http://localhost:5000/missing_arg/)"
   ]
  },
  {
   "cell_type": "markdown",
   "metadata": {
    "collapsed": true,
    "slideshow": {
     "slide_type": "slide"
    }
   },
   "source": [
    "##Redirects"
   ]
  },
  {
   "cell_type": "code",
   "execution_count": null,
   "metadata": {
    "collapsed": false,
    "slideshow": {
     "slide_type": "fragment"
    }
   },
   "outputs": [],
   "source": [
    "from flask import Flask, redirect\n",
    "app = Flask(\"the_flask_module\")\n",
    "\n",
    "@app.route(\"/\")\n",
    "def redirectora():\n",
    "    return redirect(\"www.google.com\")\n",
    "\n",
    "@app.route(\"/redirected\")\n",
    "def redirected_whops():\n",
    "    return \"Redirected!\"\n",
    "    \n",
    "app.run(host=\"0.0.0.0\", port=5001)"
   ]
  },
  {
   "cell_type": "markdown",
   "metadata": {
    "slideshow": {
     "slide_type": "fragment"
    }
   },
   "source": [
    "[Basic Example](http://localhost:5001/)"
   ]
  },
  {
   "cell_type": "markdown",
   "metadata": {
    "slideshow": {
     "slide_type": "slide"
    }
   },
   "source": [
    "##The Post Redirect Get Pattern\n",
    "This helps avoid 'Confirm Form Resubmission' dialogs that users never know what to do with."
   ]
  },
  {
   "cell_type": "code",
   "execution_count": null,
   "metadata": {
    "collapsed": false,
    "slideshow": {
     "slide_type": "fragment"
    }
   },
   "outputs": [],
   "source": [
    "from flask import Flask, redirect, request, render_template\n",
    "app = Flask(\"the_flask_module\")\n",
    "\n",
    "@app.route('/', methods=[\"GET\", \"POST\"])\n",
    "def post_redirect_get():\n",
    "    if request.method == \"GET\":\n",
    "        return render_template(\"post_redirect_get.html\")\n",
    "    else:\n",
    "        # Use said data.\n",
    "        return redirect(\"target\", code=303)\n",
    "    \n",
    "@app.route(\"/target\")\n",
    "def target():\n",
    "    return \"I'm the redirected function\"\n",
    "\n",
    "app.run(host=\"0.0.0.0\", port=5001)"
   ]
  },
  {
   "cell_type": "markdown",
   "metadata": {
    "slideshow": {
     "slide_type": "fragment"
    }
   },
   "source": [
    "[Post Redirect Get Pattern](http://localhost:5001/)"
   ]
  },
  {
   "cell_type": "markdown",
   "metadata": {
    "slideshow": {
     "slide_type": "slide"
    }
   },
   "source": [
    "#What Types Can't Be Returned"
   ]
  },
  {
   "cell_type": "code",
   "execution_count": null,
   "metadata": {
    "collapsed": false,
    "slideshow": {
     "slide_type": "fragment"
    }
   },
   "outputs": [],
   "source": [
    "from flask import jsonify, make_response\n",
    "import os\n",
    "app = Flask(\"the_flask_module\")\n",
    "\n",
    "# We've seen that routes can return straight strings\n",
    "@app.route('/')\n",
    "def just_string_lies():\n",
    "    return 1\n",
    "\n",
    "# We've seen that routes can return straight strings\n",
    "@app.route('/dict')\n",
    "def just_dict():\n",
    "    return {\"testing\": \"testing\"}\n",
    "\n",
    "app.run(host=\"0.0.0.0\", port=5000)"
   ]
  },
  {
   "cell_type": "markdown",
   "metadata": {
    "slideshow": {
     "slide_type": "fragment"
    }
   },
   "source": [
    "[Int Return Error](http://localhost:5000/)\n",
    "\n",
    "[Dict Return Error](http://localhost:5000/dict)"
   ]
  },
  {
   "cell_type": "markdown",
   "metadata": {
    "slideshow": {
     "slide_type": "subslide"
    }
   },
   "source": [
    "# More On Requests / Responses\n",
    "[If you're super duper interested in the full view of a request and response HTTP life cycle you can checkout this repository by Alex Gayner](https://github.com/alex/what-happens-when)"
   ]
  },
  {
   "cell_type": "markdown",
   "metadata": {
    "slideshow": {
     "slide_type": "slide"
    }
   },
   "source": [
    "#Flask Objects"
   ]
  },
  {
   "cell_type": "markdown",
   "metadata": {
    "slideshow": {
     "slide_type": "slide"
    }
   },
   "source": [
    "##Requests\n",
    "We talked a little bit about the request object earlier but let's dig a little more into it. The request object holds all of the client data that was sent to the server"
   ]
  },
  {
   "cell_type": "code",
   "execution_count": null,
   "metadata": {
    "collapsed": false,
    "slideshow": {
     "slide_type": "fragment"
    }
   },
   "outputs": [],
   "source": [
    "from flask import Flask, request, render_template\n",
    "# This is some path magic that's required because this is an IPython notebook.\n",
    "template_dir = os.path.join(\n",
    "    os.getcwd(),\n",
    "    \"the_flask_module\",\n",
    "    \"templates\")\n",
    "app = Flask(\"the_flask_module\", template_folder=template_dir)\n",
    "\n",
    "@app.route(\"/request_example\")\n",
    "def request_values():\n",
    "    return render_template(\"request_example.html\")\n",
    "\n",
    "app.run(host=\"0.0.0.0\", port=5002)\n",
    "# You now have a running web server. go to http://localhost:5000/ in a web browser or curl http://localhost:5000"
   ]
  },
  {
   "cell_type": "markdown",
   "metadata": {
    "slideshow": {
     "slide_type": "fragment"
    }
   },
   "source": [
    "[Request Example](http://localhost:5002/request_example)\n",
    "\n",
    "Other things of note is that the request object is a available in all Flask contexts (All Python module that import request and all templates called via `render_template`). Request is also thread safe (and greenlet, tasklet, thread pool safe) and as such is safe to use if you serve flask using [Apache](http://flask.pocoo.org/docs/0.10/deploying/mod_wsgi/), [ngenix](https://www.digitalocean.com/community/tutorials/how-to-serve-flask-applications-with-uwsgi-and-nginx-on-ubuntu-14-04), [uWSGI](https://www.digitalocean.com/community/tutorials/how-to-deploy-python-wsgi-applications-using-uwsgi-web-server-with-nginx), [Gunicorn](https://www.digitalocean.com/community/tutorials/how-to-deploy-python-wsgi-apps-using-gunicorn-http-server-behind-nginx), etc.\n",
    "\n",
    "[More about Flask's request object can be found here.](http://flask.pocoo.org/docs/0.9/quickstart/#accessing-request-data)"
   ]
  },
  {
   "cell_type": "markdown",
   "metadata": {
    "slideshow": {
     "slide_type": "slide"
    }
   },
   "source": [
    "##Sessions\n",
    "\n",
    "Flask sessions are also a thread safe object but whereas requests are bound by a HTTP Request sessions are bound to every request that a browser session makes. This is tracked (by default) using secure cookies.\n",
    "\n",
    "\n",
    "[There also a lot more you can do with sessions](http://flask.pocoo.org/snippets/category/sessions/) I'm a personal fan [of doing server side sessions with](http://flask.pocoo.org/snippets/75/)"
   ]
  },
  {
   "cell_type": "code",
   "execution_count": null,
   "metadata": {
    "collapsed": false,
    "slideshow": {
     "slide_type": "fragment"
    }
   },
   "outputs": [],
   "source": [
    "from flask import Flask, session\n",
    "app = Flask(\"the_flask_module\")\n",
    "\n",
    "# We'll talk about configuration in a bit. For now  we just need to set a secret key in order to use the flask session.\n",
    "app.config[\"SECRET_KEY\"] = \"I'm a totally unguessable secret.\"\n",
    "\n",
    "@app.route(\"/\")\n",
    "def session_example():\n",
    "    # The session object isn't a defaultdict\n",
    "    try:\n",
    "        session[\"number_of_calls\"] += 1\n",
    "    except KeyError:\n",
    "        session[\"number_of_calls\"] = 1\n",
    "    return str(session[\"number_of_calls\"])\n",
    "\n",
    "app.run(host=\"0.0.0.0\", port=5003)"
   ]
  },
  {
   "cell_type": "markdown",
   "metadata": {
    "slideshow": {
     "slide_type": "fragment"
    }
   },
   "source": [
    "[Session Example](http://localhost:5003)"
   ]
  },
  {
   "cell_type": "markdown",
   "metadata": {
    "slideshow": {
     "slide_type": "slide"
    }
   },
   "source": [
    "###PLEASE NOTE!\n",
    "By default Flask will uses cookies to track user sessions. It's not server side tracking. Data is stored in the cookies\n",
    "\n",
    "[If you want server side sessions look here](http://flask.pocoo.org/snippets/75/)\n",
    "\n",
    "[If you'd really like to know the nitty gritty details of how Flask bounds objects and contexts then check out this slide deck](https://speakerdeck.com/mitsuhiko/advanced-flask-patterns-1)"
   ]
  },
  {
   "cell_type": "markdown",
   "metadata": {
    "slideshow": {
     "slide_type": "slide"
    }
   },
   "source": [
    "##The g Object\n",
    "\n",
    "The `g` (global) object is bound to the application context. This means that it's data that's available to all sessions. Many Flask deployments use the global object to pass flags to all sessions. The example we're going to use is to create a count for all user / sessions."
   ]
  },
  {
   "cell_type": "code",
   "execution_count": null,
   "metadata": {
    "collapsed": false,
    "scrolled": true,
    "slideshow": {
     "slide_type": "fragment"
    }
   },
   "outputs": [],
   "source": [
    "from flask import Flask, g\n",
    "app = Flask(\"the_flask_module\")\n",
    "\n",
    "# We'll talk about configuration in a bit. For now  we just\n",
    "# need to set a secret key in order to use the flask \n",
    "# session.\n",
    "app.config[\"SECRET_KEY\"] = \"I'm totally a unguessable secret.\"\n",
    "\n",
    "@app.before_request\n",
    "def before_request():\n",
    "    try:\n",
    "        g[\"number_of_calls\"] += 1\n",
    "    except KeyError:\n",
    "        g[\"number_of_calls\"] = 1\n",
    "\n",
    "@app.route(\"/\")\n",
    "def session_example():\n",
    "    return str(g.get(\"number_of_calls\", None))\n",
    "\n",
    "app.run(host=\"0.0.0.0\", port=5000)\n",
    "# You now have a running web server. go to http://localhost:5000/ in a web browser or curl http://localhost:5000"
   ]
  },
  {
   "cell_type": "markdown",
   "metadata": {
    "slideshow": {
     "slide_type": "fragment"
    }
   },
   "source": [
    "[Global Object Example](http://localhost:5000/)"
   ]
  },
  {
   "cell_type": "code",
   "execution_count": null,
   "metadata": {
    "collapsed": false,
    "slideshow": {
     "slide_type": "slide"
    }
   },
   "outputs": [],
   "source": [
    "from IPython.display import Image\n",
    "import os\n",
    "# Created from https://github.com/alex/what-happens-when\n",
    "# This is suuuper simplified and doesn't contain any error handling \n",
    "# (which is where http gets hairy).\n",
    "file_path = os.path.join(\"the_flask_module\", \"dumbed_down_http_state_machine.jpg\")\n",
    "Image(filename=file_path) # This is extra information if you're interested.\n"
   ]
  },
  {
   "cell_type": "code",
   "execution_count": null,
   "metadata": {
    "collapsed": false,
    "slideshow": {
     "slide_type": "slide"
    }
   },
   "outputs": [],
   "source": [
    "from IPython.display import Image\n",
    "import os\n",
    "file_path = os.path.join(\"the_flask_module\", \"high_level_flask_state_machine.jpg\")\n",
    "# Created from https://speakerdeck.com/mitsuhiko/advanced-flask-patterns-1\n",
    "Image(filename=file_path)# This is extra information if you're interested."
   ]
  },
  {
   "cell_type": "markdown",
   "metadata": {
    "slideshow": {
     "slide_type": "slide"
    }
   },
   "source": [
    "# Where do I go from here?\n",
    "[From here we can look at a completed example project](http://localhost:8888/tree/heart_beat) or [we can start looking at some useful Flask Extensions]() \n"
   ]
  },
  {
   "cell_type": "markdown",
   "metadata": {
    "slideshow": {
     "slide_type": "slide"
    }
   },
   "source": [
    "## What about APIs?\n",
    "[Flask-RESTful](https://flask-restful.readthedocs.org/en/0.3.3/) and [eve](http://python-eve.org/) are two projects focused on API design using Flask."
   ]
  },
  {
   "cell_type": "markdown",
   "metadata": {
    "slideshow": {
     "slide_type": "slide"
    }
   },
   "source": [
    "##Also, What Else Is Out There?\n",
    "\n",
    "Lastly, this talk is not about starting a framework war. Python is a very strong language for http request and reponses and there's plenty to choose from and often the frameworks steal idea's from each other.\n",
    "\n",
    "[Django has some of the best tutorials on the internet](https://www.djangoproject.com/)\n",
    "\n",
    "[I've heard many good things about bottle](http://bottlepy.org/docs/dev/index.html)\n",
    "\n",
    "[Pyramid is a little harder to setup but is also a wonderful project](https://pyramid.readthedocs.org/en/latest/)"
   ]
  },
  {
   "cell_type": "markdown",
   "metadata": {},
   "source": [
    "#Glossary\n",
    "[Web Framework](https://stackoverflow.com/questions/4507506/what-is-a-web-framework-how-does-it-compare-with-lamp)\n",
    "\n",
    "[Second Explenation for Web Framework](https://www.jeffknupp.com/blog/2014/03/03/what-is-a-web-framework/)\n",
    "\n",
    "[module (specifically Python Module)](https://programmers.stackexchange.com/questions/111871/module-vs-package)\n",
    "\n",
    "[Template Language (engine)](https://en.wikipedia.org/wiki/Web_template_system)\n",
    "\n",
    "For this document, a Template is just a specific file that a template language (engine) will use to convert into another document format.\n",
    "\n",
    "[HTTP Requests](http://rve.org.uk/dumprequest)\n",
    "\n",
    "[HTTP Responses](https://stackoverflow.com/questions/4726515/what-http-response-headers-are-required)\n",
    "\n",
    "[RESTful programming](https://stackoverflow.com/questions/671118/what-exactly-is-restful-programming)\n"
   ]
  }
 ],
 "metadata": {
  "celltoolbar": "Slideshow",
  "kernelspec": {
   "display_name": "Python 3",
   "language": "python",
   "name": "python3"
  },
  "language_info": {
   "codemirror_mode": {
    "name": "ipython",
    "version": 3
   },
   "file_extension": ".py",
   "mimetype": "text/x-python",
   "name": "python",
   "nbconvert_exporter": "python",
   "pygments_lexer": "ipython3",
   "version": "3.4.2"
  }
 },
 "nbformat": 4,
 "nbformat_minor": 0
}
