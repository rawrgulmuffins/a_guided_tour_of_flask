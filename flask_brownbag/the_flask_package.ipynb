{
 "cells": [
  {
   "cell_type": "markdown",
   "metadata": {},
   "source": [
    "Hello World,\n",
    "\n",
    "My name is Alex LordThorsen and I'm going to be talking about Flask and (if we have time) a couple of Flask Plugins.\n",
    "\n",
    "#Topics:\n",
    "* Why Flask?\n",
    "* A Simple Example\n",
    "* The app Object\n",
    "* Routes Using The App\n",
    "* What Do Views Return?\n",
    "* The Development Server\n",
    "* The Debug Stack Traces and Consoles\n",
    "* An Example Template\n",
    "* Returning JSON\n",
    "* The g and session Object\n",
    "* Request Methods and Metadata\n",
    "* Configuration\n",
    "* All Flask Objects\n"
   ]
  },
  {
   "cell_type": "markdown",
   "metadata": {},
   "source": [
    "#Why Flask?\n",
    "Flask is very simple and clean. It amazing easy to create a working application which serves real data (the heart_beat example is production code with 588 lines of code of which 231 is tests and 51 are project configuration).\n",
    "\n",
    "[The flaskr example page](https://github.com/mitsuhiko/flask/blob/master/examples/flaskr/flaskr.py) is a fully functional blog (logins, logouts, page addition, homepage) in 110 lines of code backed by a sqlite3 database.\n",
    "\n",
    "Flask is also just an [amazing code base](https://github.com/mitsuhiko/flask). THere has been more then one occuasion where I've looked at the source code to answer a question and it's always a pleasant experience.\n",
    "\n",
    "The Flask community is also very active and rabid. [The extensions library is filled with Gem's](http://flask.pocoo.org/extensions/) like [Flask-Cache](https://pythonhosted.org/Flask-Cache/), [Flask-DebugToolbar](http://flask.pocoo.org/extensions/), [Flask-lesscss](https://pypi.python.org/pypi/flask-lesscss), [Flask-login](https://pypi.python.org/pypi/Flask-Login), [Flask-WTF](https://pypi.python.org/pypi/Flask-WTF)and [Flask-SQlAlchemy](https://pypi.python.org/pypi/Flask-SQLAlchemy)\n",
    "\n",
    "##What Else Is Out There?\n",
    "[Django has some of the best tutorials on the internet](https://www.djangoproject.com/)\n",
    "\n",
    "[I've heard many good things about bottle](http://bottlepy.org/docs/dev/index.html)\n",
    "\n",
    "[Pyramid is a little harder to setup but is also a wonderful project](https://pyramid.readthedocs.org/en/latest/)"
   ]
  },
  {
   "cell_type": "code",
   "execution_count": 30,
   "metadata": {
    "collapsed": false,
    "scrolled": false
   },
   "outputs": [
    {
     "ename": "AttributeError",
     "evalue": "'NoneType' object has no attribute 'loader'",
     "output_type": "error",
     "traceback": [
      "\u001b[1;31m---------------------------------------------------------------------------\u001b[0m",
      "\u001b[1;31mAttributeError\u001b[0m                            Traceback (most recent call last)",
      "\u001b[1;32m<ipython-input-30-a39face6fd93>\u001b[0m in \u001b[0;36m<module>\u001b[1;34m()\u001b[0m\n\u001b[0;32m      4\u001b[0m \u001b[1;31m#app = Flask(\"testing\")\u001b[0m\u001b[1;33m\u001b[0m\u001b[1;33m\u001b[0m\u001b[0m\n\u001b[0;32m      5\u001b[0m \u001b[1;32mimport\u001b[0m \u001b[0mpkgutil\u001b[0m\u001b[1;33m\u001b[0m\u001b[0m\n\u001b[1;32m----> 6\u001b[1;33m \u001b[0mpkgutil\u001b[0m\u001b[1;33m.\u001b[0m\u001b[0mget_loader\u001b[0m\u001b[1;33m(\u001b[0m\u001b[1;34m\"testing\"\u001b[0m\u001b[1;33m)\u001b[0m\u001b[1;33m\u001b[0m\u001b[0m\n\u001b[0m",
      "\u001b[1;32m/usr/lib/python3.4/pkgutil.py\u001b[0m in \u001b[0;36mget_loader\u001b[1;34m(module_or_name)\u001b[0m\n\u001b[0;32m    465\u001b[0m     \u001b[1;32melse\u001b[0m\u001b[1;33m:\u001b[0m\u001b[1;33m\u001b[0m\u001b[0m\n\u001b[0;32m    466\u001b[0m         \u001b[0mfullname\u001b[0m \u001b[1;33m=\u001b[0m \u001b[0mmodule_or_name\u001b[0m\u001b[1;33m\u001b[0m\u001b[0m\n\u001b[1;32m--> 467\u001b[1;33m     \u001b[1;32mreturn\u001b[0m \u001b[0mfind_loader\u001b[0m\u001b[1;33m(\u001b[0m\u001b[0mfullname\u001b[0m\u001b[1;33m)\u001b[0m\u001b[1;33m\u001b[0m\u001b[0m\n\u001b[0m\u001b[0;32m    468\u001b[0m \u001b[1;33m\u001b[0m\u001b[0m\n\u001b[0;32m    469\u001b[0m \u001b[1;33m\u001b[0m\u001b[0m\n",
      "\u001b[1;32m/usr/lib/python3.4/pkgutil.py\u001b[0m in \u001b[0;36mfind_loader\u001b[1;34m(fullname)\u001b[0m\n\u001b[0;32m    486\u001b[0m         \u001b[0mmsg\u001b[0m \u001b[1;33m=\u001b[0m \u001b[1;34m\"Error while finding loader for {!r} ({}: {})\"\u001b[0m\u001b[1;33m\u001b[0m\u001b[0m\n\u001b[0;32m    487\u001b[0m         \u001b[1;32mraise\u001b[0m \u001b[0mImportError\u001b[0m\u001b[1;33m(\u001b[0m\u001b[0mmsg\u001b[0m\u001b[1;33m.\u001b[0m\u001b[0mformat\u001b[0m\u001b[1;33m(\u001b[0m\u001b[0mfullname\u001b[0m\u001b[1;33m,\u001b[0m \u001b[0mtype\u001b[0m\u001b[1;33m(\u001b[0m\u001b[0mex\u001b[0m\u001b[1;33m)\u001b[0m\u001b[1;33m,\u001b[0m \u001b[0mex\u001b[0m\u001b[1;33m)\u001b[0m\u001b[1;33m)\u001b[0m \u001b[1;32mfrom\u001b[0m \u001b[0mex\u001b[0m\u001b[1;33m\u001b[0m\u001b[0m\n\u001b[1;32m--> 488\u001b[1;33m     \u001b[1;32mreturn\u001b[0m \u001b[0mspec\u001b[0m\u001b[1;33m.\u001b[0m\u001b[0mloader\u001b[0m\u001b[1;33m\u001b[0m\u001b[0m\n\u001b[0m\u001b[0;32m    489\u001b[0m \u001b[1;33m\u001b[0m\u001b[0m\n\u001b[0;32m    490\u001b[0m \u001b[1;33m\u001b[0m\u001b[0m\n",
      "\u001b[1;31mAttributeError\u001b[0m: 'NoneType' object has no attribute 'loader'"
     ]
    }
   ],
   "source": [
    "from flask import Flask\n",
    "from flask.helpers import get_root_path\n",
    "#get_root_path(None)\n",
    "#app = Flask(\"testing\")\n",
    "import pkgutil\n",
    "pkgutil.get_loader(\"testing\")\n"
   ]
  },
  {
   "cell_type": "code",
   "execution_count": 19,
   "metadata": {
    "collapsed": false
   },
   "outputs": [
    {
     "data": {
      "text/plain": [
       "'/home/alord/git/flask_brownbag/flask_brownbag'"
      ]
     },
     "execution_count": 19,
     "metadata": {},
     "output_type": "execute_result"
    }
   ],
   "source": [
    "import os\n",
    "os.getcwd()\n"
   ]
  },
  {
   "cell_type": "code",
   "execution_count": null,
   "metadata": {
    "collapsed": true
   },
   "outputs": [],
   "source": []
  }
 ],
 "metadata": {
  "kernelspec": {
   "display_name": "Python 3",
   "language": "python",
   "name": "python3"
  },
  "language_info": {
   "codemirror_mode": {
    "name": "ipython",
    "version": 3
   },
   "file_extension": ".py",
   "mimetype": "text/x-python",
   "name": "python",
   "nbconvert_exporter": "python",
   "pygments_lexer": "ipython3",
   "version": "3.4.0"
  }
 },
 "nbformat": 4,
 "nbformat_minor": 0
}
